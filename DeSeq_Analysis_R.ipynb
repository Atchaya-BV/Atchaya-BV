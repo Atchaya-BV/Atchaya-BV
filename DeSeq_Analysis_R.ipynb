{
  "nbformat": 4,
  "nbformat_minor": 0,
  "metadata": {
    "colab": {
      "provenance": [],
      "authorship_tag": "ABX9TyOU4q+N2UYefGa3sBgMfFSm",
      "include_colab_link": true
    },
    "kernelspec": {
      "name": "ir",
      "display_name": "R"
    },
    "language_info": {
      "name": "R"
    }
  },
  "cells": [
    {
      "cell_type": "markdown",
      "metadata": {
        "id": "view-in-github",
        "colab_type": "text"
      },
      "source": [
        "<a href=\"https://colab.research.google.com/github/Atchaya-BV/Atchaya-BV/blob/main/DeSeq_Analysis_R.ipynb\" target=\"_parent\"><img src=\"https://colab.research.google.com/assets/colab-badge.svg\" alt=\"Open In Colab\"/></a>"
      ]
    },
    {
      "cell_type": "markdown",
      "source": [
        "# Differentially expressed gene analysis using DESeq2 tool in R"
      ],
      "metadata": {
        "id": "jcXublBm1AcJ"
      }
    },
    {
      "cell_type": "markdown",
      "source": [
        "#step 1 Set up the working directory"
      ],
      "metadata": {
        "id": "6xbz_D9L1SQu"
      }
    },
    {
      "cell_type": "code",
      "execution_count": 1,
      "metadata": {
        "colab": {
          "base_uri": "https://localhost:8080/",
          "height": 34
        },
        "id": "7VrbxuTvroDN",
        "outputId": "121f7645-cec9-4eeb-f00f-d7a290b7e2b1"
      },
      "outputs": [
        {
          "output_type": "display_data",
          "data": {
            "text/html": [
              "'/content'"
            ],
            "text/markdown": "'/content'",
            "text/latex": "'/content'",
            "text/plain": [
              "[1] \"/content\""
            ]
          },
          "metadata": {}
        }
      ],
      "source": [
        "getwd()"
      ]
    },
    {
      "cell_type": "markdown",
      "source": [
        "#step 2 Install the required package DESeq2"
      ],
      "metadata": {
        "id": "ALf-DNyB1Wgo"
      }
    },
    {
      "cell_type": "code",
      "source": [
        "if (!require(\"BiocManager\", quietly = TRUE))\n",
        "  install.packages(\"BiocManager\")\n",
        "\n",
        "BiocManager::install(\"DESeq2\")"
      ],
      "metadata": {
        "colab": {
          "base_uri": "https://localhost:8080/"
        },
        "id": "6-wm14H0wSLc",
        "outputId": "145050b8-162a-4fdd-d0a7-faf84b606d3b"
      },
      "execution_count": 5,
      "outputs": [
        {
          "output_type": "stream",
          "name": "stderr",
          "text": [
            "'getOption(\"repos\")' replaces Bioconductor standard repositories, see\n",
            "'help(\"repositories\", package = \"BiocManager\")' for details.\n",
            "Replacement repositories:\n",
            "    CRAN: https://cran.rstudio.com\n",
            "\n",
            "Bioconductor version 3.20 (BiocManager 1.30.25), R 4.4.2 (2024-10-31)\n",
            "\n",
            "Installing package(s) 'DESeq2'\n",
            "\n",
            "also installing the dependencies ‘DelayedArray’, ‘SummarizedExperiment’\n",
            "\n",
            "\n",
            "Old packages: 'data.table', 'processx'\n",
            "\n"
          ]
        }
      ]
    },
    {
      "cell_type": "markdown",
      "source": [
        "#step 3 Load DESeq2"
      ],
      "metadata": {
        "id": "QEUk_6s31aDI"
      }
    },
    {
      "cell_type": "code",
      "source": [
        "library(\"DESeq2\")"
      ],
      "metadata": {
        "colab": {
          "base_uri": "https://localhost:8080/"
        },
        "id": "NLnjc92XwSH9",
        "outputId": "a3369c22-d944-4366-a56d-dcbcc2c7a394"
      },
      "execution_count": 6,
      "outputs": [
        {
          "output_type": "stream",
          "name": "stderr",
          "text": [
            "Loading required package: S4Vectors\n",
            "\n",
            "Loading required package: stats4\n",
            "\n",
            "Loading required package: BiocGenerics\n",
            "\n",
            "\n",
            "Attaching package: ‘BiocGenerics’\n",
            "\n",
            "\n",
            "The following objects are masked from ‘package:stats’:\n",
            "\n",
            "    IQR, mad, sd, var, xtabs\n",
            "\n",
            "\n",
            "The following objects are masked from ‘package:base’:\n",
            "\n",
            "    anyDuplicated, aperm, append, as.data.frame, basename, cbind,\n",
            "    colnames, dirname, do.call, duplicated, eval, evalq, Filter, Find,\n",
            "    get, grep, grepl, intersect, is.unsorted, lapply, Map, mapply,\n",
            "    match, mget, order, paste, pmax, pmax.int, pmin, pmin.int,\n",
            "    Position, rank, rbind, Reduce, rownames, sapply, saveRDS, setdiff,\n",
            "    table, tapply, union, unique, unsplit, which.max, which.min\n",
            "\n",
            "\n",
            "\n",
            "Attaching package: ‘S4Vectors’\n",
            "\n",
            "\n",
            "The following object is masked from ‘package:utils’:\n",
            "\n",
            "    findMatches\n",
            "\n",
            "\n",
            "The following objects are masked from ‘package:base’:\n",
            "\n",
            "    expand.grid, I, unname\n",
            "\n",
            "\n",
            "Loading required package: IRanges\n",
            "\n",
            "Loading required package: GenomicRanges\n",
            "\n",
            "Loading required package: GenomeInfoDb\n",
            "\n",
            "Loading required package: SummarizedExperiment\n",
            "\n",
            "Loading required package: MatrixGenerics\n",
            "\n",
            "Loading required package: matrixStats\n",
            "\n",
            "\n",
            "Attaching package: ‘MatrixGenerics’\n",
            "\n",
            "\n",
            "The following objects are masked from ‘package:matrixStats’:\n",
            "\n",
            "    colAlls, colAnyNAs, colAnys, colAvgsPerRowSet, colCollapse,\n",
            "    colCounts, colCummaxs, colCummins, colCumprods, colCumsums,\n",
            "    colDiffs, colIQRDiffs, colIQRs, colLogSumExps, colMadDiffs,\n",
            "    colMads, colMaxs, colMeans2, colMedians, colMins, colOrderStats,\n",
            "    colProds, colQuantiles, colRanges, colRanks, colSdDiffs, colSds,\n",
            "    colSums2, colTabulates, colVarDiffs, colVars, colWeightedMads,\n",
            "    colWeightedMeans, colWeightedMedians, colWeightedSds,\n",
            "    colWeightedVars, rowAlls, rowAnyNAs, rowAnys, rowAvgsPerColSet,\n",
            "    rowCollapse, rowCounts, rowCummaxs, rowCummins, rowCumprods,\n",
            "    rowCumsums, rowDiffs, rowIQRDiffs, rowIQRs, rowLogSumExps,\n",
            "    rowMadDiffs, rowMads, rowMaxs, rowMeans2, rowMedians, rowMins,\n",
            "    rowOrderStats, rowProds, rowQuantiles, rowRanges, rowRanks,\n",
            "    rowSdDiffs, rowSds, rowSums2, rowTabulates, rowVarDiffs, rowVars,\n",
            "    rowWeightedMads, rowWeightedMeans, rowWeightedMedians,\n",
            "    rowWeightedSds, rowWeightedVars\n",
            "\n",
            "\n",
            "Loading required package: Biobase\n",
            "\n",
            "Welcome to Bioconductor\n",
            "\n",
            "    Vignettes contain introductory material; view with\n",
            "    'browseVignettes()'. To cite Bioconductor, see\n",
            "    'citation(\"Biobase\")', and for packages 'citation(\"pkgname\")'.\n",
            "\n",
            "\n",
            "\n",
            "Attaching package: ‘Biobase’\n",
            "\n",
            "\n",
            "The following object is masked from ‘package:MatrixGenerics’:\n",
            "\n",
            "    rowMedians\n",
            "\n",
            "\n",
            "The following objects are masked from ‘package:matrixStats’:\n",
            "\n",
            "    anyMissing, rowMedians\n",
            "\n",
            "\n"
          ]
        }
      ]
    },
    {
      "cell_type": "markdown",
      "source": [
        "#load count data"
      ],
      "metadata": {
        "id": "r-Stk3Xj1irQ"
      }
    },
    {
      "cell_type": "code",
      "source": [
        "Count_data = read.csv(file = \"/content/Count_matrix.csv\", header = T, sep = \",\",row.names=1,check.names = FALSE)"
      ],
      "metadata": {
        "id": "JRebny3swSFz"
      },
      "execution_count": 7,
      "outputs": []
    },
    {
      "cell_type": "code",
      "source": [
        "dim(Count_data)"
      ],
      "metadata": {
        "colab": {
          "base_uri": "https://localhost:8080/",
          "height": 34
        },
        "id": "LVfZ-oK-wSDF",
        "outputId": "ee627761-8e6e-49eb-a02c-aebc80bc492a"
      },
      "execution_count": 8,
      "outputs": [
        {
          "output_type": "display_data",
          "data": {
            "text/html": [
              "<style>\n",
              ".list-inline {list-style: none; margin:0; padding: 0}\n",
              ".list-inline>li {display: inline-block}\n",
              ".list-inline>li:not(:last-child)::after {content: \"\\00b7\"; padding: 0 .5ex}\n",
              "</style>\n",
              "<ol class=list-inline><li>60660</li><li>168</li></ol>\n"
            ],
            "text/markdown": "1. 60660\n2. 168\n\n\n",
            "text/latex": "\\begin{enumerate*}\n\\item 60660\n\\item 168\n\\end{enumerate*}\n",
            "text/plain": [
              "[1] 60660   168"
            ]
          },
          "metadata": {}
        }
      ]
    },
    {
      "cell_type": "code",
      "source": [
        "Count_data"
      ],
      "metadata": {
        "colab": {
          "base_uri": "https://localhost:8080/",
          "height": 1000
        },
        "id": "uNzU49HywSAV",
        "outputId": "61885909-e20e-4b22-84a1-28591e53d7a8"
      },
      "execution_count": 9,
      "outputs": [
        {
          "output_type": "display_data",
          "data": {
            "text/html": [
              "<table class=\"dataframe\">\n",
              "<caption>A data.frame: 60660 × 168</caption>\n",
              "<thead>\n",
              "\t<tr><th></th><th scope=col>TCGA-FB-AAPY-01A</th><th scope=col>TCGA-IB-A7LX-01A</th><th scope=col>TCGA-XN-A8T5-01A</th><th scope=col>TCGA-HZ-A77O-01A</th><th scope=col>TCGA-FB-AAPQ-01A</th><th scope=col>TCGA-3A-A9IL-01A</th><th scope=col>TCGA-FB-AAPS-01A</th><th scope=col>TCGA-IB-A7M4-01A</th><th scope=col>TCGA-IB-8126-01A</th><th scope=col>TCGA-FB-AAPP-01A</th><th scope=col>⋯</th><th scope=col>TCGA-FB-A78T-01A</th><th scope=col>TCGA-HZ-7919-01A</th><th scope=col>TCGA-IB-AAUP-01A</th><th scope=col>TCGA-2J-AABI-01A</th><th scope=col>TCGA-3A-A9IV-01A</th><th scope=col>TCGA-YY-A8LH-01A</th><th scope=col>TCGA-HV-A5A3-11A</th><th scope=col>TCGA-H6-A45N-11A</th><th scope=col>TCGA-YB-A89D-11A</th><th scope=col>TCGA-H6-8124-11A</th></tr>\n",
              "\t<tr><th></th><th scope=col>&lt;int&gt;</th><th scope=col>&lt;int&gt;</th><th scope=col>&lt;int&gt;</th><th scope=col>&lt;int&gt;</th><th scope=col>&lt;int&gt;</th><th scope=col>&lt;int&gt;</th><th scope=col>&lt;int&gt;</th><th scope=col>&lt;int&gt;</th><th scope=col>&lt;int&gt;</th><th scope=col>&lt;int&gt;</th><th scope=col>⋯</th><th scope=col>&lt;int&gt;</th><th scope=col>&lt;int&gt;</th><th scope=col>&lt;int&gt;</th><th scope=col>&lt;int&gt;</th><th scope=col>&lt;int&gt;</th><th scope=col>&lt;int&gt;</th><th scope=col>&lt;int&gt;</th><th scope=col>&lt;int&gt;</th><th scope=col>&lt;int&gt;</th><th scope=col>&lt;int&gt;</th></tr>\n",
              "</thead>\n",
              "<tbody>\n",
              "\t<tr><th scope=row>ENSG00000000003.15</th><td> 1421</td><td>3291</td><td>1257</td><td> 1585</td><td> 553</td><td>  771</td><td> 1175</td><td>2007</td><td> 1734</td><td> 1191</td><td>⋯</td><td> 1525</td><td> 1777</td><td> 1319</td><td> 2178</td><td>  158</td><td> 1907</td><td> 3092</td><td> 369</td><td> 1593</td><td>  3738</td></tr>\n",
              "\t<tr><th scope=row>ENSG00000000005.6</th><td>    3</td><td>   0</td><td>   2</td><td>    1</td><td>   0</td><td>    1</td><td>   54</td><td>   0</td><td>   47</td><td>    2</td><td>⋯</td><td>    1</td><td>    0</td><td>    4</td><td>    0</td><td>    2</td><td>    0</td><td>    1</td><td>   5</td><td>  331</td><td>     4</td></tr>\n",
              "\t<tr><th scope=row>ENSG00000000419.13</th><td>  924</td><td>1711</td><td>1195</td><td> 1419</td><td> 946</td><td>  774</td><td>  877</td><td>2374</td><td> 1263</td><td> 1403</td><td>⋯</td><td> 1320</td><td> 1915</td><td> 1386</td><td> 2149</td><td> 1059</td><td> 1558</td><td> 1092</td><td>1023</td><td> 1228</td><td>  1532</td></tr>\n",
              "\t<tr><th scope=row>ENSG00000000457.14</th><td>  691</td><td>1164</td><td> 400</td><td>  539</td><td> 605</td><td>  464</td><td>  371</td><td> 479</td><td>  532</td><td>  609</td><td>⋯</td><td> 1052</td><td> 1025</td><td>  750</td><td>  821</td><td>  310</td><td>  777</td><td>  610</td><td> 706</td><td>  348</td><td>   959</td></tr>\n",
              "\t<tr><th scope=row>ENSG00000000460.17</th><td>  138</td><td> 457</td><td> 113</td><td>  232</td><td>  86</td><td>   78</td><td>  106</td><td> 206</td><td>  124</td><td>  156</td><td>⋯</td><td>  232</td><td>  329</td><td>  319</td><td>  387</td><td>  101</td><td>  224</td><td>  148</td><td> 220</td><td>  132</td><td>   243</td></tr>\n",
              "\t<tr><th scope=row>ENSG00000000938.13</th><td> 1477</td><td> 209</td><td> 829</td><td>  526</td><td> 153</td><td>  311</td><td>  769</td><td> 520</td><td>  463</td><td>   54</td><td>⋯</td><td> 1949</td><td>  598</td><td> 1258</td><td>  815</td><td>  105</td><td>  162</td><td> 1252</td><td>5757</td><td> 5016</td><td>  2046</td></tr>\n",
              "\t<tr><th scope=row>ENSG00000000971.16</th><td> 7064</td><td>7662</td><td>8058</td><td> 3961</td><td>3347</td><td> 2221</td><td> 4624</td><td>2807</td><td> 8077</td><td>  244</td><td>⋯</td><td> 5561</td><td> 6235</td><td> 7102</td><td>11415</td><td> 1308</td><td> 1458</td><td> 2837</td><td> 894</td><td> 5425</td><td>  7427</td></tr>\n",
              "\t<tr><th scope=row>ENSG00000001036.14</th><td> 2726</td><td>2171</td><td>1509</td><td> 2128</td><td>1938</td><td> 1697</td><td> 1806</td><td>2787</td><td> 1449</td><td> 1323</td><td>⋯</td><td> 2793</td><td> 1889</td><td> 2148</td><td> 1227</td><td> 1418</td><td> 2010</td><td> 1780</td><td> 799</td><td> 2322</td><td>  2836</td></tr>\n",
              "\t<tr><th scope=row>ENSG00000001084.13</th><td> 1107</td><td>1790</td><td>1104</td><td>  649</td><td> 816</td><td>  968</td><td>  616</td><td>3073</td><td> 1227</td><td>  739</td><td>⋯</td><td> 1169</td><td> 1593</td><td> 1858</td><td>  929</td><td> 4282</td><td> 1182</td><td> 1071</td><td>2380</td><td> 1172</td><td>  2602</td></tr>\n",
              "\t<tr><th scope=row>ENSG00000001167.14</th><td>  836</td><td>2121</td><td> 804</td><td> 1047</td><td>1175</td><td>  640</td><td>  671</td><td>1172</td><td>  892</td><td>  668</td><td>⋯</td><td> 1912</td><td> 1357</td><td> 1462</td><td> 1699</td><td>  389</td><td> 1582</td><td> 1082</td><td>1303</td><td> 1100</td><td>  1625</td></tr>\n",
              "\t<tr><th scope=row>ENSG00000001460.18</th><td>  496</td><td> 545</td><td> 369</td><td>  337</td><td> 124</td><td>  469</td><td>  322</td><td> 463</td><td>  347</td><td>  253</td><td>⋯</td><td>  479</td><td> 1006</td><td>  483</td><td>  452</td><td>  410</td><td>  497</td><td>  472</td><td> 229</td><td>  401</td><td>   738</td></tr>\n",
              "\t<tr><th scope=row>ENSG00000001461.17</th><td> 1471</td><td>1459</td><td>2098</td><td> 1288</td><td> 525</td><td> 1368</td><td>  872</td><td>1392</td><td> 1877</td><td> 1383</td><td>⋯</td><td> 1814</td><td> 4433</td><td> 2309</td><td> 1408</td><td> 1790</td><td> 1793</td><td> 1465</td><td>1295</td><td> 1010</td><td>  2790</td></tr>\n",
              "\t<tr><th scope=row>ENSG00000001497.18</th><td> 1898</td><td>2827</td><td>1510</td><td> 2350</td><td> 704</td><td> 3556</td><td> 1301</td><td>1993</td><td> 1296</td><td> 1555</td><td>⋯</td><td> 2511</td><td> 1857</td><td> 2287</td><td> 4553</td><td> 2066</td><td> 2777</td><td> 1695</td><td>2275</td><td> 1558</td><td>  2176</td></tr>\n",
              "\t<tr><th scope=row>ENSG00000001561.7</th><td>  509</td><td>1000</td><td> 895</td><td>  980</td><td>1616</td><td> 1566</td><td>  679</td><td> 497</td><td> 1630</td><td>  544</td><td>⋯</td><td> 1267</td><td> 1463</td><td>  880</td><td>  353</td><td> 1780</td><td> 1199</td><td> 1135</td><td>1249</td><td> 1097</td><td>  1933</td></tr>\n",
              "\t<tr><th scope=row>ENSG00000001617.12</th><td> 1277</td><td>1837</td><td>2022</td><td> 2234</td><td> 787</td><td> 1344</td><td> 1398</td><td>1757</td><td>  935</td><td>  262</td><td>⋯</td><td>  815</td><td> 1882</td><td> 2274</td><td> 2714</td><td>  739</td><td> 1530</td><td> 1155</td><td>1066</td><td> 1859</td><td>  1089</td></tr>\n",
              "\t<tr><th scope=row>ENSG00000001626.16</th><td>11010</td><td>7062</td><td>2555</td><td>14530</td><td>3904</td><td> 4180</td><td> 4301</td><td>2723</td><td>38367</td><td>   24</td><td>⋯</td><td>17425</td><td>17816</td><td> 3937</td><td>  439</td><td>   21</td><td> 3145</td><td>45994</td><td>  17</td><td> 7319</td><td>102761</td></tr>\n",
              "\t<tr><th scope=row>ENSG00000001629.10</th><td> 1621</td><td>5760</td><td>1914</td><td> 2178</td><td> 942</td><td> 1917</td><td> 1517</td><td>2374</td><td> 2353</td><td> 2345</td><td>⋯</td><td> 2701</td><td> 4032</td><td> 3333</td><td> 2955</td><td> 2878</td><td> 2065</td><td> 2065</td><td>1922</td><td> 2236</td><td>  4006</td></tr>\n",
              "\t<tr><th scope=row>ENSG00000001630.17</th><td>   54</td><td> 234</td><td>  97</td><td>  186</td><td> 298</td><td>  125</td><td>   43</td><td> 184</td><td>   99</td><td>  215</td><td>⋯</td><td>  140</td><td>   93</td><td>   84</td><td>   78</td><td>  162</td><td>  148</td><td>   44</td><td>  31</td><td>  112</td><td>   160</td></tr>\n",
              "\t<tr><th scope=row>ENSG00000001631.16</th><td>  276</td><td> 485</td><td> 224</td><td>  243</td><td> 117</td><td>  549</td><td>  203</td><td> 228</td><td>  245</td><td>  348</td><td>⋯</td><td>  405</td><td>  329</td><td>  330</td><td>  379</td><td>  498</td><td>  320</td><td>  211</td><td> 424</td><td>  188</td><td>   283</td></tr>\n",
              "\t<tr><th scope=row>ENSG00000002016.18</th><td>  421</td><td>1326</td><td> 266</td><td>  279</td><td> 123</td><td>  700</td><td>  410</td><td> 361</td><td>  332</td><td>  281</td><td>⋯</td><td>  841</td><td>  226</td><td>  474</td><td> 2057</td><td>  304</td><td>  387</td><td>  374</td><td> 598</td><td>  255</td><td>   407</td></tr>\n",
              "\t<tr><th scope=row>ENSG00000002079.14</th><td>   27</td><td>4682</td><td>   5</td><td>  381</td><td>  34</td><td>   21</td><td>    3</td><td>  69</td><td>   11</td><td>   57</td><td>⋯</td><td>  163</td><td>   86</td><td>   85</td><td>  463</td><td>    2</td><td>   53</td><td>   28</td><td>  14</td><td>   60</td><td>    18</td></tr>\n",
              "\t<tr><th scope=row>ENSG00000002330.14</th><td>  771</td><td> 543</td><td> 447</td><td>  620</td><td> 418</td><td>  478</td><td>  475</td><td> 599</td><td>  226</td><td>  276</td><td>⋯</td><td>  619</td><td>   62</td><td>  387</td><td> 1181</td><td>  288</td><td>  688</td><td>  372</td><td> 180</td><td>  487</td><td>   468</td></tr>\n",
              "\t<tr><th scope=row>ENSG00000002549.12</th><td> 4350</td><td>3062</td><td>4015</td><td> 3460</td><td>1589</td><td> 1844</td><td> 2804</td><td>4365</td><td> 3956</td><td> 2494</td><td>⋯</td><td> 4019</td><td> 6790</td><td> 5826</td><td> 4082</td><td> 1854</td><td> 6019</td><td> 4681</td><td>6771</td><td> 5233</td><td>  6495</td></tr>\n",
              "\t<tr><th scope=row>ENSG00000002586.20</th><td>11870</td><td>6960</td><td>9539</td><td>10295</td><td>6841</td><td>54412</td><td>23788</td><td>7550</td><td> 5850</td><td> 2676</td><td>⋯</td><td> 8883</td><td> 9616</td><td>16607</td><td>18880</td><td>10431</td><td> 8519</td><td>14198</td><td>4468</td><td>20703</td><td> 14544</td></tr>\n",
              "\t<tr><th scope=row>ENSG00000002586.20_PAR_Y</th><td>    0</td><td>   0</td><td>   0</td><td>    0</td><td>   0</td><td>    0</td><td>    0</td><td>   0</td><td>    0</td><td>    0</td><td>⋯</td><td>    0</td><td>    0</td><td>    0</td><td>    0</td><td>    0</td><td>    0</td><td>    0</td><td>   0</td><td>    0</td><td>     0</td></tr>\n",
              "\t<tr><th scope=row>ENSG00000002587.10</th><td> 1475</td><td>4232</td><td>1996</td><td>  820</td><td>2731</td><td>  227</td><td> 1033</td><td>1876</td><td>  675</td><td> 2070</td><td>⋯</td><td> 5236</td><td> 5519</td><td>  925</td><td> 1878</td><td>  178</td><td>11376</td><td>  587</td><td> 450</td><td> 2566</td><td>   718</td></tr>\n",
              "\t<tr><th scope=row>ENSG00000002726.21</th><td> 7689</td><td>1636</td><td>4261</td><td> 3725</td><td>1985</td><td> 1199</td><td>  386</td><td>4683</td><td>  340</td><td>17677</td><td>⋯</td><td> 5654</td><td> 5893</td><td> 5146</td><td>  187</td><td>   34</td><td>12737</td><td>  541</td><td>  22</td><td> 2275</td><td>   854</td></tr>\n",
              "\t<tr><th scope=row>ENSG00000002745.13</th><td>   17</td><td>  21</td><td>  25</td><td>    4</td><td>   4</td><td>   12</td><td>   22</td><td>   9</td><td>   20</td><td>    0</td><td>⋯</td><td>    7</td><td>   10</td><td>   71</td><td>   31</td><td>    2</td><td>    5</td><td>    3</td><td> 140</td><td>   10</td><td>     6</td></tr>\n",
              "\t<tr><th scope=row>ENSG00000002746.15</th><td>   87</td><td>  99</td><td> 152</td><td>   86</td><td>   1</td><td>   56</td><td>   88</td><td>  68</td><td>   46</td><td>    2</td><td>⋯</td><td>   15</td><td>  151</td><td>  139</td><td>   54</td><td>   83</td><td>   12</td><td>   17</td><td>  22</td><td>   67</td><td>   163</td></tr>\n",
              "\t<tr><th scope=row>ENSG00000002822.15</th><td>   30</td><td>  34</td><td>  59</td><td>   14</td><td> 114</td><td>   13</td><td>   44</td><td>  44</td><td>   21</td><td>   83</td><td>⋯</td><td>   42</td><td>   19</td><td>  118</td><td>  139</td><td>    7</td><td>   77</td><td>   13</td><td> 133</td><td>   38</td><td>    36</td></tr>\n",
              "\t<tr><th scope=row>⋮</th><td>⋮</td><td>⋮</td><td>⋮</td><td>⋮</td><td>⋮</td><td>⋮</td><td>⋮</td><td>⋮</td><td>⋮</td><td>⋮</td><td>⋱</td><td>⋮</td><td>⋮</td><td>⋮</td><td>⋮</td><td>⋮</td><td>⋮</td><td>⋮</td><td>⋮</td><td>⋮</td><td>⋮</td></tr>\n",
              "\t<tr><th scope=row>ENSG00000288634.1</th><td>  0</td><td>  0</td><td>  0</td><td>  0</td><td>  0</td><td>  0</td><td> 0</td><td>  0</td><td>  0</td><td>  0</td><td>⋯</td><td>  0</td><td>  0</td><td>  0</td><td>  0</td><td>  0</td><td>  0</td><td>  0</td><td>  0</td><td>  0</td><td>  0</td></tr>\n",
              "\t<tr><th scope=row>ENSG00000288635.1</th><td>  0</td><td>  0</td><td>  0</td><td>  0</td><td>  0</td><td>  0</td><td> 0</td><td>  0</td><td>  0</td><td>  0</td><td>⋯</td><td>  0</td><td>  0</td><td>  0</td><td>  0</td><td>  0</td><td>  0</td><td>  0</td><td>  0</td><td>  0</td><td>  0</td></tr>\n",
              "\t<tr><th scope=row>ENSG00000288636.1</th><td>  0</td><td>  0</td><td>  0</td><td>  0</td><td>  0</td><td>  0</td><td> 0</td><td>  0</td><td>  0</td><td>  0</td><td>⋯</td><td>  0</td><td>  0</td><td>  0</td><td>  0</td><td>  0</td><td>  0</td><td>  0</td><td>  0</td><td>  0</td><td>  0</td></tr>\n",
              "\t<tr><th scope=row>ENSG00000288637.1</th><td>  2</td><td>  0</td><td>  2</td><td>  0</td><td>  0</td><td>  2</td><td> 0</td><td>  1</td><td>  0</td><td>  0</td><td>⋯</td><td>  3</td><td>  0</td><td>  1</td><td>  0</td><td>  0</td><td>  0</td><td>  3</td><td>  1</td><td>  0</td><td>  2</td></tr>\n",
              "\t<tr><th scope=row>ENSG00000288638.1</th><td>  0</td><td>  0</td><td>  0</td><td>  0</td><td>  0</td><td>  0</td><td> 0</td><td>  0</td><td>  0</td><td>  0</td><td>⋯</td><td>  0</td><td>  0</td><td>  2</td><td>  0</td><td>  0</td><td>  0</td><td>  0</td><td>  3</td><td>  0</td><td>  0</td></tr>\n",
              "\t<tr><th scope=row>ENSG00000288639.1</th><td>  0</td><td>  0</td><td>  0</td><td>  0</td><td>  0</td><td>  0</td><td> 0</td><td>  0</td><td>  0</td><td>  0</td><td>⋯</td><td>  0</td><td>  0</td><td>  0</td><td>  0</td><td>  0</td><td>  0</td><td>  0</td><td>  0</td><td>  0</td><td>  0</td></tr>\n",
              "\t<tr><th scope=row>ENSG00000288640.1</th><td>  0</td><td>  0</td><td>  0</td><td>  0</td><td>  0</td><td>  0</td><td> 0</td><td>  0</td><td>  0</td><td>  0</td><td>⋯</td><td>  0</td><td>  0</td><td>  0</td><td>  0</td><td>  0</td><td>  0</td><td>  0</td><td>  0</td><td>  0</td><td>  0</td></tr>\n",
              "\t<tr><th scope=row>ENSG00000288642.1</th><td>  0</td><td>  0</td><td>  0</td><td>  0</td><td>  0</td><td>  0</td><td> 0</td><td>  0</td><td>  0</td><td>  0</td><td>⋯</td><td>  0</td><td>  0</td><td>  0</td><td>  0</td><td>  0</td><td>  0</td><td>  0</td><td>  0</td><td>  0</td><td>  0</td></tr>\n",
              "\t<tr><th scope=row>ENSG00000288643.1</th><td>  0</td><td>  0</td><td>  0</td><td>  0</td><td>  0</td><td>  0</td><td> 0</td><td>  0</td><td>  0</td><td>  0</td><td>⋯</td><td>  0</td><td>  0</td><td>  0</td><td>  0</td><td>  0</td><td>  0</td><td>  0</td><td>  0</td><td>  0</td><td>  0</td></tr>\n",
              "\t<tr><th scope=row>ENSG00000288644.1</th><td>  0</td><td>  0</td><td>  0</td><td>  0</td><td>  0</td><td>  0</td><td> 0</td><td>  0</td><td>  0</td><td>  0</td><td>⋯</td><td>  0</td><td>  0</td><td>  0</td><td>  0</td><td>  0</td><td>  0</td><td>  0</td><td>  0</td><td>  0</td><td>  0</td></tr>\n",
              "\t<tr><th scope=row>ENSG00000288645.1</th><td>  0</td><td>  0</td><td>  0</td><td>  0</td><td>  0</td><td>  0</td><td> 0</td><td>  0</td><td>  0</td><td>  0</td><td>⋯</td><td>  0</td><td>  0</td><td>  0</td><td>  0</td><td>  0</td><td>  0</td><td>  0</td><td>  0</td><td>  0</td><td>  0</td></tr>\n",
              "\t<tr><th scope=row>ENSG00000288646.1</th><td>  0</td><td>  0</td><td>  0</td><td>  0</td><td>  0</td><td>  0</td><td> 0</td><td>  0</td><td>  0</td><td>  0</td><td>⋯</td><td>  0</td><td>  0</td><td>  0</td><td>  0</td><td>  0</td><td>  0</td><td>  0</td><td>  0</td><td>  0</td><td>  0</td></tr>\n",
              "\t<tr><th scope=row>ENSG00000288648.1</th><td>  1</td><td>  1</td><td>  0</td><td>  0</td><td>  0</td><td>  0</td><td> 0</td><td>  0</td><td>  0</td><td>  0</td><td>⋯</td><td>  0</td><td>  0</td><td>  0</td><td>  0</td><td>  0</td><td>  0</td><td>  3</td><td>  0</td><td>  0</td><td>  0</td></tr>\n",
              "\t<tr><th scope=row>ENSG00000288649.1</th><td>  0</td><td>  0</td><td>  0</td><td>  0</td><td>  0</td><td>  0</td><td> 0</td><td>  0</td><td>  0</td><td>  0</td><td>⋯</td><td>  0</td><td>  0</td><td>  0</td><td>  0</td><td>  0</td><td>  0</td><td>  0</td><td>  0</td><td>  0</td><td>  0</td></tr>\n",
              "\t<tr><th scope=row>ENSG00000288654.1</th><td>  0</td><td>  0</td><td>  0</td><td>  0</td><td>  0</td><td>  0</td><td> 0</td><td>  0</td><td>  0</td><td>  0</td><td>⋯</td><td>  0</td><td>  0</td><td>  0</td><td>  0</td><td>  0</td><td>  0</td><td>  0</td><td>  0</td><td>  0</td><td>  0</td></tr>\n",
              "\t<tr><th scope=row>ENSG00000288656.1</th><td>  2</td><td>  0</td><td>  0</td><td>  0</td><td>  0</td><td>  0</td><td> 0</td><td>  0</td><td>  1</td><td>  0</td><td>⋯</td><td>  0</td><td>  0</td><td>  0</td><td>  0</td><td>  0</td><td>  1</td><td>  1</td><td>  2</td><td>  1</td><td>  0</td></tr>\n",
              "\t<tr><th scope=row>ENSG00000288657.1</th><td>  0</td><td>  0</td><td>  0</td><td>  0</td><td>  0</td><td>  0</td><td> 0</td><td>  0</td><td>  0</td><td>  0</td><td>⋯</td><td>  0</td><td>  0</td><td>  0</td><td>  0</td><td>  0</td><td>  0</td><td>  0</td><td>  3</td><td>  0</td><td>  0</td></tr>\n",
              "\t<tr><th scope=row>ENSG00000288658.1</th><td> 15</td><td>  2</td><td> 20</td><td>  5</td><td> 11</td><td> 88</td><td> 9</td><td> 26</td><td>  9</td><td>  1</td><td>⋯</td><td>  5</td><td> 11</td><td> 16</td><td> 22</td><td> 57</td><td> 20</td><td>  8</td><td> 16</td><td>  9</td><td>  6</td></tr>\n",
              "\t<tr><th scope=row>ENSG00000288659.1</th><td>  0</td><td>  0</td><td>  0</td><td>  0</td><td>  0</td><td>  0</td><td> 0</td><td>  0</td><td>  0</td><td>  0</td><td>⋯</td><td>  0</td><td>  0</td><td>  0</td><td>  0</td><td>  0</td><td>  0</td><td>  0</td><td>  3</td><td>  0</td><td>  0</td></tr>\n",
              "\t<tr><th scope=row>ENSG00000288660.1</th><td>  2</td><td>  2</td><td>  0</td><td>  0</td><td>  0</td><td>  3</td><td> 0</td><td>  0</td><td>  0</td><td>  2</td><td>⋯</td><td>  2</td><td>  0</td><td>  0</td><td>  2</td><td>  1</td><td>  2</td><td>  1</td><td>  0</td><td>  1</td><td>  1</td></tr>\n",
              "\t<tr><th scope=row>ENSG00000288661.1</th><td>  0</td><td>  0</td><td>  0</td><td>  0</td><td>  0</td><td>  0</td><td> 0</td><td>  0</td><td>  0</td><td>  0</td><td>⋯</td><td>  0</td><td>  0</td><td>  0</td><td>  0</td><td>  0</td><td>  0</td><td>  0</td><td>  0</td><td>  0</td><td>  0</td></tr>\n",
              "\t<tr><th scope=row>ENSG00000288662.1</th><td>  0</td><td>  0</td><td>  1</td><td>  0</td><td>  0</td><td>  0</td><td> 1</td><td>  0</td><td>  0</td><td>  0</td><td>⋯</td><td>  1</td><td>  0</td><td>  0</td><td>  0</td><td>  0</td><td>  0</td><td>  0</td><td>  0</td><td>  0</td><td>  0</td></tr>\n",
              "\t<tr><th scope=row>ENSG00000288663.1</th><td> 39</td><td> 52</td><td> 21</td><td>  9</td><td> 16</td><td> 83</td><td>23</td><td> 18</td><td> 10</td><td> 11</td><td>⋯</td><td> 77</td><td> 15</td><td> 28</td><td> 38</td><td> 32</td><td> 27</td><td> 31</td><td> 51</td><td> 19</td><td> 14</td></tr>\n",
              "\t<tr><th scope=row>ENSG00000288665.1</th><td>  0</td><td>  0</td><td>  0</td><td>  0</td><td>  0</td><td>  0</td><td> 0</td><td>  0</td><td>  0</td><td>  0</td><td>⋯</td><td>  0</td><td>  0</td><td>  0</td><td>  0</td><td>  0</td><td>  0</td><td>  0</td><td>  0</td><td>  0</td><td>  0</td></tr>\n",
              "\t<tr><th scope=row>ENSG00000288667.1</th><td>  1</td><td>  0</td><td>  0</td><td>  0</td><td>  0</td><td>  0</td><td> 0</td><td>  0</td><td>  0</td><td>  0</td><td>⋯</td><td>  1</td><td>  0</td><td>  1</td><td>  0</td><td>  0</td><td>  0</td><td>  0</td><td>  1</td><td>  0</td><td>  0</td></tr>\n",
              "\t<tr><th scope=row>ENSG00000288669.1</th><td>  0</td><td>  0</td><td>  0</td><td>  0</td><td>  0</td><td>  2</td><td> 0</td><td>  0</td><td>  0</td><td>  0</td><td>⋯</td><td>  0</td><td>  0</td><td>  0</td><td>  0</td><td>  0</td><td>  0</td><td>  0</td><td>  0</td><td>  0</td><td>  0</td></tr>\n",
              "\t<tr><th scope=row>ENSG00000288670.1</th><td>112</td><td>348</td><td>143</td><td>174</td><td>186</td><td>216</td><td>87</td><td>144</td><td>156</td><td>119</td><td>⋯</td><td>388</td><td>278</td><td>125</td><td>429</td><td>206</td><td>338</td><td>138</td><td>165</td><td>107</td><td>193</td></tr>\n",
              "\t<tr><th scope=row>ENSG00000288671.1</th><td>  0</td><td>  0</td><td>  0</td><td>  0</td><td>  0</td><td>  0</td><td> 0</td><td>  0</td><td>  0</td><td>  0</td><td>⋯</td><td>  0</td><td>  0</td><td>  0</td><td>  0</td><td>  0</td><td>  0</td><td>  0</td><td>  0</td><td>  0</td><td>  0</td></tr>\n",
              "\t<tr><th scope=row>ENSG00000288674.1</th><td> 13</td><td>  6</td><td>  2</td><td>  7</td><td>  1</td><td>  4</td><td> 5</td><td>  2</td><td> 10</td><td>  2</td><td>⋯</td><td>  4</td><td>  3</td><td>  6</td><td> 15</td><td>  4</td><td> 16</td><td>  5</td><td>  9</td><td>  6</td><td>  9</td></tr>\n",
              "\t<tr><th scope=row>ENSG00000288675.1</th><td> 29</td><td> 27</td><td> 27</td><td> 36</td><td>  9</td><td>104</td><td>28</td><td> 36</td><td> 20</td><td>  7</td><td>⋯</td><td> 27</td><td> 17</td><td> 35</td><td> 45</td><td> 59</td><td> 26</td><td> 25</td><td> 20</td><td> 16</td><td> 31</td></tr>\n",
              "</tbody>\n",
              "</table>\n"
            ],
            "text/markdown": "\nA data.frame: 60660 × 168\n\n| <!--/--> | TCGA-FB-AAPY-01A &lt;int&gt; | TCGA-IB-A7LX-01A &lt;int&gt; | TCGA-XN-A8T5-01A &lt;int&gt; | TCGA-HZ-A77O-01A &lt;int&gt; | TCGA-FB-AAPQ-01A &lt;int&gt; | TCGA-3A-A9IL-01A &lt;int&gt; | TCGA-FB-AAPS-01A &lt;int&gt; | TCGA-IB-A7M4-01A &lt;int&gt; | TCGA-IB-8126-01A &lt;int&gt; | TCGA-FB-AAPP-01A &lt;int&gt; | ⋯ ⋯ | TCGA-FB-A78T-01A &lt;int&gt; | TCGA-HZ-7919-01A &lt;int&gt; | TCGA-IB-AAUP-01A &lt;int&gt; | TCGA-2J-AABI-01A &lt;int&gt; | TCGA-3A-A9IV-01A &lt;int&gt; | TCGA-YY-A8LH-01A &lt;int&gt; | TCGA-HV-A5A3-11A &lt;int&gt; | TCGA-H6-A45N-11A &lt;int&gt; | TCGA-YB-A89D-11A &lt;int&gt; | TCGA-H6-8124-11A &lt;int&gt; |\n|---|---|---|---|---|---|---|---|---|---|---|---|---|---|---|---|---|---|---|---|---|---|\n| ENSG00000000003.15 |  1421 | 3291 | 1257 |  1585 |  553 |   771 |  1175 | 2007 |  1734 |  1191 | ⋯ |  1525 |  1777 |  1319 |  2178 |   158 |  1907 |  3092 |  369 |  1593 |   3738 |\n| ENSG00000000005.6 |     3 |    0 |    2 |     1 |    0 |     1 |    54 |    0 |    47 |     2 | ⋯ |     1 |     0 |     4 |     0 |     2 |     0 |     1 |    5 |   331 |      4 |\n| ENSG00000000419.13 |   924 | 1711 | 1195 |  1419 |  946 |   774 |   877 | 2374 |  1263 |  1403 | ⋯ |  1320 |  1915 |  1386 |  2149 |  1059 |  1558 |  1092 | 1023 |  1228 |   1532 |\n| ENSG00000000457.14 |   691 | 1164 |  400 |   539 |  605 |   464 |   371 |  479 |   532 |   609 | ⋯ |  1052 |  1025 |   750 |   821 |   310 |   777 |   610 |  706 |   348 |    959 |\n| ENSG00000000460.17 |   138 |  457 |  113 |   232 |   86 |    78 |   106 |  206 |   124 |   156 | ⋯ |   232 |   329 |   319 |   387 |   101 |   224 |   148 |  220 |   132 |    243 |\n| ENSG00000000938.13 |  1477 |  209 |  829 |   526 |  153 |   311 |   769 |  520 |   463 |    54 | ⋯ |  1949 |   598 |  1258 |   815 |   105 |   162 |  1252 | 5757 |  5016 |   2046 |\n| ENSG00000000971.16 |  7064 | 7662 | 8058 |  3961 | 3347 |  2221 |  4624 | 2807 |  8077 |   244 | ⋯ |  5561 |  6235 |  7102 | 11415 |  1308 |  1458 |  2837 |  894 |  5425 |   7427 |\n| ENSG00000001036.14 |  2726 | 2171 | 1509 |  2128 | 1938 |  1697 |  1806 | 2787 |  1449 |  1323 | ⋯ |  2793 |  1889 |  2148 |  1227 |  1418 |  2010 |  1780 |  799 |  2322 |   2836 |\n| ENSG00000001084.13 |  1107 | 1790 | 1104 |   649 |  816 |   968 |   616 | 3073 |  1227 |   739 | ⋯ |  1169 |  1593 |  1858 |   929 |  4282 |  1182 |  1071 | 2380 |  1172 |   2602 |\n| ENSG00000001167.14 |   836 | 2121 |  804 |  1047 | 1175 |   640 |   671 | 1172 |   892 |   668 | ⋯ |  1912 |  1357 |  1462 |  1699 |   389 |  1582 |  1082 | 1303 |  1100 |   1625 |\n| ENSG00000001460.18 |   496 |  545 |  369 |   337 |  124 |   469 |   322 |  463 |   347 |   253 | ⋯ |   479 |  1006 |   483 |   452 |   410 |   497 |   472 |  229 |   401 |    738 |\n| ENSG00000001461.17 |  1471 | 1459 | 2098 |  1288 |  525 |  1368 |   872 | 1392 |  1877 |  1383 | ⋯ |  1814 |  4433 |  2309 |  1408 |  1790 |  1793 |  1465 | 1295 |  1010 |   2790 |\n| ENSG00000001497.18 |  1898 | 2827 | 1510 |  2350 |  704 |  3556 |  1301 | 1993 |  1296 |  1555 | ⋯ |  2511 |  1857 |  2287 |  4553 |  2066 |  2777 |  1695 | 2275 |  1558 |   2176 |\n| ENSG00000001561.7 |   509 | 1000 |  895 |   980 | 1616 |  1566 |   679 |  497 |  1630 |   544 | ⋯ |  1267 |  1463 |   880 |   353 |  1780 |  1199 |  1135 | 1249 |  1097 |   1933 |\n| ENSG00000001617.12 |  1277 | 1837 | 2022 |  2234 |  787 |  1344 |  1398 | 1757 |   935 |   262 | ⋯ |   815 |  1882 |  2274 |  2714 |   739 |  1530 |  1155 | 1066 |  1859 |   1089 |\n| ENSG00000001626.16 | 11010 | 7062 | 2555 | 14530 | 3904 |  4180 |  4301 | 2723 | 38367 |    24 | ⋯ | 17425 | 17816 |  3937 |   439 |    21 |  3145 | 45994 |   17 |  7319 | 102761 |\n| ENSG00000001629.10 |  1621 | 5760 | 1914 |  2178 |  942 |  1917 |  1517 | 2374 |  2353 |  2345 | ⋯ |  2701 |  4032 |  3333 |  2955 |  2878 |  2065 |  2065 | 1922 |  2236 |   4006 |\n| ENSG00000001630.17 |    54 |  234 |   97 |   186 |  298 |   125 |    43 |  184 |    99 |   215 | ⋯ |   140 |    93 |    84 |    78 |   162 |   148 |    44 |   31 |   112 |    160 |\n| ENSG00000001631.16 |   276 |  485 |  224 |   243 |  117 |   549 |   203 |  228 |   245 |   348 | ⋯ |   405 |   329 |   330 |   379 |   498 |   320 |   211 |  424 |   188 |    283 |\n| ENSG00000002016.18 |   421 | 1326 |  266 |   279 |  123 |   700 |   410 |  361 |   332 |   281 | ⋯ |   841 |   226 |   474 |  2057 |   304 |   387 |   374 |  598 |   255 |    407 |\n| ENSG00000002079.14 |    27 | 4682 |    5 |   381 |   34 |    21 |     3 |   69 |    11 |    57 | ⋯ |   163 |    86 |    85 |   463 |     2 |    53 |    28 |   14 |    60 |     18 |\n| ENSG00000002330.14 |   771 |  543 |  447 |   620 |  418 |   478 |   475 |  599 |   226 |   276 | ⋯ |   619 |    62 |   387 |  1181 |   288 |   688 |   372 |  180 |   487 |    468 |\n| ENSG00000002549.12 |  4350 | 3062 | 4015 |  3460 | 1589 |  1844 |  2804 | 4365 |  3956 |  2494 | ⋯ |  4019 |  6790 |  5826 |  4082 |  1854 |  6019 |  4681 | 6771 |  5233 |   6495 |\n| ENSG00000002586.20 | 11870 | 6960 | 9539 | 10295 | 6841 | 54412 | 23788 | 7550 |  5850 |  2676 | ⋯ |  8883 |  9616 | 16607 | 18880 | 10431 |  8519 | 14198 | 4468 | 20703 |  14544 |\n| ENSG00000002586.20_PAR_Y |     0 |    0 |    0 |     0 |    0 |     0 |     0 |    0 |     0 |     0 | ⋯ |     0 |     0 |     0 |     0 |     0 |     0 |     0 |    0 |     0 |      0 |\n| ENSG00000002587.10 |  1475 | 4232 | 1996 |   820 | 2731 |   227 |  1033 | 1876 |   675 |  2070 | ⋯ |  5236 |  5519 |   925 |  1878 |   178 | 11376 |   587 |  450 |  2566 |    718 |\n| ENSG00000002726.21 |  7689 | 1636 | 4261 |  3725 | 1985 |  1199 |   386 | 4683 |   340 | 17677 | ⋯ |  5654 |  5893 |  5146 |   187 |    34 | 12737 |   541 |   22 |  2275 |    854 |\n| ENSG00000002745.13 |    17 |   21 |   25 |     4 |    4 |    12 |    22 |    9 |    20 |     0 | ⋯ |     7 |    10 |    71 |    31 |     2 |     5 |     3 |  140 |    10 |      6 |\n| ENSG00000002746.15 |    87 |   99 |  152 |    86 |    1 |    56 |    88 |   68 |    46 |     2 | ⋯ |    15 |   151 |   139 |    54 |    83 |    12 |    17 |   22 |    67 |    163 |\n| ENSG00000002822.15 |    30 |   34 |   59 |    14 |  114 |    13 |    44 |   44 |    21 |    83 | ⋯ |    42 |    19 |   118 |   139 |     7 |    77 |    13 |  133 |    38 |     36 |\n| ⋮ | ⋮ | ⋮ | ⋮ | ⋮ | ⋮ | ⋮ | ⋮ | ⋮ | ⋮ | ⋮ | ⋱ | ⋮ | ⋮ | ⋮ | ⋮ | ⋮ | ⋮ | ⋮ | ⋮ | ⋮ | ⋮ |\n| ENSG00000288634.1 |   0 |   0 |   0 |   0 |   0 |   0 |  0 |   0 |   0 |   0 | ⋯ |   0 |   0 |   0 |   0 |   0 |   0 |   0 |   0 |   0 |   0 |\n| ENSG00000288635.1 |   0 |   0 |   0 |   0 |   0 |   0 |  0 |   0 |   0 |   0 | ⋯ |   0 |   0 |   0 |   0 |   0 |   0 |   0 |   0 |   0 |   0 |\n| ENSG00000288636.1 |   0 |   0 |   0 |   0 |   0 |   0 |  0 |   0 |   0 |   0 | ⋯ |   0 |   0 |   0 |   0 |   0 |   0 |   0 |   0 |   0 |   0 |\n| ENSG00000288637.1 |   2 |   0 |   2 |   0 |   0 |   2 |  0 |   1 |   0 |   0 | ⋯ |   3 |   0 |   1 |   0 |   0 |   0 |   3 |   1 |   0 |   2 |\n| ENSG00000288638.1 |   0 |   0 |   0 |   0 |   0 |   0 |  0 |   0 |   0 |   0 | ⋯ |   0 |   0 |   2 |   0 |   0 |   0 |   0 |   3 |   0 |   0 |\n| ENSG00000288639.1 |   0 |   0 |   0 |   0 |   0 |   0 |  0 |   0 |   0 |   0 | ⋯ |   0 |   0 |   0 |   0 |   0 |   0 |   0 |   0 |   0 |   0 |\n| ENSG00000288640.1 |   0 |   0 |   0 |   0 |   0 |   0 |  0 |   0 |   0 |   0 | ⋯ |   0 |   0 |   0 |   0 |   0 |   0 |   0 |   0 |   0 |   0 |\n| ENSG00000288642.1 |   0 |   0 |   0 |   0 |   0 |   0 |  0 |   0 |   0 |   0 | ⋯ |   0 |   0 |   0 |   0 |   0 |   0 |   0 |   0 |   0 |   0 |\n| ENSG00000288643.1 |   0 |   0 |   0 |   0 |   0 |   0 |  0 |   0 |   0 |   0 | ⋯ |   0 |   0 |   0 |   0 |   0 |   0 |   0 |   0 |   0 |   0 |\n| ENSG00000288644.1 |   0 |   0 |   0 |   0 |   0 |   0 |  0 |   0 |   0 |   0 | ⋯ |   0 |   0 |   0 |   0 |   0 |   0 |   0 |   0 |   0 |   0 |\n| ENSG00000288645.1 |   0 |   0 |   0 |   0 |   0 |   0 |  0 |   0 |   0 |   0 | ⋯ |   0 |   0 |   0 |   0 |   0 |   0 |   0 |   0 |   0 |   0 |\n| ENSG00000288646.1 |   0 |   0 |   0 |   0 |   0 |   0 |  0 |   0 |   0 |   0 | ⋯ |   0 |   0 |   0 |   0 |   0 |   0 |   0 |   0 |   0 |   0 |\n| ENSG00000288648.1 |   1 |   1 |   0 |   0 |   0 |   0 |  0 |   0 |   0 |   0 | ⋯ |   0 |   0 |   0 |   0 |   0 |   0 |   3 |   0 |   0 |   0 |\n| ENSG00000288649.1 |   0 |   0 |   0 |   0 |   0 |   0 |  0 |   0 |   0 |   0 | ⋯ |   0 |   0 |   0 |   0 |   0 |   0 |   0 |   0 |   0 |   0 |\n| ENSG00000288654.1 |   0 |   0 |   0 |   0 |   0 |   0 |  0 |   0 |   0 |   0 | ⋯ |   0 |   0 |   0 |   0 |   0 |   0 |   0 |   0 |   0 |   0 |\n| ENSG00000288656.1 |   2 |   0 |   0 |   0 |   0 |   0 |  0 |   0 |   1 |   0 | ⋯ |   0 |   0 |   0 |   0 |   0 |   1 |   1 |   2 |   1 |   0 |\n| ENSG00000288657.1 |   0 |   0 |   0 |   0 |   0 |   0 |  0 |   0 |   0 |   0 | ⋯ |   0 |   0 |   0 |   0 |   0 |   0 |   0 |   3 |   0 |   0 |\n| ENSG00000288658.1 |  15 |   2 |  20 |   5 |  11 |  88 |  9 |  26 |   9 |   1 | ⋯ |   5 |  11 |  16 |  22 |  57 |  20 |   8 |  16 |   9 |   6 |\n| ENSG00000288659.1 |   0 |   0 |   0 |   0 |   0 |   0 |  0 |   0 |   0 |   0 | ⋯ |   0 |   0 |   0 |   0 |   0 |   0 |   0 |   3 |   0 |   0 |\n| ENSG00000288660.1 |   2 |   2 |   0 |   0 |   0 |   3 |  0 |   0 |   0 |   2 | ⋯ |   2 |   0 |   0 |   2 |   1 |   2 |   1 |   0 |   1 |   1 |\n| ENSG00000288661.1 |   0 |   0 |   0 |   0 |   0 |   0 |  0 |   0 |   0 |   0 | ⋯ |   0 |   0 |   0 |   0 |   0 |   0 |   0 |   0 |   0 |   0 |\n| ENSG00000288662.1 |   0 |   0 |   1 |   0 |   0 |   0 |  1 |   0 |   0 |   0 | ⋯ |   1 |   0 |   0 |   0 |   0 |   0 |   0 |   0 |   0 |   0 |\n| ENSG00000288663.1 |  39 |  52 |  21 |   9 |  16 |  83 | 23 |  18 |  10 |  11 | ⋯ |  77 |  15 |  28 |  38 |  32 |  27 |  31 |  51 |  19 |  14 |\n| ENSG00000288665.1 |   0 |   0 |   0 |   0 |   0 |   0 |  0 |   0 |   0 |   0 | ⋯ |   0 |   0 |   0 |   0 |   0 |   0 |   0 |   0 |   0 |   0 |\n| ENSG00000288667.1 |   1 |   0 |   0 |   0 |   0 |   0 |  0 |   0 |   0 |   0 | ⋯ |   1 |   0 |   1 |   0 |   0 |   0 |   0 |   1 |   0 |   0 |\n| ENSG00000288669.1 |   0 |   0 |   0 |   0 |   0 |   2 |  0 |   0 |   0 |   0 | ⋯ |   0 |   0 |   0 |   0 |   0 |   0 |   0 |   0 |   0 |   0 |\n| ENSG00000288670.1 | 112 | 348 | 143 | 174 | 186 | 216 | 87 | 144 | 156 | 119 | ⋯ | 388 | 278 | 125 | 429 | 206 | 338 | 138 | 165 | 107 | 193 |\n| ENSG00000288671.1 |   0 |   0 |   0 |   0 |   0 |   0 |  0 |   0 |   0 |   0 | ⋯ |   0 |   0 |   0 |   0 |   0 |   0 |   0 |   0 |   0 |   0 |\n| ENSG00000288674.1 |  13 |   6 |   2 |   7 |   1 |   4 |  5 |   2 |  10 |   2 | ⋯ |   4 |   3 |   6 |  15 |   4 |  16 |   5 |   9 |   6 |   9 |\n| ENSG00000288675.1 |  29 |  27 |  27 |  36 |   9 | 104 | 28 |  36 |  20 |   7 | ⋯ |  27 |  17 |  35 |  45 |  59 |  26 |  25 |  20 |  16 |  31 |\n\n",
            "text/latex": "A data.frame: 60660 × 168\n\\begin{tabular}{r|lllllllllllllllllllll}\n  & TCGA-FB-AAPY-01A & TCGA-IB-A7LX-01A & TCGA-XN-A8T5-01A & TCGA-HZ-A77O-01A & TCGA-FB-AAPQ-01A & TCGA-3A-A9IL-01A & TCGA-FB-AAPS-01A & TCGA-IB-A7M4-01A & TCGA-IB-8126-01A & TCGA-FB-AAPP-01A & ⋯ & TCGA-FB-A78T-01A & TCGA-HZ-7919-01A & TCGA-IB-AAUP-01A & TCGA-2J-AABI-01A & TCGA-3A-A9IV-01A & TCGA-YY-A8LH-01A & TCGA-HV-A5A3-11A & TCGA-H6-A45N-11A & TCGA-YB-A89D-11A & TCGA-H6-8124-11A\\\\\n  & <int> & <int> & <int> & <int> & <int> & <int> & <int> & <int> & <int> & <int> & ⋯ & <int> & <int> & <int> & <int> & <int> & <int> & <int> & <int> & <int> & <int>\\\\\n\\hline\n\tENSG00000000003.15 &  1421 & 3291 & 1257 &  1585 &  553 &   771 &  1175 & 2007 &  1734 &  1191 & ⋯ &  1525 &  1777 &  1319 &  2178 &   158 &  1907 &  3092 &  369 &  1593 &   3738\\\\\n\tENSG00000000005.6 &     3 &    0 &    2 &     1 &    0 &     1 &    54 &    0 &    47 &     2 & ⋯ &     1 &     0 &     4 &     0 &     2 &     0 &     1 &    5 &   331 &      4\\\\\n\tENSG00000000419.13 &   924 & 1711 & 1195 &  1419 &  946 &   774 &   877 & 2374 &  1263 &  1403 & ⋯ &  1320 &  1915 &  1386 &  2149 &  1059 &  1558 &  1092 & 1023 &  1228 &   1532\\\\\n\tENSG00000000457.14 &   691 & 1164 &  400 &   539 &  605 &   464 &   371 &  479 &   532 &   609 & ⋯ &  1052 &  1025 &   750 &   821 &   310 &   777 &   610 &  706 &   348 &    959\\\\\n\tENSG00000000460.17 &   138 &  457 &  113 &   232 &   86 &    78 &   106 &  206 &   124 &   156 & ⋯ &   232 &   329 &   319 &   387 &   101 &   224 &   148 &  220 &   132 &    243\\\\\n\tENSG00000000938.13 &  1477 &  209 &  829 &   526 &  153 &   311 &   769 &  520 &   463 &    54 & ⋯ &  1949 &   598 &  1258 &   815 &   105 &   162 &  1252 & 5757 &  5016 &   2046\\\\\n\tENSG00000000971.16 &  7064 & 7662 & 8058 &  3961 & 3347 &  2221 &  4624 & 2807 &  8077 &   244 & ⋯ &  5561 &  6235 &  7102 & 11415 &  1308 &  1458 &  2837 &  894 &  5425 &   7427\\\\\n\tENSG00000001036.14 &  2726 & 2171 & 1509 &  2128 & 1938 &  1697 &  1806 & 2787 &  1449 &  1323 & ⋯ &  2793 &  1889 &  2148 &  1227 &  1418 &  2010 &  1780 &  799 &  2322 &   2836\\\\\n\tENSG00000001084.13 &  1107 & 1790 & 1104 &   649 &  816 &   968 &   616 & 3073 &  1227 &   739 & ⋯ &  1169 &  1593 &  1858 &   929 &  4282 &  1182 &  1071 & 2380 &  1172 &   2602\\\\\n\tENSG00000001167.14 &   836 & 2121 &  804 &  1047 & 1175 &   640 &   671 & 1172 &   892 &   668 & ⋯ &  1912 &  1357 &  1462 &  1699 &   389 &  1582 &  1082 & 1303 &  1100 &   1625\\\\\n\tENSG00000001460.18 &   496 &  545 &  369 &   337 &  124 &   469 &   322 &  463 &   347 &   253 & ⋯ &   479 &  1006 &   483 &   452 &   410 &   497 &   472 &  229 &   401 &    738\\\\\n\tENSG00000001461.17 &  1471 & 1459 & 2098 &  1288 &  525 &  1368 &   872 & 1392 &  1877 &  1383 & ⋯ &  1814 &  4433 &  2309 &  1408 &  1790 &  1793 &  1465 & 1295 &  1010 &   2790\\\\\n\tENSG00000001497.18 &  1898 & 2827 & 1510 &  2350 &  704 &  3556 &  1301 & 1993 &  1296 &  1555 & ⋯ &  2511 &  1857 &  2287 &  4553 &  2066 &  2777 &  1695 & 2275 &  1558 &   2176\\\\\n\tENSG00000001561.7 &   509 & 1000 &  895 &   980 & 1616 &  1566 &   679 &  497 &  1630 &   544 & ⋯ &  1267 &  1463 &   880 &   353 &  1780 &  1199 &  1135 & 1249 &  1097 &   1933\\\\\n\tENSG00000001617.12 &  1277 & 1837 & 2022 &  2234 &  787 &  1344 &  1398 & 1757 &   935 &   262 & ⋯ &   815 &  1882 &  2274 &  2714 &   739 &  1530 &  1155 & 1066 &  1859 &   1089\\\\\n\tENSG00000001626.16 & 11010 & 7062 & 2555 & 14530 & 3904 &  4180 &  4301 & 2723 & 38367 &    24 & ⋯ & 17425 & 17816 &  3937 &   439 &    21 &  3145 & 45994 &   17 &  7319 & 102761\\\\\n\tENSG00000001629.10 &  1621 & 5760 & 1914 &  2178 &  942 &  1917 &  1517 & 2374 &  2353 &  2345 & ⋯ &  2701 &  4032 &  3333 &  2955 &  2878 &  2065 &  2065 & 1922 &  2236 &   4006\\\\\n\tENSG00000001630.17 &    54 &  234 &   97 &   186 &  298 &   125 &    43 &  184 &    99 &   215 & ⋯ &   140 &    93 &    84 &    78 &   162 &   148 &    44 &   31 &   112 &    160\\\\\n\tENSG00000001631.16 &   276 &  485 &  224 &   243 &  117 &   549 &   203 &  228 &   245 &   348 & ⋯ &   405 &   329 &   330 &   379 &   498 &   320 &   211 &  424 &   188 &    283\\\\\n\tENSG00000002016.18 &   421 & 1326 &  266 &   279 &  123 &   700 &   410 &  361 &   332 &   281 & ⋯ &   841 &   226 &   474 &  2057 &   304 &   387 &   374 &  598 &   255 &    407\\\\\n\tENSG00000002079.14 &    27 & 4682 &    5 &   381 &   34 &    21 &     3 &   69 &    11 &    57 & ⋯ &   163 &    86 &    85 &   463 &     2 &    53 &    28 &   14 &    60 &     18\\\\\n\tENSG00000002330.14 &   771 &  543 &  447 &   620 &  418 &   478 &   475 &  599 &   226 &   276 & ⋯ &   619 &    62 &   387 &  1181 &   288 &   688 &   372 &  180 &   487 &    468\\\\\n\tENSG00000002549.12 &  4350 & 3062 & 4015 &  3460 & 1589 &  1844 &  2804 & 4365 &  3956 &  2494 & ⋯ &  4019 &  6790 &  5826 &  4082 &  1854 &  6019 &  4681 & 6771 &  5233 &   6495\\\\\n\tENSG00000002586.20 & 11870 & 6960 & 9539 & 10295 & 6841 & 54412 & 23788 & 7550 &  5850 &  2676 & ⋯ &  8883 &  9616 & 16607 & 18880 & 10431 &  8519 & 14198 & 4468 & 20703 &  14544\\\\\n\tENSG00000002586.20\\_PAR\\_Y &     0 &    0 &    0 &     0 &    0 &     0 &     0 &    0 &     0 &     0 & ⋯ &     0 &     0 &     0 &     0 &     0 &     0 &     0 &    0 &     0 &      0\\\\\n\tENSG00000002587.10 &  1475 & 4232 & 1996 &   820 & 2731 &   227 &  1033 & 1876 &   675 &  2070 & ⋯ &  5236 &  5519 &   925 &  1878 &   178 & 11376 &   587 &  450 &  2566 &    718\\\\\n\tENSG00000002726.21 &  7689 & 1636 & 4261 &  3725 & 1985 &  1199 &   386 & 4683 &   340 & 17677 & ⋯ &  5654 &  5893 &  5146 &   187 &    34 & 12737 &   541 &   22 &  2275 &    854\\\\\n\tENSG00000002745.13 &    17 &   21 &   25 &     4 &    4 &    12 &    22 &    9 &    20 &     0 & ⋯ &     7 &    10 &    71 &    31 &     2 &     5 &     3 &  140 &    10 &      6\\\\\n\tENSG00000002746.15 &    87 &   99 &  152 &    86 &    1 &    56 &    88 &   68 &    46 &     2 & ⋯ &    15 &   151 &   139 &    54 &    83 &    12 &    17 &   22 &    67 &    163\\\\\n\tENSG00000002822.15 &    30 &   34 &   59 &    14 &  114 &    13 &    44 &   44 &    21 &    83 & ⋯ &    42 &    19 &   118 &   139 &     7 &    77 &    13 &  133 &    38 &     36\\\\\n\t⋮ & ⋮ & ⋮ & ⋮ & ⋮ & ⋮ & ⋮ & ⋮ & ⋮ & ⋮ & ⋮ & ⋱ & ⋮ & ⋮ & ⋮ & ⋮ & ⋮ & ⋮ & ⋮ & ⋮ & ⋮ & ⋮\\\\\n\tENSG00000288634.1 &   0 &   0 &   0 &   0 &   0 &   0 &  0 &   0 &   0 &   0 & ⋯ &   0 &   0 &   0 &   0 &   0 &   0 &   0 &   0 &   0 &   0\\\\\n\tENSG00000288635.1 &   0 &   0 &   0 &   0 &   0 &   0 &  0 &   0 &   0 &   0 & ⋯ &   0 &   0 &   0 &   0 &   0 &   0 &   0 &   0 &   0 &   0\\\\\n\tENSG00000288636.1 &   0 &   0 &   0 &   0 &   0 &   0 &  0 &   0 &   0 &   0 & ⋯ &   0 &   0 &   0 &   0 &   0 &   0 &   0 &   0 &   0 &   0\\\\\n\tENSG00000288637.1 &   2 &   0 &   2 &   0 &   0 &   2 &  0 &   1 &   0 &   0 & ⋯ &   3 &   0 &   1 &   0 &   0 &   0 &   3 &   1 &   0 &   2\\\\\n\tENSG00000288638.1 &   0 &   0 &   0 &   0 &   0 &   0 &  0 &   0 &   0 &   0 & ⋯ &   0 &   0 &   2 &   0 &   0 &   0 &   0 &   3 &   0 &   0\\\\\n\tENSG00000288639.1 &   0 &   0 &   0 &   0 &   0 &   0 &  0 &   0 &   0 &   0 & ⋯ &   0 &   0 &   0 &   0 &   0 &   0 &   0 &   0 &   0 &   0\\\\\n\tENSG00000288640.1 &   0 &   0 &   0 &   0 &   0 &   0 &  0 &   0 &   0 &   0 & ⋯ &   0 &   0 &   0 &   0 &   0 &   0 &   0 &   0 &   0 &   0\\\\\n\tENSG00000288642.1 &   0 &   0 &   0 &   0 &   0 &   0 &  0 &   0 &   0 &   0 & ⋯ &   0 &   0 &   0 &   0 &   0 &   0 &   0 &   0 &   0 &   0\\\\\n\tENSG00000288643.1 &   0 &   0 &   0 &   0 &   0 &   0 &  0 &   0 &   0 &   0 & ⋯ &   0 &   0 &   0 &   0 &   0 &   0 &   0 &   0 &   0 &   0\\\\\n\tENSG00000288644.1 &   0 &   0 &   0 &   0 &   0 &   0 &  0 &   0 &   0 &   0 & ⋯ &   0 &   0 &   0 &   0 &   0 &   0 &   0 &   0 &   0 &   0\\\\\n\tENSG00000288645.1 &   0 &   0 &   0 &   0 &   0 &   0 &  0 &   0 &   0 &   0 & ⋯ &   0 &   0 &   0 &   0 &   0 &   0 &   0 &   0 &   0 &   0\\\\\n\tENSG00000288646.1 &   0 &   0 &   0 &   0 &   0 &   0 &  0 &   0 &   0 &   0 & ⋯ &   0 &   0 &   0 &   0 &   0 &   0 &   0 &   0 &   0 &   0\\\\\n\tENSG00000288648.1 &   1 &   1 &   0 &   0 &   0 &   0 &  0 &   0 &   0 &   0 & ⋯ &   0 &   0 &   0 &   0 &   0 &   0 &   3 &   0 &   0 &   0\\\\\n\tENSG00000288649.1 &   0 &   0 &   0 &   0 &   0 &   0 &  0 &   0 &   0 &   0 & ⋯ &   0 &   0 &   0 &   0 &   0 &   0 &   0 &   0 &   0 &   0\\\\\n\tENSG00000288654.1 &   0 &   0 &   0 &   0 &   0 &   0 &  0 &   0 &   0 &   0 & ⋯ &   0 &   0 &   0 &   0 &   0 &   0 &   0 &   0 &   0 &   0\\\\\n\tENSG00000288656.1 &   2 &   0 &   0 &   0 &   0 &   0 &  0 &   0 &   1 &   0 & ⋯ &   0 &   0 &   0 &   0 &   0 &   1 &   1 &   2 &   1 &   0\\\\\n\tENSG00000288657.1 &   0 &   0 &   0 &   0 &   0 &   0 &  0 &   0 &   0 &   0 & ⋯ &   0 &   0 &   0 &   0 &   0 &   0 &   0 &   3 &   0 &   0\\\\\n\tENSG00000288658.1 &  15 &   2 &  20 &   5 &  11 &  88 &  9 &  26 &   9 &   1 & ⋯ &   5 &  11 &  16 &  22 &  57 &  20 &   8 &  16 &   9 &   6\\\\\n\tENSG00000288659.1 &   0 &   0 &   0 &   0 &   0 &   0 &  0 &   0 &   0 &   0 & ⋯ &   0 &   0 &   0 &   0 &   0 &   0 &   0 &   3 &   0 &   0\\\\\n\tENSG00000288660.1 &   2 &   2 &   0 &   0 &   0 &   3 &  0 &   0 &   0 &   2 & ⋯ &   2 &   0 &   0 &   2 &   1 &   2 &   1 &   0 &   1 &   1\\\\\n\tENSG00000288661.1 &   0 &   0 &   0 &   0 &   0 &   0 &  0 &   0 &   0 &   0 & ⋯ &   0 &   0 &   0 &   0 &   0 &   0 &   0 &   0 &   0 &   0\\\\\n\tENSG00000288662.1 &   0 &   0 &   1 &   0 &   0 &   0 &  1 &   0 &   0 &   0 & ⋯ &   1 &   0 &   0 &   0 &   0 &   0 &   0 &   0 &   0 &   0\\\\\n\tENSG00000288663.1 &  39 &  52 &  21 &   9 &  16 &  83 & 23 &  18 &  10 &  11 & ⋯ &  77 &  15 &  28 &  38 &  32 &  27 &  31 &  51 &  19 &  14\\\\\n\tENSG00000288665.1 &   0 &   0 &   0 &   0 &   0 &   0 &  0 &   0 &   0 &   0 & ⋯ &   0 &   0 &   0 &   0 &   0 &   0 &   0 &   0 &   0 &   0\\\\\n\tENSG00000288667.1 &   1 &   0 &   0 &   0 &   0 &   0 &  0 &   0 &   0 &   0 & ⋯ &   1 &   0 &   1 &   0 &   0 &   0 &   0 &   1 &   0 &   0\\\\\n\tENSG00000288669.1 &   0 &   0 &   0 &   0 &   0 &   2 &  0 &   0 &   0 &   0 & ⋯ &   0 &   0 &   0 &   0 &   0 &   0 &   0 &   0 &   0 &   0\\\\\n\tENSG00000288670.1 & 112 & 348 & 143 & 174 & 186 & 216 & 87 & 144 & 156 & 119 & ⋯ & 388 & 278 & 125 & 429 & 206 & 338 & 138 & 165 & 107 & 193\\\\\n\tENSG00000288671.1 &   0 &   0 &   0 &   0 &   0 &   0 &  0 &   0 &   0 &   0 & ⋯ &   0 &   0 &   0 &   0 &   0 &   0 &   0 &   0 &   0 &   0\\\\\n\tENSG00000288674.1 &  13 &   6 &   2 &   7 &   1 &   4 &  5 &   2 &  10 &   2 & ⋯ &   4 &   3 &   6 &  15 &   4 &  16 &   5 &   9 &   6 &   9\\\\\n\tENSG00000288675.1 &  29 &  27 &  27 &  36 &   9 & 104 & 28 &  36 &  20 &   7 & ⋯ &  27 &  17 &  35 &  45 &  59 &  26 &  25 &  20 &  16 &  31\\\\\n\\end{tabular}\n",
            "text/plain": [
              "                         TCGA-FB-AAPY-01A TCGA-IB-A7LX-01A TCGA-XN-A8T5-01A\n",
              "ENSG00000000003.15        1421            3291             1257            \n",
              "ENSG00000000005.6            3               0                2            \n",
              "ENSG00000000419.13         924            1711             1195            \n",
              "ENSG00000000457.14         691            1164              400            \n",
              "ENSG00000000460.17         138             457              113            \n",
              "ENSG00000000938.13        1477             209              829            \n",
              "ENSG00000000971.16        7064            7662             8058            \n",
              "ENSG00000001036.14        2726            2171             1509            \n",
              "ENSG00000001084.13        1107            1790             1104            \n",
              "ENSG00000001167.14         836            2121              804            \n",
              "ENSG00000001460.18         496             545              369            \n",
              "ENSG00000001461.17        1471            1459             2098            \n",
              "ENSG00000001497.18        1898            2827             1510            \n",
              "ENSG00000001561.7          509            1000              895            \n",
              "ENSG00000001617.12        1277            1837             2022            \n",
              "ENSG00000001626.16       11010            7062             2555            \n",
              "ENSG00000001629.10        1621            5760             1914            \n",
              "ENSG00000001630.17          54             234               97            \n",
              "ENSG00000001631.16         276             485              224            \n",
              "ENSG00000002016.18         421            1326              266            \n",
              "ENSG00000002079.14          27            4682                5            \n",
              "ENSG00000002330.14         771             543              447            \n",
              "ENSG00000002549.12        4350            3062             4015            \n",
              "ENSG00000002586.20       11870            6960             9539            \n",
              "ENSG00000002586.20_PAR_Y     0               0                0            \n",
              "ENSG00000002587.10        1475            4232             1996            \n",
              "ENSG00000002726.21        7689            1636             4261            \n",
              "ENSG00000002745.13          17              21               25            \n",
              "ENSG00000002746.15          87              99              152            \n",
              "ENSG00000002822.15          30              34               59            \n",
              "⋮                        ⋮                ⋮                ⋮               \n",
              "ENSG00000288634.1          0                0                0             \n",
              "ENSG00000288635.1          0                0                0             \n",
              "ENSG00000288636.1          0                0                0             \n",
              "ENSG00000288637.1          2                0                2             \n",
              "ENSG00000288638.1          0                0                0             \n",
              "ENSG00000288639.1          0                0                0             \n",
              "ENSG00000288640.1          0                0                0             \n",
              "ENSG00000288642.1          0                0                0             \n",
              "ENSG00000288643.1          0                0                0             \n",
              "ENSG00000288644.1          0                0                0             \n",
              "ENSG00000288645.1          0                0                0             \n",
              "ENSG00000288646.1          0                0                0             \n",
              "ENSG00000288648.1          1                1                0             \n",
              "ENSG00000288649.1          0                0                0             \n",
              "ENSG00000288654.1          0                0                0             \n",
              "ENSG00000288656.1          2                0                0             \n",
              "ENSG00000288657.1          0                0                0             \n",
              "ENSG00000288658.1         15                2               20             \n",
              "ENSG00000288659.1          0                0                0             \n",
              "ENSG00000288660.1          2                2                0             \n",
              "ENSG00000288661.1          0                0                0             \n",
              "ENSG00000288662.1          0                0                1             \n",
              "ENSG00000288663.1         39               52               21             \n",
              "ENSG00000288665.1          0                0                0             \n",
              "ENSG00000288667.1          1                0                0             \n",
              "ENSG00000288669.1          0                0                0             \n",
              "ENSG00000288670.1        112              348              143             \n",
              "ENSG00000288671.1          0                0                0             \n",
              "ENSG00000288674.1         13                6                2             \n",
              "ENSG00000288675.1         29               27               27             \n",
              "                         TCGA-HZ-A77O-01A TCGA-FB-AAPQ-01A TCGA-3A-A9IL-01A\n",
              "ENSG00000000003.15        1585             553               771           \n",
              "ENSG00000000005.6            1               0                 1           \n",
              "ENSG00000000419.13        1419             946               774           \n",
              "ENSG00000000457.14         539             605               464           \n",
              "ENSG00000000460.17         232              86                78           \n",
              "ENSG00000000938.13         526             153               311           \n",
              "ENSG00000000971.16        3961            3347              2221           \n",
              "ENSG00000001036.14        2128            1938              1697           \n",
              "ENSG00000001084.13         649             816               968           \n",
              "ENSG00000001167.14        1047            1175               640           \n",
              "ENSG00000001460.18         337             124               469           \n",
              "ENSG00000001461.17        1288             525              1368           \n",
              "ENSG00000001497.18        2350             704              3556           \n",
              "ENSG00000001561.7          980            1616              1566           \n",
              "ENSG00000001617.12        2234             787              1344           \n",
              "ENSG00000001626.16       14530            3904              4180           \n",
              "ENSG00000001629.10        2178             942              1917           \n",
              "ENSG00000001630.17         186             298               125           \n",
              "ENSG00000001631.16         243             117               549           \n",
              "ENSG00000002016.18         279             123               700           \n",
              "ENSG00000002079.14         381              34                21           \n",
              "ENSG00000002330.14         620             418               478           \n",
              "ENSG00000002549.12        3460            1589              1844           \n",
              "ENSG00000002586.20       10295            6841             54412           \n",
              "ENSG00000002586.20_PAR_Y     0               0                 0           \n",
              "ENSG00000002587.10         820            2731               227           \n",
              "ENSG00000002726.21        3725            1985              1199           \n",
              "ENSG00000002745.13           4               4                12           \n",
              "ENSG00000002746.15          86               1                56           \n",
              "ENSG00000002822.15          14             114                13           \n",
              "⋮                        ⋮                ⋮                ⋮               \n",
              "ENSG00000288634.1          0                0                0             \n",
              "ENSG00000288635.1          0                0                0             \n",
              "ENSG00000288636.1          0                0                0             \n",
              "ENSG00000288637.1          0                0                2             \n",
              "ENSG00000288638.1          0                0                0             \n",
              "ENSG00000288639.1          0                0                0             \n",
              "ENSG00000288640.1          0                0                0             \n",
              "ENSG00000288642.1          0                0                0             \n",
              "ENSG00000288643.1          0                0                0             \n",
              "ENSG00000288644.1          0                0                0             \n",
              "ENSG00000288645.1          0                0                0             \n",
              "ENSG00000288646.1          0                0                0             \n",
              "ENSG00000288648.1          0                0                0             \n",
              "ENSG00000288649.1          0                0                0             \n",
              "ENSG00000288654.1          0                0                0             \n",
              "ENSG00000288656.1          0                0                0             \n",
              "ENSG00000288657.1          0                0                0             \n",
              "ENSG00000288658.1          5               11               88             \n",
              "ENSG00000288659.1          0                0                0             \n",
              "ENSG00000288660.1          0                0                3             \n",
              "ENSG00000288661.1          0                0                0             \n",
              "ENSG00000288662.1          0                0                0             \n",
              "ENSG00000288663.1          9               16               83             \n",
              "ENSG00000288665.1          0                0                0             \n",
              "ENSG00000288667.1          0                0                0             \n",
              "ENSG00000288669.1          0                0                2             \n",
              "ENSG00000288670.1        174              186              216             \n",
              "ENSG00000288671.1          0                0                0             \n",
              "ENSG00000288674.1          7                1                4             \n",
              "ENSG00000288675.1         36                9              104             \n",
              "                         TCGA-FB-AAPS-01A TCGA-IB-A7M4-01A TCGA-IB-8126-01A\n",
              "ENSG00000000003.15        1175            2007              1734           \n",
              "ENSG00000000005.6           54               0                47           \n",
              "ENSG00000000419.13         877            2374              1263           \n",
              "ENSG00000000457.14         371             479               532           \n",
              "ENSG00000000460.17         106             206               124           \n",
              "ENSG00000000938.13         769             520               463           \n",
              "ENSG00000000971.16        4624            2807              8077           \n",
              "ENSG00000001036.14        1806            2787              1449           \n",
              "ENSG00000001084.13         616            3073              1227           \n",
              "ENSG00000001167.14         671            1172               892           \n",
              "ENSG00000001460.18         322             463               347           \n",
              "ENSG00000001461.17         872            1392              1877           \n",
              "ENSG00000001497.18        1301            1993              1296           \n",
              "ENSG00000001561.7          679             497              1630           \n",
              "ENSG00000001617.12        1398            1757               935           \n",
              "ENSG00000001626.16        4301            2723             38367           \n",
              "ENSG00000001629.10        1517            2374              2353           \n",
              "ENSG00000001630.17          43             184                99           \n",
              "ENSG00000001631.16         203             228               245           \n",
              "ENSG00000002016.18         410             361               332           \n",
              "ENSG00000002079.14           3              69                11           \n",
              "ENSG00000002330.14         475             599               226           \n",
              "ENSG00000002549.12        2804            4365              3956           \n",
              "ENSG00000002586.20       23788            7550              5850           \n",
              "ENSG00000002586.20_PAR_Y     0               0                 0           \n",
              "ENSG00000002587.10        1033            1876               675           \n",
              "ENSG00000002726.21         386            4683               340           \n",
              "ENSG00000002745.13          22               9                20           \n",
              "ENSG00000002746.15          88              68                46           \n",
              "ENSG00000002822.15          44              44                21           \n",
              "⋮                        ⋮                ⋮                ⋮               \n",
              "ENSG00000288634.1         0                 0                0             \n",
              "ENSG00000288635.1         0                 0                0             \n",
              "ENSG00000288636.1         0                 0                0             \n",
              "ENSG00000288637.1         0                 1                0             \n",
              "ENSG00000288638.1         0                 0                0             \n",
              "ENSG00000288639.1         0                 0                0             \n",
              "ENSG00000288640.1         0                 0                0             \n",
              "ENSG00000288642.1         0                 0                0             \n",
              "ENSG00000288643.1         0                 0                0             \n",
              "ENSG00000288644.1         0                 0                0             \n",
              "ENSG00000288645.1         0                 0                0             \n",
              "ENSG00000288646.1         0                 0                0             \n",
              "ENSG00000288648.1         0                 0                0             \n",
              "ENSG00000288649.1         0                 0                0             \n",
              "ENSG00000288654.1         0                 0                0             \n",
              "ENSG00000288656.1         0                 0                1             \n",
              "ENSG00000288657.1         0                 0                0             \n",
              "ENSG00000288658.1         9                26                9             \n",
              "ENSG00000288659.1         0                 0                0             \n",
              "ENSG00000288660.1         0                 0                0             \n",
              "ENSG00000288661.1         0                 0                0             \n",
              "ENSG00000288662.1         1                 0                0             \n",
              "ENSG00000288663.1        23                18               10             \n",
              "ENSG00000288665.1         0                 0                0             \n",
              "ENSG00000288667.1         0                 0                0             \n",
              "ENSG00000288669.1         0                 0                0             \n",
              "ENSG00000288670.1        87               144              156             \n",
              "ENSG00000288671.1         0                 0                0             \n",
              "ENSG00000288674.1         5                 2               10             \n",
              "ENSG00000288675.1        28                36               20             \n",
              "                         TCGA-FB-AAPP-01A ⋯ TCGA-FB-A78T-01A TCGA-HZ-7919-01A\n",
              "ENSG00000000003.15        1191            ⋯  1525             1777           \n",
              "ENSG00000000005.6            2            ⋯     1                0           \n",
              "ENSG00000000419.13        1403            ⋯  1320             1915           \n",
              "ENSG00000000457.14         609            ⋯  1052             1025           \n",
              "ENSG00000000460.17         156            ⋯   232              329           \n",
              "ENSG00000000938.13          54            ⋯  1949              598           \n",
              "ENSG00000000971.16         244            ⋯  5561             6235           \n",
              "ENSG00000001036.14        1323            ⋯  2793             1889           \n",
              "ENSG00000001084.13         739            ⋯  1169             1593           \n",
              "ENSG00000001167.14         668            ⋯  1912             1357           \n",
              "ENSG00000001460.18         253            ⋯   479             1006           \n",
              "ENSG00000001461.17        1383            ⋯  1814             4433           \n",
              "ENSG00000001497.18        1555            ⋯  2511             1857           \n",
              "ENSG00000001561.7          544            ⋯  1267             1463           \n",
              "ENSG00000001617.12         262            ⋯   815             1882           \n",
              "ENSG00000001626.16          24            ⋯ 17425            17816           \n",
              "ENSG00000001629.10        2345            ⋯  2701             4032           \n",
              "ENSG00000001630.17         215            ⋯   140               93           \n",
              "ENSG00000001631.16         348            ⋯   405              329           \n",
              "ENSG00000002016.18         281            ⋯   841              226           \n",
              "ENSG00000002079.14          57            ⋯   163               86           \n",
              "ENSG00000002330.14         276            ⋯   619               62           \n",
              "ENSG00000002549.12        2494            ⋯  4019             6790           \n",
              "ENSG00000002586.20        2676            ⋯  8883             9616           \n",
              "ENSG00000002586.20_PAR_Y     0            ⋯     0                0           \n",
              "ENSG00000002587.10        2070            ⋯  5236             5519           \n",
              "ENSG00000002726.21       17677            ⋯  5654             5893           \n",
              "ENSG00000002745.13           0            ⋯     7               10           \n",
              "ENSG00000002746.15           2            ⋯    15              151           \n",
              "ENSG00000002822.15          83            ⋯    42               19           \n",
              "⋮                        ⋮                ⋱ ⋮                ⋮               \n",
              "ENSG00000288634.1          0              ⋯   0                0             \n",
              "ENSG00000288635.1          0              ⋯   0                0             \n",
              "ENSG00000288636.1          0              ⋯   0                0             \n",
              "ENSG00000288637.1          0              ⋯   3                0             \n",
              "ENSG00000288638.1          0              ⋯   0                0             \n",
              "ENSG00000288639.1          0              ⋯   0                0             \n",
              "ENSG00000288640.1          0              ⋯   0                0             \n",
              "ENSG00000288642.1          0              ⋯   0                0             \n",
              "ENSG00000288643.1          0              ⋯   0                0             \n",
              "ENSG00000288644.1          0              ⋯   0                0             \n",
              "ENSG00000288645.1          0              ⋯   0                0             \n",
              "ENSG00000288646.1          0              ⋯   0                0             \n",
              "ENSG00000288648.1          0              ⋯   0                0             \n",
              "ENSG00000288649.1          0              ⋯   0                0             \n",
              "ENSG00000288654.1          0              ⋯   0                0             \n",
              "ENSG00000288656.1          0              ⋯   0                0             \n",
              "ENSG00000288657.1          0              ⋯   0                0             \n",
              "ENSG00000288658.1          1              ⋯   5               11             \n",
              "ENSG00000288659.1          0              ⋯   0                0             \n",
              "ENSG00000288660.1          2              ⋯   2                0             \n",
              "ENSG00000288661.1          0              ⋯   0                0             \n",
              "ENSG00000288662.1          0              ⋯   1                0             \n",
              "ENSG00000288663.1         11              ⋯  77               15             \n",
              "ENSG00000288665.1          0              ⋯   0                0             \n",
              "ENSG00000288667.1          0              ⋯   1                0             \n",
              "ENSG00000288669.1          0              ⋯   0                0             \n",
              "ENSG00000288670.1        119              ⋯ 388              278             \n",
              "ENSG00000288671.1          0              ⋯   0                0             \n",
              "ENSG00000288674.1          2              ⋯   4                3             \n",
              "ENSG00000288675.1          7              ⋯  27               17             \n",
              "                         TCGA-IB-AAUP-01A TCGA-2J-AABI-01A TCGA-3A-A9IV-01A\n",
              "ENSG00000000003.15        1319             2178              158           \n",
              "ENSG00000000005.6            4                0                2           \n",
              "ENSG00000000419.13        1386             2149             1059           \n",
              "ENSG00000000457.14         750              821              310           \n",
              "ENSG00000000460.17         319              387              101           \n",
              "ENSG00000000938.13        1258              815              105           \n",
              "ENSG00000000971.16        7102            11415             1308           \n",
              "ENSG00000001036.14        2148             1227             1418           \n",
              "ENSG00000001084.13        1858              929             4282           \n",
              "ENSG00000001167.14        1462             1699              389           \n",
              "ENSG00000001460.18         483              452              410           \n",
              "ENSG00000001461.17        2309             1408             1790           \n",
              "ENSG00000001497.18        2287             4553             2066           \n",
              "ENSG00000001561.7          880              353             1780           \n",
              "ENSG00000001617.12        2274             2714              739           \n",
              "ENSG00000001626.16        3937              439               21           \n",
              "ENSG00000001629.10        3333             2955             2878           \n",
              "ENSG00000001630.17          84               78              162           \n",
              "ENSG00000001631.16         330              379              498           \n",
              "ENSG00000002016.18         474             2057              304           \n",
              "ENSG00000002079.14          85              463                2           \n",
              "ENSG00000002330.14         387             1181              288           \n",
              "ENSG00000002549.12        5826             4082             1854           \n",
              "ENSG00000002586.20       16607            18880            10431           \n",
              "ENSG00000002586.20_PAR_Y     0                0                0           \n",
              "ENSG00000002587.10         925             1878              178           \n",
              "ENSG00000002726.21        5146              187               34           \n",
              "ENSG00000002745.13          71               31                2           \n",
              "ENSG00000002746.15         139               54               83           \n",
              "ENSG00000002822.15         118              139                7           \n",
              "⋮                        ⋮                ⋮                ⋮               \n",
              "ENSG00000288634.1          0                0                0             \n",
              "ENSG00000288635.1          0                0                0             \n",
              "ENSG00000288636.1          0                0                0             \n",
              "ENSG00000288637.1          1                0                0             \n",
              "ENSG00000288638.1          2                0                0             \n",
              "ENSG00000288639.1          0                0                0             \n",
              "ENSG00000288640.1          0                0                0             \n",
              "ENSG00000288642.1          0                0                0             \n",
              "ENSG00000288643.1          0                0                0             \n",
              "ENSG00000288644.1          0                0                0             \n",
              "ENSG00000288645.1          0                0                0             \n",
              "ENSG00000288646.1          0                0                0             \n",
              "ENSG00000288648.1          0                0                0             \n",
              "ENSG00000288649.1          0                0                0             \n",
              "ENSG00000288654.1          0                0                0             \n",
              "ENSG00000288656.1          0                0                0             \n",
              "ENSG00000288657.1          0                0                0             \n",
              "ENSG00000288658.1         16               22               57             \n",
              "ENSG00000288659.1          0                0                0             \n",
              "ENSG00000288660.1          0                2                1             \n",
              "ENSG00000288661.1          0                0                0             \n",
              "ENSG00000288662.1          0                0                0             \n",
              "ENSG00000288663.1         28               38               32             \n",
              "ENSG00000288665.1          0                0                0             \n",
              "ENSG00000288667.1          1                0                0             \n",
              "ENSG00000288669.1          0                0                0             \n",
              "ENSG00000288670.1        125              429              206             \n",
              "ENSG00000288671.1          0                0                0             \n",
              "ENSG00000288674.1          6               15                4             \n",
              "ENSG00000288675.1         35               45               59             \n",
              "                         TCGA-YY-A8LH-01A TCGA-HV-A5A3-11A TCGA-H6-A45N-11A\n",
              "ENSG00000000003.15        1907             3092             369            \n",
              "ENSG00000000005.6            0                1               5            \n",
              "ENSG00000000419.13        1558             1092            1023            \n",
              "ENSG00000000457.14         777              610             706            \n",
              "ENSG00000000460.17         224              148             220            \n",
              "ENSG00000000938.13         162             1252            5757            \n",
              "ENSG00000000971.16        1458             2837             894            \n",
              "ENSG00000001036.14        2010             1780             799            \n",
              "ENSG00000001084.13        1182             1071            2380            \n",
              "ENSG00000001167.14        1582             1082            1303            \n",
              "ENSG00000001460.18         497              472             229            \n",
              "ENSG00000001461.17        1793             1465            1295            \n",
              "ENSG00000001497.18        2777             1695            2275            \n",
              "ENSG00000001561.7         1199             1135            1249            \n",
              "ENSG00000001617.12        1530             1155            1066            \n",
              "ENSG00000001626.16        3145            45994              17            \n",
              "ENSG00000001629.10        2065             2065            1922            \n",
              "ENSG00000001630.17         148               44              31            \n",
              "ENSG00000001631.16         320              211             424            \n",
              "ENSG00000002016.18         387              374             598            \n",
              "ENSG00000002079.14          53               28              14            \n",
              "ENSG00000002330.14         688              372             180            \n",
              "ENSG00000002549.12        6019             4681            6771            \n",
              "ENSG00000002586.20        8519            14198            4468            \n",
              "ENSG00000002586.20_PAR_Y     0                0               0            \n",
              "ENSG00000002587.10       11376              587             450            \n",
              "ENSG00000002726.21       12737              541              22            \n",
              "ENSG00000002745.13           5                3             140            \n",
              "ENSG00000002746.15          12               17              22            \n",
              "ENSG00000002822.15          77               13             133            \n",
              "⋮                        ⋮                ⋮                ⋮               \n",
              "ENSG00000288634.1          0                0                0             \n",
              "ENSG00000288635.1          0                0                0             \n",
              "ENSG00000288636.1          0                0                0             \n",
              "ENSG00000288637.1          0                3                1             \n",
              "ENSG00000288638.1          0                0                3             \n",
              "ENSG00000288639.1          0                0                0             \n",
              "ENSG00000288640.1          0                0                0             \n",
              "ENSG00000288642.1          0                0                0             \n",
              "ENSG00000288643.1          0                0                0             \n",
              "ENSG00000288644.1          0                0                0             \n",
              "ENSG00000288645.1          0                0                0             \n",
              "ENSG00000288646.1          0                0                0             \n",
              "ENSG00000288648.1          0                3                0             \n",
              "ENSG00000288649.1          0                0                0             \n",
              "ENSG00000288654.1          0                0                0             \n",
              "ENSG00000288656.1          1                1                2             \n",
              "ENSG00000288657.1          0                0                3             \n",
              "ENSG00000288658.1         20                8               16             \n",
              "ENSG00000288659.1          0                0                3             \n",
              "ENSG00000288660.1          2                1                0             \n",
              "ENSG00000288661.1          0                0                0             \n",
              "ENSG00000288662.1          0                0                0             \n",
              "ENSG00000288663.1         27               31               51             \n",
              "ENSG00000288665.1          0                0                0             \n",
              "ENSG00000288667.1          0                0                1             \n",
              "ENSG00000288669.1          0                0                0             \n",
              "ENSG00000288670.1        338              138              165             \n",
              "ENSG00000288671.1          0                0                0             \n",
              "ENSG00000288674.1         16                5                9             \n",
              "ENSG00000288675.1         26               25               20             \n",
              "                         TCGA-YB-A89D-11A TCGA-H6-8124-11A\n",
              "ENSG00000000003.15        1593              3738          \n",
              "ENSG00000000005.6          331                 4          \n",
              "ENSG00000000419.13        1228              1532          \n",
              "ENSG00000000457.14         348               959          \n",
              "ENSG00000000460.17         132               243          \n",
              "ENSG00000000938.13        5016              2046          \n",
              "ENSG00000000971.16        5425              7427          \n",
              "ENSG00000001036.14        2322              2836          \n",
              "ENSG00000001084.13        1172              2602          \n",
              "ENSG00000001167.14        1100              1625          \n",
              "ENSG00000001460.18         401               738          \n",
              "ENSG00000001461.17        1010              2790          \n",
              "ENSG00000001497.18        1558              2176          \n",
              "ENSG00000001561.7         1097              1933          \n",
              "ENSG00000001617.12        1859              1089          \n",
              "ENSG00000001626.16        7319            102761          \n",
              "ENSG00000001629.10        2236              4006          \n",
              "ENSG00000001630.17         112               160          \n",
              "ENSG00000001631.16         188               283          \n",
              "ENSG00000002016.18         255               407          \n",
              "ENSG00000002079.14          60                18          \n",
              "ENSG00000002330.14         487               468          \n",
              "ENSG00000002549.12        5233              6495          \n",
              "ENSG00000002586.20       20703             14544          \n",
              "ENSG00000002586.20_PAR_Y     0                 0          \n",
              "ENSG00000002587.10        2566               718          \n",
              "ENSG00000002726.21        2275               854          \n",
              "ENSG00000002745.13          10                 6          \n",
              "ENSG00000002746.15          67               163          \n",
              "ENSG00000002822.15          38                36          \n",
              "⋮                        ⋮                ⋮               \n",
              "ENSG00000288634.1          0                0             \n",
              "ENSG00000288635.1          0                0             \n",
              "ENSG00000288636.1          0                0             \n",
              "ENSG00000288637.1          0                2             \n",
              "ENSG00000288638.1          0                0             \n",
              "ENSG00000288639.1          0                0             \n",
              "ENSG00000288640.1          0                0             \n",
              "ENSG00000288642.1          0                0             \n",
              "ENSG00000288643.1          0                0             \n",
              "ENSG00000288644.1          0                0             \n",
              "ENSG00000288645.1          0                0             \n",
              "ENSG00000288646.1          0                0             \n",
              "ENSG00000288648.1          0                0             \n",
              "ENSG00000288649.1          0                0             \n",
              "ENSG00000288654.1          0                0             \n",
              "ENSG00000288656.1          1                0             \n",
              "ENSG00000288657.1          0                0             \n",
              "ENSG00000288658.1          9                6             \n",
              "ENSG00000288659.1          0                0             \n",
              "ENSG00000288660.1          1                1             \n",
              "ENSG00000288661.1          0                0             \n",
              "ENSG00000288662.1          0                0             \n",
              "ENSG00000288663.1         19               14             \n",
              "ENSG00000288665.1          0                0             \n",
              "ENSG00000288667.1          0                0             \n",
              "ENSG00000288669.1          0                0             \n",
              "ENSG00000288670.1        107              193             \n",
              "ENSG00000288671.1          0                0             \n",
              "ENSG00000288674.1          6                9             \n",
              "ENSG00000288675.1         16               31             "
            ]
          },
          "metadata": {}
        }
      ]
    },
    {
      "cell_type": "markdown",
      "source": [
        "#load column data (what each column represents)"
      ],
      "metadata": {
        "id": "HFmYm1vS1nBW"
      }
    },
    {
      "cell_type": "code",
      "source": [
        "Col_data = read.csv(file = \"/content/Column_data.csv\", header = T, row.names=1,check.names = FALSE)\n",
        "Col_data"
      ],
      "metadata": {
        "colab": {
          "base_uri": "https://localhost:8080/",
          "height": 1000
        },
        "id": "ADKl4HdNwR9c",
        "outputId": "24a6340c-acf7-411e-e856-b770a623ec87"
      },
      "execution_count": 10,
      "outputs": [
        {
          "output_type": "display_data",
          "data": {
            "text/html": [
              "<table class=\"dataframe\">\n",
              "<caption>A data.frame: 168 × 1</caption>\n",
              "<thead>\n",
              "\t<tr><th></th><th scope=col>condition</th></tr>\n",
              "\t<tr><th></th><th scope=col>&lt;chr&gt;</th></tr>\n",
              "</thead>\n",
              "<tbody>\n",
              "\t<tr><th scope=row>TCGA-FB-AAPY-01A</th><td>cancer</td></tr>\n",
              "\t<tr><th scope=row>TCGA-IB-A7LX-01A</th><td>cancer</td></tr>\n",
              "\t<tr><th scope=row>TCGA-XN-A8T5-01A</th><td>cancer</td></tr>\n",
              "\t<tr><th scope=row>TCGA-HZ-A77O-01A</th><td>cancer</td></tr>\n",
              "\t<tr><th scope=row>TCGA-FB-AAPQ-01A</th><td>cancer</td></tr>\n",
              "\t<tr><th scope=row>TCGA-3A-A9IL-01A</th><td>cancer</td></tr>\n",
              "\t<tr><th scope=row>TCGA-FB-AAPS-01A</th><td>cancer</td></tr>\n",
              "\t<tr><th scope=row>TCGA-IB-A7M4-01A</th><td>cancer</td></tr>\n",
              "\t<tr><th scope=row>TCGA-IB-8126-01A</th><td>cancer</td></tr>\n",
              "\t<tr><th scope=row>TCGA-FB-AAPP-01A</th><td>cancer</td></tr>\n",
              "\t<tr><th scope=row>TCGA-FB-A4P6-01A</th><td>cancer</td></tr>\n",
              "\t<tr><th scope=row>TCGA-2J-AAB8-01A</th><td>cancer</td></tr>\n",
              "\t<tr><th scope=row>TCGA-US-A774-01A</th><td>cancer</td></tr>\n",
              "\t<tr><th scope=row>TCGA-FB-A5VM-01A</th><td>cancer</td></tr>\n",
              "\t<tr><th scope=row>TCGA-2J-AABK-01A</th><td>cancer</td></tr>\n",
              "\t<tr><th scope=row>TCGA-3A-A9I7-01A</th><td>cancer</td></tr>\n",
              "\t<tr><th scope=row>TCGA-IB-AAUU-01A</th><td>cancer</td></tr>\n",
              "\t<tr><th scope=row>TCGA-IB-8127-01A</th><td>cancer</td></tr>\n",
              "\t<tr><th scope=row>TCGA-2J-AABO-01A</th><td>cancer</td></tr>\n",
              "\t<tr><th scope=row>TCGA-US-A77E-01A</th><td>cancer</td></tr>\n",
              "\t<tr><th scope=row>TCGA-2J-AAB9-01A</th><td>cancer</td></tr>\n",
              "\t<tr><th scope=row>TCGA-H6-A45N-01A</th><td>cancer</td></tr>\n",
              "\t<tr><th scope=row>TCGA-LB-A7SX-01A</th><td>cancer</td></tr>\n",
              "\t<tr><th scope=row>TCGA-2L-AAQA-01A</th><td>cancer</td></tr>\n",
              "\t<tr><th scope=row>TCGA-HZ-A4BK-01A</th><td>cancer</td></tr>\n",
              "\t<tr><th scope=row>TCGA-IB-AAUR-01A</th><td>cancer</td></tr>\n",
              "\t<tr><th scope=row>TCGA-IB-7891-01A</th><td>cancer</td></tr>\n",
              "\t<tr><th scope=row>TCGA-3A-A9IU-01A</th><td>cancer</td></tr>\n",
              "\t<tr><th scope=row>TCGA-2L-AAQI-01A</th><td>cancer</td></tr>\n",
              "\t<tr><th scope=row>TCGA-3A-A9J0-01A</th><td>cancer</td></tr>\n",
              "\t<tr><th scope=row>⋮</th><td>⋮</td></tr>\n",
              "\t<tr><th scope=row>TCGA-IB-7893-01A</th><td>cancer</td></tr>\n",
              "\t<tr><th scope=row>TCGA-FB-AAQ0-01A</th><td>cancer</td></tr>\n",
              "\t<tr><th scope=row>TCGA-YB-A89D-01A</th><td>cancer</td></tr>\n",
              "\t<tr><th scope=row>TCGA-HZ-A77P-01A</th><td>cancer</td></tr>\n",
              "\t<tr><th scope=row>TCGA-US-A776-01A</th><td>cancer</td></tr>\n",
              "\t<tr><th scope=row>TCGA-2L-AAQJ-01A</th><td>cancer</td></tr>\n",
              "\t<tr><th scope=row>TCGA-HV-A5A4-01A</th><td>cancer</td></tr>\n",
              "\t<tr><th scope=row>TCGA-HZ-8637-01A</th><td>cancer</td></tr>\n",
              "\t<tr><th scope=row>TCGA-H6-8124-01A</th><td>cancer</td></tr>\n",
              "\t<tr><th scope=row>TCGA-M8-A5N4-01A</th><td>cancer</td></tr>\n",
              "\t<tr><th scope=row>TCGA-2L-AAQL-01A</th><td>cancer</td></tr>\n",
              "\t<tr><th scope=row>TCGA-PZ-A5RE-01A</th><td>cancer</td></tr>\n",
              "\t<tr><th scope=row>TCGA-FB-AAQ2-01A</th><td>cancer</td></tr>\n",
              "\t<tr><th scope=row>TCGA-FB-AAQ3-01A</th><td>cancer</td></tr>\n",
              "\t<tr><th scope=row>TCGA-2J-AABF-01A</th><td>cancer</td></tr>\n",
              "\t<tr><th scope=row>TCGA-3A-A9I5-01A</th><td>cancer</td></tr>\n",
              "\t<tr><th scope=row>TCGA-HZ-8317-01A</th><td>cancer</td></tr>\n",
              "\t<tr><th scope=row>TCGA-RB-A7B8-01A</th><td>cancer</td></tr>\n",
              "\t<tr><th scope=row>TCGA-HZ-A8P1-01A</th><td>cancer</td></tr>\n",
              "\t<tr><th scope=row>TCGA-3A-A9I9-01A</th><td>cancer</td></tr>\n",
              "\t<tr><th scope=row>TCGA-FB-A78T-01A</th><td>cancer</td></tr>\n",
              "\t<tr><th scope=row>TCGA-HZ-7919-01A</th><td>cancer</td></tr>\n",
              "\t<tr><th scope=row>TCGA-IB-AAUP-01A</th><td>cancer</td></tr>\n",
              "\t<tr><th scope=row>TCGA-2J-AABI-01A</th><td>cancer</td></tr>\n",
              "\t<tr><th scope=row>TCGA-3A-A9IV-01A</th><td>cancer</td></tr>\n",
              "\t<tr><th scope=row>TCGA-YY-A8LH-01A</th><td>cancer</td></tr>\n",
              "\t<tr><th scope=row>TCGA-HV-A5A3-11A</th><td>normal</td></tr>\n",
              "\t<tr><th scope=row>TCGA-H6-A45N-11A</th><td>normal</td></tr>\n",
              "\t<tr><th scope=row>TCGA-YB-A89D-11A</th><td>normal</td></tr>\n",
              "\t<tr><th scope=row>TCGA-H6-8124-11A</th><td>normal</td></tr>\n",
              "</tbody>\n",
              "</table>\n"
            ],
            "text/markdown": "\nA data.frame: 168 × 1\n\n| <!--/--> | condition &lt;chr&gt; |\n|---|---|\n| TCGA-FB-AAPY-01A | cancer |\n| TCGA-IB-A7LX-01A | cancer |\n| TCGA-XN-A8T5-01A | cancer |\n| TCGA-HZ-A77O-01A | cancer |\n| TCGA-FB-AAPQ-01A | cancer |\n| TCGA-3A-A9IL-01A | cancer |\n| TCGA-FB-AAPS-01A | cancer |\n| TCGA-IB-A7M4-01A | cancer |\n| TCGA-IB-8126-01A | cancer |\n| TCGA-FB-AAPP-01A | cancer |\n| TCGA-FB-A4P6-01A | cancer |\n| TCGA-2J-AAB8-01A | cancer |\n| TCGA-US-A774-01A | cancer |\n| TCGA-FB-A5VM-01A | cancer |\n| TCGA-2J-AABK-01A | cancer |\n| TCGA-3A-A9I7-01A | cancer |\n| TCGA-IB-AAUU-01A | cancer |\n| TCGA-IB-8127-01A | cancer |\n| TCGA-2J-AABO-01A | cancer |\n| TCGA-US-A77E-01A | cancer |\n| TCGA-2J-AAB9-01A | cancer |\n| TCGA-H6-A45N-01A | cancer |\n| TCGA-LB-A7SX-01A | cancer |\n| TCGA-2L-AAQA-01A | cancer |\n| TCGA-HZ-A4BK-01A | cancer |\n| TCGA-IB-AAUR-01A | cancer |\n| TCGA-IB-7891-01A | cancer |\n| TCGA-3A-A9IU-01A | cancer |\n| TCGA-2L-AAQI-01A | cancer |\n| TCGA-3A-A9J0-01A | cancer |\n| ⋮ | ⋮ |\n| TCGA-IB-7893-01A | cancer |\n| TCGA-FB-AAQ0-01A | cancer |\n| TCGA-YB-A89D-01A | cancer |\n| TCGA-HZ-A77P-01A | cancer |\n| TCGA-US-A776-01A | cancer |\n| TCGA-2L-AAQJ-01A | cancer |\n| TCGA-HV-A5A4-01A | cancer |\n| TCGA-HZ-8637-01A | cancer |\n| TCGA-H6-8124-01A | cancer |\n| TCGA-M8-A5N4-01A | cancer |\n| TCGA-2L-AAQL-01A | cancer |\n| TCGA-PZ-A5RE-01A | cancer |\n| TCGA-FB-AAQ2-01A | cancer |\n| TCGA-FB-AAQ3-01A | cancer |\n| TCGA-2J-AABF-01A | cancer |\n| TCGA-3A-A9I5-01A | cancer |\n| TCGA-HZ-8317-01A | cancer |\n| TCGA-RB-A7B8-01A | cancer |\n| TCGA-HZ-A8P1-01A | cancer |\n| TCGA-3A-A9I9-01A | cancer |\n| TCGA-FB-A78T-01A | cancer |\n| TCGA-HZ-7919-01A | cancer |\n| TCGA-IB-AAUP-01A | cancer |\n| TCGA-2J-AABI-01A | cancer |\n| TCGA-3A-A9IV-01A | cancer |\n| TCGA-YY-A8LH-01A | cancer |\n| TCGA-HV-A5A3-11A | normal |\n| TCGA-H6-A45N-11A | normal |\n| TCGA-YB-A89D-11A | normal |\n| TCGA-H6-8124-11A | normal |\n\n",
            "text/latex": "A data.frame: 168 × 1\n\\begin{tabular}{r|l}\n  & condition\\\\\n  & <chr>\\\\\n\\hline\n\tTCGA-FB-AAPY-01A & cancer\\\\\n\tTCGA-IB-A7LX-01A & cancer\\\\\n\tTCGA-XN-A8T5-01A & cancer\\\\\n\tTCGA-HZ-A77O-01A & cancer\\\\\n\tTCGA-FB-AAPQ-01A & cancer\\\\\n\tTCGA-3A-A9IL-01A & cancer\\\\\n\tTCGA-FB-AAPS-01A & cancer\\\\\n\tTCGA-IB-A7M4-01A & cancer\\\\\n\tTCGA-IB-8126-01A & cancer\\\\\n\tTCGA-FB-AAPP-01A & cancer\\\\\n\tTCGA-FB-A4P6-01A & cancer\\\\\n\tTCGA-2J-AAB8-01A & cancer\\\\\n\tTCGA-US-A774-01A & cancer\\\\\n\tTCGA-FB-A5VM-01A & cancer\\\\\n\tTCGA-2J-AABK-01A & cancer\\\\\n\tTCGA-3A-A9I7-01A & cancer\\\\\n\tTCGA-IB-AAUU-01A & cancer\\\\\n\tTCGA-IB-8127-01A & cancer\\\\\n\tTCGA-2J-AABO-01A & cancer\\\\\n\tTCGA-US-A77E-01A & cancer\\\\\n\tTCGA-2J-AAB9-01A & cancer\\\\\n\tTCGA-H6-A45N-01A & cancer\\\\\n\tTCGA-LB-A7SX-01A & cancer\\\\\n\tTCGA-2L-AAQA-01A & cancer\\\\\n\tTCGA-HZ-A4BK-01A & cancer\\\\\n\tTCGA-IB-AAUR-01A & cancer\\\\\n\tTCGA-IB-7891-01A & cancer\\\\\n\tTCGA-3A-A9IU-01A & cancer\\\\\n\tTCGA-2L-AAQI-01A & cancer\\\\\n\tTCGA-3A-A9J0-01A & cancer\\\\\n\t⋮ & ⋮\\\\\n\tTCGA-IB-7893-01A & cancer\\\\\n\tTCGA-FB-AAQ0-01A & cancer\\\\\n\tTCGA-YB-A89D-01A & cancer\\\\\n\tTCGA-HZ-A77P-01A & cancer\\\\\n\tTCGA-US-A776-01A & cancer\\\\\n\tTCGA-2L-AAQJ-01A & cancer\\\\\n\tTCGA-HV-A5A4-01A & cancer\\\\\n\tTCGA-HZ-8637-01A & cancer\\\\\n\tTCGA-H6-8124-01A & cancer\\\\\n\tTCGA-M8-A5N4-01A & cancer\\\\\n\tTCGA-2L-AAQL-01A & cancer\\\\\n\tTCGA-PZ-A5RE-01A & cancer\\\\\n\tTCGA-FB-AAQ2-01A & cancer\\\\\n\tTCGA-FB-AAQ3-01A & cancer\\\\\n\tTCGA-2J-AABF-01A & cancer\\\\\n\tTCGA-3A-A9I5-01A & cancer\\\\\n\tTCGA-HZ-8317-01A & cancer\\\\\n\tTCGA-RB-A7B8-01A & cancer\\\\\n\tTCGA-HZ-A8P1-01A & cancer\\\\\n\tTCGA-3A-A9I9-01A & cancer\\\\\n\tTCGA-FB-A78T-01A & cancer\\\\\n\tTCGA-HZ-7919-01A & cancer\\\\\n\tTCGA-IB-AAUP-01A & cancer\\\\\n\tTCGA-2J-AABI-01A & cancer\\\\\n\tTCGA-3A-A9IV-01A & cancer\\\\\n\tTCGA-YY-A8LH-01A & cancer\\\\\n\tTCGA-HV-A5A3-11A & normal\\\\\n\tTCGA-H6-A45N-11A & normal\\\\\n\tTCGA-YB-A89D-11A & normal\\\\\n\tTCGA-H6-8124-11A & normal\\\\\n\\end{tabular}\n",
            "text/plain": [
              "                 condition\n",
              "TCGA-FB-AAPY-01A cancer   \n",
              "TCGA-IB-A7LX-01A cancer   \n",
              "TCGA-XN-A8T5-01A cancer   \n",
              "TCGA-HZ-A77O-01A cancer   \n",
              "TCGA-FB-AAPQ-01A cancer   \n",
              "TCGA-3A-A9IL-01A cancer   \n",
              "TCGA-FB-AAPS-01A cancer   \n",
              "TCGA-IB-A7M4-01A cancer   \n",
              "TCGA-IB-8126-01A cancer   \n",
              "TCGA-FB-AAPP-01A cancer   \n",
              "TCGA-FB-A4P6-01A cancer   \n",
              "TCGA-2J-AAB8-01A cancer   \n",
              "TCGA-US-A774-01A cancer   \n",
              "TCGA-FB-A5VM-01A cancer   \n",
              "TCGA-2J-AABK-01A cancer   \n",
              "TCGA-3A-A9I7-01A cancer   \n",
              "TCGA-IB-AAUU-01A cancer   \n",
              "TCGA-IB-8127-01A cancer   \n",
              "TCGA-2J-AABO-01A cancer   \n",
              "TCGA-US-A77E-01A cancer   \n",
              "TCGA-2J-AAB9-01A cancer   \n",
              "TCGA-H6-A45N-01A cancer   \n",
              "TCGA-LB-A7SX-01A cancer   \n",
              "TCGA-2L-AAQA-01A cancer   \n",
              "TCGA-HZ-A4BK-01A cancer   \n",
              "TCGA-IB-AAUR-01A cancer   \n",
              "TCGA-IB-7891-01A cancer   \n",
              "TCGA-3A-A9IU-01A cancer   \n",
              "TCGA-2L-AAQI-01A cancer   \n",
              "TCGA-3A-A9J0-01A cancer   \n",
              "⋮                ⋮        \n",
              "TCGA-IB-7893-01A cancer   \n",
              "TCGA-FB-AAQ0-01A cancer   \n",
              "TCGA-YB-A89D-01A cancer   \n",
              "TCGA-HZ-A77P-01A cancer   \n",
              "TCGA-US-A776-01A cancer   \n",
              "TCGA-2L-AAQJ-01A cancer   \n",
              "TCGA-HV-A5A4-01A cancer   \n",
              "TCGA-HZ-8637-01A cancer   \n",
              "TCGA-H6-8124-01A cancer   \n",
              "TCGA-M8-A5N4-01A cancer   \n",
              "TCGA-2L-AAQL-01A cancer   \n",
              "TCGA-PZ-A5RE-01A cancer   \n",
              "TCGA-FB-AAQ2-01A cancer   \n",
              "TCGA-FB-AAQ3-01A cancer   \n",
              "TCGA-2J-AABF-01A cancer   \n",
              "TCGA-3A-A9I5-01A cancer   \n",
              "TCGA-HZ-8317-01A cancer   \n",
              "TCGA-RB-A7B8-01A cancer   \n",
              "TCGA-HZ-A8P1-01A cancer   \n",
              "TCGA-3A-A9I9-01A cancer   \n",
              "TCGA-FB-A78T-01A cancer   \n",
              "TCGA-HZ-7919-01A cancer   \n",
              "TCGA-IB-AAUP-01A cancer   \n",
              "TCGA-2J-AABI-01A cancer   \n",
              "TCGA-3A-A9IV-01A cancer   \n",
              "TCGA-YY-A8LH-01A cancer   \n",
              "TCGA-HV-A5A3-11A normal   \n",
              "TCGA-H6-A45N-11A normal   \n",
              "TCGA-YB-A89D-11A normal   \n",
              "TCGA-H6-8124-11A normal   "
            ]
          },
          "metadata": {}
        }
      ]
    },
    {
      "cell_type": "code",
      "source": [
        "colnames(Count_data)"
      ],
      "metadata": {
        "colab": {
          "base_uri": "https://localhost:8080/",
          "height": 433
        },
        "id": "Xdkh4kgqwR6y",
        "outputId": "f40396b9-9801-4fa9-c828-535c2ec8ad54"
      },
      "execution_count": 11,
      "outputs": [
        {
          "output_type": "display_data",
          "data": {
            "text/html": [
              "<style>\n",
              ".list-inline {list-style: none; margin:0; padding: 0}\n",
              ".list-inline>li {display: inline-block}\n",
              ".list-inline>li:not(:last-child)::after {content: \"\\00b7\"; padding: 0 .5ex}\n",
              "</style>\n",
              "<ol class=list-inline><li>'TCGA-FB-AAPY-01A'</li><li>'TCGA-IB-A7LX-01A'</li><li>'TCGA-XN-A8T5-01A'</li><li>'TCGA-HZ-A77O-01A'</li><li>'TCGA-FB-AAPQ-01A'</li><li>'TCGA-3A-A9IL-01A'</li><li>'TCGA-FB-AAPS-01A'</li><li>'TCGA-IB-A7M4-01A'</li><li>'TCGA-IB-8126-01A'</li><li>'TCGA-FB-AAPP-01A'</li><li>'TCGA-FB-A4P6-01A'</li><li>'TCGA-2J-AAB8-01A'</li><li>'TCGA-US-A774-01A'</li><li>'TCGA-FB-A5VM-01A'</li><li>'TCGA-2J-AABK-01A'</li><li>'TCGA-3A-A9I7-01A'</li><li>'TCGA-IB-AAUU-01A'</li><li>'TCGA-IB-8127-01A'</li><li>'TCGA-2J-AABO-01A'</li><li>'TCGA-US-A77E-01A'</li><li>'TCGA-2J-AAB9-01A'</li><li>'TCGA-H6-A45N-01A'</li><li>'TCGA-LB-A7SX-01A'</li><li>'TCGA-2L-AAQA-01A'</li><li>'TCGA-HZ-A4BK-01A'</li><li>'TCGA-IB-AAUR-01A'</li><li>'TCGA-IB-7891-01A'</li><li>'TCGA-3A-A9IU-01A'</li><li>'TCGA-2L-AAQI-01A'</li><li>'TCGA-3A-A9J0-01A'</li><li>'TCGA-HV-A5A3-01A'</li><li>'TCGA-H8-A6C1-01A'</li><li>'TCGA-2L-AAQM-01A'</li><li>'TCGA-FB-AAQ6-01A'</li><li>'TCGA-IB-7647-01A'</li><li>'TCGA-HZ-8315-01A'</li><li>'TCGA-HV-A5A5-01A'</li><li>'TCGA-3A-A9IR-01A'</li><li>'TCGA-IB-7887-01A'</li><li>'TCGA-IB-A6UF-01A'</li><li>'TCGA-HZ-A49H-01A'</li><li>'TCGA-S4-A8RM-01A'</li><li>'TCGA-HV-AA8V-01A'</li><li>'TCGA-HZ-7289-01A'</li><li>'TCGA-3A-A9IN-01A'</li><li>'TCGA-2L-AAQE-01A'</li><li>'TCGA-2J-AABR-01A'</li><li>'TCGA-F2-A8YN-01A'</li><li>'TCGA-IB-7651-01A'</li><li>'TCGA-HV-AA8X-01A'</li><li>'TCGA-LB-A9Q5-01A'</li><li>'TCGA-Z5-AAPL-01A'</li><li>'TCGA-XD-AAUH-01A'</li><li>'TCGA-3A-A9IC-01A'</li><li>'TCGA-XD-AAUI-01A'</li><li>'TCGA-2J-AAB6-01A'</li><li>'TCGA-IB-AAUN-01A'</li><li>'TCGA-3A-A9IS-01A'</li><li>'TCGA-IB-AAUM-01A'</li><li>'TCGA-IB-7885-01A'</li><li>'TCGA-XN-A8T3-01A'</li><li>'TCGA-3A-A9IX-01A'</li><li>'TCGA-HZ-8002-01A'</li><li>'TCGA-IB-7646-01A'</li><li>'TCGA-2J-AAB4-01A'</li><li>'TCGA-IB-7890-01A'</li><li>'TCGA-IB-7889-01A'</li><li>'TCGA-FB-AAPU-01A'</li><li>'TCGA-HZ-A4BH-01A'</li><li>'TCGA-2J-AABV-01A'</li><li>'TCGA-FB-AAQ1-01A'</li><li>'TCGA-IB-A5SQ-01A'</li><li>'TCGA-2J-AABA-01A'</li><li>'TCGA-F2-A44G-01A'</li><li>'TCGA-IB-AAUT-01A'</li><li>'TCGA-HZ-7918-01A'</li><li>'TCGA-2J-AABT-01A'</li><li>'TCGA-F2-A7TX-01A'</li><li>'TCGA-IB-AAUQ-01A'</li><li>'TCGA-HZ-A77Q-01A'</li><li>'TCGA-IB-7645-01A'</li><li>'TCGA-3A-A9IO-01A'</li><li>'TCGA-FB-A7DR-01A'</li><li>'TCGA-F2-6879-01A'</li><li>'TCGA-XD-AAUG-01A'</li><li>'TCGA-3A-A9IB-01A'</li><li>'TCGA-IB-AAUO-01A'</li><li>'TCGA-IB-AAUS-01A'</li><li>'TCGA-HZ-8001-01A'</li><li>'TCGA-IB-7886-01A'</li><li>'TCGA-HZ-A49I-01A'</li><li>'TCGA-2J-AABE-01A'</li><li>'TCGA-HZ-7920-01A'</li><li>'TCGA-US-A779-01A'</li><li>'TCGA-HZ-7926-01A'</li><li>'TCGA-HZ-8005-01A'</li><li>'TCGA-3E-AAAZ-01A'</li><li>'TCGA-XD-AAUL-01A'</li><li>'TCGA-HZ-8636-01A'</li><li>'TCGA-HZ-A8P0-01A'</li><li>'TCGA-IB-A5SO-01A'</li><li>'TCGA-S4-A8RP-01A'</li><li>'TCGA-HZ-7925-01A'</li><li>'TCGA-3A-A9IH-01A'</li><li>'TCGA-S4-A8RO-01A'</li><li>'TCGA-RB-AA9M-01A'</li><li>'TCGA-IB-A5SP-01A'</li><li>'TCGA-OE-A75W-01A'</li><li>'TCGA-IB-7888-01A'</li><li>'TCGA-LB-A8F3-01A'</li><li>'TCGA-HZ-A9TJ-01A'</li><li>'TCGA-3A-A9IJ-01A'</li><li>'TCGA-IB-AAUW-01A'</li><li>'TCGA-IB-7644-01A'</li><li>'TCGA-IB-A5ST-01A'</li><li>'TCGA-HZ-7922-01A'</li><li>'TCGA-Q3-A5QY-01A'</li><li>'TCGA-Q3-AA2A-01A'</li><li>'TCGA-2J-AAB1-01A'</li><li>'TCGA-HV-A5A6-01A'</li><li>'TCGA-IB-7654-01A'</li><li>'TCGA-HZ-8003-01A'</li><li>'TCGA-IB-7649-01A'</li><li>'TCGA-IB-7652-01A'</li><li>'TCGA-US-A77G-01A'</li><li>'TCGA-3E-AAAY-01A'</li><li>'TCGA-2J-AABH-01A'</li><li>'TCGA-HV-A7OL-01A'</li><li>'TCGA-3A-A9IZ-01A'</li><li>'TCGA-YH-A8SY-01A'</li><li>'TCGA-F2-7273-01A'</li><li>'TCGA-IB-A5SS-01A'</li><li>'TCGA-FB-AAPZ-01A'</li><li>'TCGA-2J-AABP-01A'</li><li>'TCGA-IB-A6UG-01A'</li><li>'TCGA-F2-A44H-01A'</li><li>'TCGA-HV-A7OP-01A'</li><li>'TCGA-IB-7897-01A'</li><li>'TCGA-IB-7893-01A'</li><li>'TCGA-FB-AAQ0-01A'</li><li>'TCGA-YB-A89D-01A'</li><li>'TCGA-HZ-A77P-01A'</li><li>'TCGA-US-A776-01A'</li><li>'TCGA-2L-AAQJ-01A'</li><li>'TCGA-HV-A5A4-01A'</li><li>'TCGA-HZ-8637-01A'</li><li>'TCGA-H6-8124-01A'</li><li>'TCGA-M8-A5N4-01A'</li><li>'TCGA-2L-AAQL-01A'</li><li>'TCGA-PZ-A5RE-01A'</li><li>'TCGA-FB-AAQ2-01A'</li><li>'TCGA-FB-AAQ3-01A'</li><li>'TCGA-2J-AABF-01A'</li><li>'TCGA-3A-A9I5-01A'</li><li>'TCGA-HZ-8317-01A'</li><li>'TCGA-RB-A7B8-01A'</li><li>'TCGA-HZ-A8P1-01A'</li><li>'TCGA-3A-A9I9-01A'</li><li>'TCGA-FB-A78T-01A'</li><li>'TCGA-HZ-7919-01A'</li><li>'TCGA-IB-AAUP-01A'</li><li>'TCGA-2J-AABI-01A'</li><li>'TCGA-3A-A9IV-01A'</li><li>'TCGA-YY-A8LH-01A'</li><li>'TCGA-HV-A5A3-11A'</li><li>'TCGA-H6-A45N-11A'</li><li>'TCGA-YB-A89D-11A'</li><li>'TCGA-H6-8124-11A'</li></ol>\n"
            ],
            "text/markdown": "1. 'TCGA-FB-AAPY-01A'\n2. 'TCGA-IB-A7LX-01A'\n3. 'TCGA-XN-A8T5-01A'\n4. 'TCGA-HZ-A77O-01A'\n5. 'TCGA-FB-AAPQ-01A'\n6. 'TCGA-3A-A9IL-01A'\n7. 'TCGA-FB-AAPS-01A'\n8. 'TCGA-IB-A7M4-01A'\n9. 'TCGA-IB-8126-01A'\n10. 'TCGA-FB-AAPP-01A'\n11. 'TCGA-FB-A4P6-01A'\n12. 'TCGA-2J-AAB8-01A'\n13. 'TCGA-US-A774-01A'\n14. 'TCGA-FB-A5VM-01A'\n15. 'TCGA-2J-AABK-01A'\n16. 'TCGA-3A-A9I7-01A'\n17. 'TCGA-IB-AAUU-01A'\n18. 'TCGA-IB-8127-01A'\n19. 'TCGA-2J-AABO-01A'\n20. 'TCGA-US-A77E-01A'\n21. 'TCGA-2J-AAB9-01A'\n22. 'TCGA-H6-A45N-01A'\n23. 'TCGA-LB-A7SX-01A'\n24. 'TCGA-2L-AAQA-01A'\n25. 'TCGA-HZ-A4BK-01A'\n26. 'TCGA-IB-AAUR-01A'\n27. 'TCGA-IB-7891-01A'\n28. 'TCGA-3A-A9IU-01A'\n29. 'TCGA-2L-AAQI-01A'\n30. 'TCGA-3A-A9J0-01A'\n31. 'TCGA-HV-A5A3-01A'\n32. 'TCGA-H8-A6C1-01A'\n33. 'TCGA-2L-AAQM-01A'\n34. 'TCGA-FB-AAQ6-01A'\n35. 'TCGA-IB-7647-01A'\n36. 'TCGA-HZ-8315-01A'\n37. 'TCGA-HV-A5A5-01A'\n38. 'TCGA-3A-A9IR-01A'\n39. 'TCGA-IB-7887-01A'\n40. 'TCGA-IB-A6UF-01A'\n41. 'TCGA-HZ-A49H-01A'\n42. 'TCGA-S4-A8RM-01A'\n43. 'TCGA-HV-AA8V-01A'\n44. 'TCGA-HZ-7289-01A'\n45. 'TCGA-3A-A9IN-01A'\n46. 'TCGA-2L-AAQE-01A'\n47. 'TCGA-2J-AABR-01A'\n48. 'TCGA-F2-A8YN-01A'\n49. 'TCGA-IB-7651-01A'\n50. 'TCGA-HV-AA8X-01A'\n51. 'TCGA-LB-A9Q5-01A'\n52. 'TCGA-Z5-AAPL-01A'\n53. 'TCGA-XD-AAUH-01A'\n54. 'TCGA-3A-A9IC-01A'\n55. 'TCGA-XD-AAUI-01A'\n56. 'TCGA-2J-AAB6-01A'\n57. 'TCGA-IB-AAUN-01A'\n58. 'TCGA-3A-A9IS-01A'\n59. 'TCGA-IB-AAUM-01A'\n60. 'TCGA-IB-7885-01A'\n61. 'TCGA-XN-A8T3-01A'\n62. 'TCGA-3A-A9IX-01A'\n63. 'TCGA-HZ-8002-01A'\n64. 'TCGA-IB-7646-01A'\n65. 'TCGA-2J-AAB4-01A'\n66. 'TCGA-IB-7890-01A'\n67. 'TCGA-IB-7889-01A'\n68. 'TCGA-FB-AAPU-01A'\n69. 'TCGA-HZ-A4BH-01A'\n70. 'TCGA-2J-AABV-01A'\n71. 'TCGA-FB-AAQ1-01A'\n72. 'TCGA-IB-A5SQ-01A'\n73. 'TCGA-2J-AABA-01A'\n74. 'TCGA-F2-A44G-01A'\n75. 'TCGA-IB-AAUT-01A'\n76. 'TCGA-HZ-7918-01A'\n77. 'TCGA-2J-AABT-01A'\n78. 'TCGA-F2-A7TX-01A'\n79. 'TCGA-IB-AAUQ-01A'\n80. 'TCGA-HZ-A77Q-01A'\n81. 'TCGA-IB-7645-01A'\n82. 'TCGA-3A-A9IO-01A'\n83. 'TCGA-FB-A7DR-01A'\n84. 'TCGA-F2-6879-01A'\n85. 'TCGA-XD-AAUG-01A'\n86. 'TCGA-3A-A9IB-01A'\n87. 'TCGA-IB-AAUO-01A'\n88. 'TCGA-IB-AAUS-01A'\n89. 'TCGA-HZ-8001-01A'\n90. 'TCGA-IB-7886-01A'\n91. 'TCGA-HZ-A49I-01A'\n92. 'TCGA-2J-AABE-01A'\n93. 'TCGA-HZ-7920-01A'\n94. 'TCGA-US-A779-01A'\n95. 'TCGA-HZ-7926-01A'\n96. 'TCGA-HZ-8005-01A'\n97. 'TCGA-3E-AAAZ-01A'\n98. 'TCGA-XD-AAUL-01A'\n99. 'TCGA-HZ-8636-01A'\n100. 'TCGA-HZ-A8P0-01A'\n101. 'TCGA-IB-A5SO-01A'\n102. 'TCGA-S4-A8RP-01A'\n103. 'TCGA-HZ-7925-01A'\n104. 'TCGA-3A-A9IH-01A'\n105. 'TCGA-S4-A8RO-01A'\n106. 'TCGA-RB-AA9M-01A'\n107. 'TCGA-IB-A5SP-01A'\n108. 'TCGA-OE-A75W-01A'\n109. 'TCGA-IB-7888-01A'\n110. 'TCGA-LB-A8F3-01A'\n111. 'TCGA-HZ-A9TJ-01A'\n112. 'TCGA-3A-A9IJ-01A'\n113. 'TCGA-IB-AAUW-01A'\n114. 'TCGA-IB-7644-01A'\n115. 'TCGA-IB-A5ST-01A'\n116. 'TCGA-HZ-7922-01A'\n117. 'TCGA-Q3-A5QY-01A'\n118. 'TCGA-Q3-AA2A-01A'\n119. 'TCGA-2J-AAB1-01A'\n120. 'TCGA-HV-A5A6-01A'\n121. 'TCGA-IB-7654-01A'\n122. 'TCGA-HZ-8003-01A'\n123. 'TCGA-IB-7649-01A'\n124. 'TCGA-IB-7652-01A'\n125. 'TCGA-US-A77G-01A'\n126. 'TCGA-3E-AAAY-01A'\n127. 'TCGA-2J-AABH-01A'\n128. 'TCGA-HV-A7OL-01A'\n129. 'TCGA-3A-A9IZ-01A'\n130. 'TCGA-YH-A8SY-01A'\n131. 'TCGA-F2-7273-01A'\n132. 'TCGA-IB-A5SS-01A'\n133. 'TCGA-FB-AAPZ-01A'\n134. 'TCGA-2J-AABP-01A'\n135. 'TCGA-IB-A6UG-01A'\n136. 'TCGA-F2-A44H-01A'\n137. 'TCGA-HV-A7OP-01A'\n138. 'TCGA-IB-7897-01A'\n139. 'TCGA-IB-7893-01A'\n140. 'TCGA-FB-AAQ0-01A'\n141. 'TCGA-YB-A89D-01A'\n142. 'TCGA-HZ-A77P-01A'\n143. 'TCGA-US-A776-01A'\n144. 'TCGA-2L-AAQJ-01A'\n145. 'TCGA-HV-A5A4-01A'\n146. 'TCGA-HZ-8637-01A'\n147. 'TCGA-H6-8124-01A'\n148. 'TCGA-M8-A5N4-01A'\n149. 'TCGA-2L-AAQL-01A'\n150. 'TCGA-PZ-A5RE-01A'\n151. 'TCGA-FB-AAQ2-01A'\n152. 'TCGA-FB-AAQ3-01A'\n153. 'TCGA-2J-AABF-01A'\n154. 'TCGA-3A-A9I5-01A'\n155. 'TCGA-HZ-8317-01A'\n156. 'TCGA-RB-A7B8-01A'\n157. 'TCGA-HZ-A8P1-01A'\n158. 'TCGA-3A-A9I9-01A'\n159. 'TCGA-FB-A78T-01A'\n160. 'TCGA-HZ-7919-01A'\n161. 'TCGA-IB-AAUP-01A'\n162. 'TCGA-2J-AABI-01A'\n163. 'TCGA-3A-A9IV-01A'\n164. 'TCGA-YY-A8LH-01A'\n165. 'TCGA-HV-A5A3-11A'\n166. 'TCGA-H6-A45N-11A'\n167. 'TCGA-YB-A89D-11A'\n168. 'TCGA-H6-8124-11A'\n\n\n",
            "text/latex": "\\begin{enumerate*}\n\\item 'TCGA-FB-AAPY-01A'\n\\item 'TCGA-IB-A7LX-01A'\n\\item 'TCGA-XN-A8T5-01A'\n\\item 'TCGA-HZ-A77O-01A'\n\\item 'TCGA-FB-AAPQ-01A'\n\\item 'TCGA-3A-A9IL-01A'\n\\item 'TCGA-FB-AAPS-01A'\n\\item 'TCGA-IB-A7M4-01A'\n\\item 'TCGA-IB-8126-01A'\n\\item 'TCGA-FB-AAPP-01A'\n\\item 'TCGA-FB-A4P6-01A'\n\\item 'TCGA-2J-AAB8-01A'\n\\item 'TCGA-US-A774-01A'\n\\item 'TCGA-FB-A5VM-01A'\n\\item 'TCGA-2J-AABK-01A'\n\\item 'TCGA-3A-A9I7-01A'\n\\item 'TCGA-IB-AAUU-01A'\n\\item 'TCGA-IB-8127-01A'\n\\item 'TCGA-2J-AABO-01A'\n\\item 'TCGA-US-A77E-01A'\n\\item 'TCGA-2J-AAB9-01A'\n\\item 'TCGA-H6-A45N-01A'\n\\item 'TCGA-LB-A7SX-01A'\n\\item 'TCGA-2L-AAQA-01A'\n\\item 'TCGA-HZ-A4BK-01A'\n\\item 'TCGA-IB-AAUR-01A'\n\\item 'TCGA-IB-7891-01A'\n\\item 'TCGA-3A-A9IU-01A'\n\\item 'TCGA-2L-AAQI-01A'\n\\item 'TCGA-3A-A9J0-01A'\n\\item 'TCGA-HV-A5A3-01A'\n\\item 'TCGA-H8-A6C1-01A'\n\\item 'TCGA-2L-AAQM-01A'\n\\item 'TCGA-FB-AAQ6-01A'\n\\item 'TCGA-IB-7647-01A'\n\\item 'TCGA-HZ-8315-01A'\n\\item 'TCGA-HV-A5A5-01A'\n\\item 'TCGA-3A-A9IR-01A'\n\\item 'TCGA-IB-7887-01A'\n\\item 'TCGA-IB-A6UF-01A'\n\\item 'TCGA-HZ-A49H-01A'\n\\item 'TCGA-S4-A8RM-01A'\n\\item 'TCGA-HV-AA8V-01A'\n\\item 'TCGA-HZ-7289-01A'\n\\item 'TCGA-3A-A9IN-01A'\n\\item 'TCGA-2L-AAQE-01A'\n\\item 'TCGA-2J-AABR-01A'\n\\item 'TCGA-F2-A8YN-01A'\n\\item 'TCGA-IB-7651-01A'\n\\item 'TCGA-HV-AA8X-01A'\n\\item 'TCGA-LB-A9Q5-01A'\n\\item 'TCGA-Z5-AAPL-01A'\n\\item 'TCGA-XD-AAUH-01A'\n\\item 'TCGA-3A-A9IC-01A'\n\\item 'TCGA-XD-AAUI-01A'\n\\item 'TCGA-2J-AAB6-01A'\n\\item 'TCGA-IB-AAUN-01A'\n\\item 'TCGA-3A-A9IS-01A'\n\\item 'TCGA-IB-AAUM-01A'\n\\item 'TCGA-IB-7885-01A'\n\\item 'TCGA-XN-A8T3-01A'\n\\item 'TCGA-3A-A9IX-01A'\n\\item 'TCGA-HZ-8002-01A'\n\\item 'TCGA-IB-7646-01A'\n\\item 'TCGA-2J-AAB4-01A'\n\\item 'TCGA-IB-7890-01A'\n\\item 'TCGA-IB-7889-01A'\n\\item 'TCGA-FB-AAPU-01A'\n\\item 'TCGA-HZ-A4BH-01A'\n\\item 'TCGA-2J-AABV-01A'\n\\item 'TCGA-FB-AAQ1-01A'\n\\item 'TCGA-IB-A5SQ-01A'\n\\item 'TCGA-2J-AABA-01A'\n\\item 'TCGA-F2-A44G-01A'\n\\item 'TCGA-IB-AAUT-01A'\n\\item 'TCGA-HZ-7918-01A'\n\\item 'TCGA-2J-AABT-01A'\n\\item 'TCGA-F2-A7TX-01A'\n\\item 'TCGA-IB-AAUQ-01A'\n\\item 'TCGA-HZ-A77Q-01A'\n\\item 'TCGA-IB-7645-01A'\n\\item 'TCGA-3A-A9IO-01A'\n\\item 'TCGA-FB-A7DR-01A'\n\\item 'TCGA-F2-6879-01A'\n\\item 'TCGA-XD-AAUG-01A'\n\\item 'TCGA-3A-A9IB-01A'\n\\item 'TCGA-IB-AAUO-01A'\n\\item 'TCGA-IB-AAUS-01A'\n\\item 'TCGA-HZ-8001-01A'\n\\item 'TCGA-IB-7886-01A'\n\\item 'TCGA-HZ-A49I-01A'\n\\item 'TCGA-2J-AABE-01A'\n\\item 'TCGA-HZ-7920-01A'\n\\item 'TCGA-US-A779-01A'\n\\item 'TCGA-HZ-7926-01A'\n\\item 'TCGA-HZ-8005-01A'\n\\item 'TCGA-3E-AAAZ-01A'\n\\item 'TCGA-XD-AAUL-01A'\n\\item 'TCGA-HZ-8636-01A'\n\\item 'TCGA-HZ-A8P0-01A'\n\\item 'TCGA-IB-A5SO-01A'\n\\item 'TCGA-S4-A8RP-01A'\n\\item 'TCGA-HZ-7925-01A'\n\\item 'TCGA-3A-A9IH-01A'\n\\item 'TCGA-S4-A8RO-01A'\n\\item 'TCGA-RB-AA9M-01A'\n\\item 'TCGA-IB-A5SP-01A'\n\\item 'TCGA-OE-A75W-01A'\n\\item 'TCGA-IB-7888-01A'\n\\item 'TCGA-LB-A8F3-01A'\n\\item 'TCGA-HZ-A9TJ-01A'\n\\item 'TCGA-3A-A9IJ-01A'\n\\item 'TCGA-IB-AAUW-01A'\n\\item 'TCGA-IB-7644-01A'\n\\item 'TCGA-IB-A5ST-01A'\n\\item 'TCGA-HZ-7922-01A'\n\\item 'TCGA-Q3-A5QY-01A'\n\\item 'TCGA-Q3-AA2A-01A'\n\\item 'TCGA-2J-AAB1-01A'\n\\item 'TCGA-HV-A5A6-01A'\n\\item 'TCGA-IB-7654-01A'\n\\item 'TCGA-HZ-8003-01A'\n\\item 'TCGA-IB-7649-01A'\n\\item 'TCGA-IB-7652-01A'\n\\item 'TCGA-US-A77G-01A'\n\\item 'TCGA-3E-AAAY-01A'\n\\item 'TCGA-2J-AABH-01A'\n\\item 'TCGA-HV-A7OL-01A'\n\\item 'TCGA-3A-A9IZ-01A'\n\\item 'TCGA-YH-A8SY-01A'\n\\item 'TCGA-F2-7273-01A'\n\\item 'TCGA-IB-A5SS-01A'\n\\item 'TCGA-FB-AAPZ-01A'\n\\item 'TCGA-2J-AABP-01A'\n\\item 'TCGA-IB-A6UG-01A'\n\\item 'TCGA-F2-A44H-01A'\n\\item 'TCGA-HV-A7OP-01A'\n\\item 'TCGA-IB-7897-01A'\n\\item 'TCGA-IB-7893-01A'\n\\item 'TCGA-FB-AAQ0-01A'\n\\item 'TCGA-YB-A89D-01A'\n\\item 'TCGA-HZ-A77P-01A'\n\\item 'TCGA-US-A776-01A'\n\\item 'TCGA-2L-AAQJ-01A'\n\\item 'TCGA-HV-A5A4-01A'\n\\item 'TCGA-HZ-8637-01A'\n\\item 'TCGA-H6-8124-01A'\n\\item 'TCGA-M8-A5N4-01A'\n\\item 'TCGA-2L-AAQL-01A'\n\\item 'TCGA-PZ-A5RE-01A'\n\\item 'TCGA-FB-AAQ2-01A'\n\\item 'TCGA-FB-AAQ3-01A'\n\\item 'TCGA-2J-AABF-01A'\n\\item 'TCGA-3A-A9I5-01A'\n\\item 'TCGA-HZ-8317-01A'\n\\item 'TCGA-RB-A7B8-01A'\n\\item 'TCGA-HZ-A8P1-01A'\n\\item 'TCGA-3A-A9I9-01A'\n\\item 'TCGA-FB-A78T-01A'\n\\item 'TCGA-HZ-7919-01A'\n\\item 'TCGA-IB-AAUP-01A'\n\\item 'TCGA-2J-AABI-01A'\n\\item 'TCGA-3A-A9IV-01A'\n\\item 'TCGA-YY-A8LH-01A'\n\\item 'TCGA-HV-A5A3-11A'\n\\item 'TCGA-H6-A45N-11A'\n\\item 'TCGA-YB-A89D-11A'\n\\item 'TCGA-H6-8124-11A'\n\\end{enumerate*}\n",
            "text/plain": [
              "  [1] \"TCGA-FB-AAPY-01A\" \"TCGA-IB-A7LX-01A\" \"TCGA-XN-A8T5-01A\"\n",
              "  [4] \"TCGA-HZ-A77O-01A\" \"TCGA-FB-AAPQ-01A\" \"TCGA-3A-A9IL-01A\"\n",
              "  [7] \"TCGA-FB-AAPS-01A\" \"TCGA-IB-A7M4-01A\" \"TCGA-IB-8126-01A\"\n",
              " [10] \"TCGA-FB-AAPP-01A\" \"TCGA-FB-A4P6-01A\" \"TCGA-2J-AAB8-01A\"\n",
              " [13] \"TCGA-US-A774-01A\" \"TCGA-FB-A5VM-01A\" \"TCGA-2J-AABK-01A\"\n",
              " [16] \"TCGA-3A-A9I7-01A\" \"TCGA-IB-AAUU-01A\" \"TCGA-IB-8127-01A\"\n",
              " [19] \"TCGA-2J-AABO-01A\" \"TCGA-US-A77E-01A\" \"TCGA-2J-AAB9-01A\"\n",
              " [22] \"TCGA-H6-A45N-01A\" \"TCGA-LB-A7SX-01A\" \"TCGA-2L-AAQA-01A\"\n",
              " [25] \"TCGA-HZ-A4BK-01A\" \"TCGA-IB-AAUR-01A\" \"TCGA-IB-7891-01A\"\n",
              " [28] \"TCGA-3A-A9IU-01A\" \"TCGA-2L-AAQI-01A\" \"TCGA-3A-A9J0-01A\"\n",
              " [31] \"TCGA-HV-A5A3-01A\" \"TCGA-H8-A6C1-01A\" \"TCGA-2L-AAQM-01A\"\n",
              " [34] \"TCGA-FB-AAQ6-01A\" \"TCGA-IB-7647-01A\" \"TCGA-HZ-8315-01A\"\n",
              " [37] \"TCGA-HV-A5A5-01A\" \"TCGA-3A-A9IR-01A\" \"TCGA-IB-7887-01A\"\n",
              " [40] \"TCGA-IB-A6UF-01A\" \"TCGA-HZ-A49H-01A\" \"TCGA-S4-A8RM-01A\"\n",
              " [43] \"TCGA-HV-AA8V-01A\" \"TCGA-HZ-7289-01A\" \"TCGA-3A-A9IN-01A\"\n",
              " [46] \"TCGA-2L-AAQE-01A\" \"TCGA-2J-AABR-01A\" \"TCGA-F2-A8YN-01A\"\n",
              " [49] \"TCGA-IB-7651-01A\" \"TCGA-HV-AA8X-01A\" \"TCGA-LB-A9Q5-01A\"\n",
              " [52] \"TCGA-Z5-AAPL-01A\" \"TCGA-XD-AAUH-01A\" \"TCGA-3A-A9IC-01A\"\n",
              " [55] \"TCGA-XD-AAUI-01A\" \"TCGA-2J-AAB6-01A\" \"TCGA-IB-AAUN-01A\"\n",
              " [58] \"TCGA-3A-A9IS-01A\" \"TCGA-IB-AAUM-01A\" \"TCGA-IB-7885-01A\"\n",
              " [61] \"TCGA-XN-A8T3-01A\" \"TCGA-3A-A9IX-01A\" \"TCGA-HZ-8002-01A\"\n",
              " [64] \"TCGA-IB-7646-01A\" \"TCGA-2J-AAB4-01A\" \"TCGA-IB-7890-01A\"\n",
              " [67] \"TCGA-IB-7889-01A\" \"TCGA-FB-AAPU-01A\" \"TCGA-HZ-A4BH-01A\"\n",
              " [70] \"TCGA-2J-AABV-01A\" \"TCGA-FB-AAQ1-01A\" \"TCGA-IB-A5SQ-01A\"\n",
              " [73] \"TCGA-2J-AABA-01A\" \"TCGA-F2-A44G-01A\" \"TCGA-IB-AAUT-01A\"\n",
              " [76] \"TCGA-HZ-7918-01A\" \"TCGA-2J-AABT-01A\" \"TCGA-F2-A7TX-01A\"\n",
              " [79] \"TCGA-IB-AAUQ-01A\" \"TCGA-HZ-A77Q-01A\" \"TCGA-IB-7645-01A\"\n",
              " [82] \"TCGA-3A-A9IO-01A\" \"TCGA-FB-A7DR-01A\" \"TCGA-F2-6879-01A\"\n",
              " [85] \"TCGA-XD-AAUG-01A\" \"TCGA-3A-A9IB-01A\" \"TCGA-IB-AAUO-01A\"\n",
              " [88] \"TCGA-IB-AAUS-01A\" \"TCGA-HZ-8001-01A\" \"TCGA-IB-7886-01A\"\n",
              " [91] \"TCGA-HZ-A49I-01A\" \"TCGA-2J-AABE-01A\" \"TCGA-HZ-7920-01A\"\n",
              " [94] \"TCGA-US-A779-01A\" \"TCGA-HZ-7926-01A\" \"TCGA-HZ-8005-01A\"\n",
              " [97] \"TCGA-3E-AAAZ-01A\" \"TCGA-XD-AAUL-01A\" \"TCGA-HZ-8636-01A\"\n",
              "[100] \"TCGA-HZ-A8P0-01A\" \"TCGA-IB-A5SO-01A\" \"TCGA-S4-A8RP-01A\"\n",
              "[103] \"TCGA-HZ-7925-01A\" \"TCGA-3A-A9IH-01A\" \"TCGA-S4-A8RO-01A\"\n",
              "[106] \"TCGA-RB-AA9M-01A\" \"TCGA-IB-A5SP-01A\" \"TCGA-OE-A75W-01A\"\n",
              "[109] \"TCGA-IB-7888-01A\" \"TCGA-LB-A8F3-01A\" \"TCGA-HZ-A9TJ-01A\"\n",
              "[112] \"TCGA-3A-A9IJ-01A\" \"TCGA-IB-AAUW-01A\" \"TCGA-IB-7644-01A\"\n",
              "[115] \"TCGA-IB-A5ST-01A\" \"TCGA-HZ-7922-01A\" \"TCGA-Q3-A5QY-01A\"\n",
              "[118] \"TCGA-Q3-AA2A-01A\" \"TCGA-2J-AAB1-01A\" \"TCGA-HV-A5A6-01A\"\n",
              "[121] \"TCGA-IB-7654-01A\" \"TCGA-HZ-8003-01A\" \"TCGA-IB-7649-01A\"\n",
              "[124] \"TCGA-IB-7652-01A\" \"TCGA-US-A77G-01A\" \"TCGA-3E-AAAY-01A\"\n",
              "[127] \"TCGA-2J-AABH-01A\" \"TCGA-HV-A7OL-01A\" \"TCGA-3A-A9IZ-01A\"\n",
              "[130] \"TCGA-YH-A8SY-01A\" \"TCGA-F2-7273-01A\" \"TCGA-IB-A5SS-01A\"\n",
              "[133] \"TCGA-FB-AAPZ-01A\" \"TCGA-2J-AABP-01A\" \"TCGA-IB-A6UG-01A\"\n",
              "[136] \"TCGA-F2-A44H-01A\" \"TCGA-HV-A7OP-01A\" \"TCGA-IB-7897-01A\"\n",
              "[139] \"TCGA-IB-7893-01A\" \"TCGA-FB-AAQ0-01A\" \"TCGA-YB-A89D-01A\"\n",
              "[142] \"TCGA-HZ-A77P-01A\" \"TCGA-US-A776-01A\" \"TCGA-2L-AAQJ-01A\"\n",
              "[145] \"TCGA-HV-A5A4-01A\" \"TCGA-HZ-8637-01A\" \"TCGA-H6-8124-01A\"\n",
              "[148] \"TCGA-M8-A5N4-01A\" \"TCGA-2L-AAQL-01A\" \"TCGA-PZ-A5RE-01A\"\n",
              "[151] \"TCGA-FB-AAQ2-01A\" \"TCGA-FB-AAQ3-01A\" \"TCGA-2J-AABF-01A\"\n",
              "[154] \"TCGA-3A-A9I5-01A\" \"TCGA-HZ-8317-01A\" \"TCGA-RB-A7B8-01A\"\n",
              "[157] \"TCGA-HZ-A8P1-01A\" \"TCGA-3A-A9I9-01A\" \"TCGA-FB-A78T-01A\"\n",
              "[160] \"TCGA-HZ-7919-01A\" \"TCGA-IB-AAUP-01A\" \"TCGA-2J-AABI-01A\"\n",
              "[163] \"TCGA-3A-A9IV-01A\" \"TCGA-YY-A8LH-01A\" \"TCGA-HV-A5A3-11A\"\n",
              "[166] \"TCGA-H6-A45N-11A\" \"TCGA-YB-A89D-11A\" \"TCGA-H6-8124-11A\""
            ]
          },
          "metadata": {}
        }
      ]
    },
    {
      "cell_type": "code",
      "source": [
        "row.names(Col_data)"
      ],
      "metadata": {
        "colab": {
          "base_uri": "https://localhost:8080/",
          "height": 433
        },
        "id": "ZruxsmVTwR34",
        "outputId": "98a31e78-e6cb-498a-bcad-9629ed6f7f5b"
      },
      "execution_count": 12,
      "outputs": [
        {
          "output_type": "display_data",
          "data": {
            "text/html": [
              "<style>\n",
              ".list-inline {list-style: none; margin:0; padding: 0}\n",
              ".list-inline>li {display: inline-block}\n",
              ".list-inline>li:not(:last-child)::after {content: \"\\00b7\"; padding: 0 .5ex}\n",
              "</style>\n",
              "<ol class=list-inline><li>'TCGA-FB-AAPY-01A'</li><li>'TCGA-IB-A7LX-01A'</li><li>'TCGA-XN-A8T5-01A'</li><li>'TCGA-HZ-A77O-01A'</li><li>'TCGA-FB-AAPQ-01A'</li><li>'TCGA-3A-A9IL-01A'</li><li>'TCGA-FB-AAPS-01A'</li><li>'TCGA-IB-A7M4-01A'</li><li>'TCGA-IB-8126-01A'</li><li>'TCGA-FB-AAPP-01A'</li><li>'TCGA-FB-A4P6-01A'</li><li>'TCGA-2J-AAB8-01A'</li><li>'TCGA-US-A774-01A'</li><li>'TCGA-FB-A5VM-01A'</li><li>'TCGA-2J-AABK-01A'</li><li>'TCGA-3A-A9I7-01A'</li><li>'TCGA-IB-AAUU-01A'</li><li>'TCGA-IB-8127-01A'</li><li>'TCGA-2J-AABO-01A'</li><li>'TCGA-US-A77E-01A'</li><li>'TCGA-2J-AAB9-01A'</li><li>'TCGA-H6-A45N-01A'</li><li>'TCGA-LB-A7SX-01A'</li><li>'TCGA-2L-AAQA-01A'</li><li>'TCGA-HZ-A4BK-01A'</li><li>'TCGA-IB-AAUR-01A'</li><li>'TCGA-IB-7891-01A'</li><li>'TCGA-3A-A9IU-01A'</li><li>'TCGA-2L-AAQI-01A'</li><li>'TCGA-3A-A9J0-01A'</li><li>'TCGA-HV-A5A3-01A'</li><li>'TCGA-H8-A6C1-01A'</li><li>'TCGA-2L-AAQM-01A'</li><li>'TCGA-FB-AAQ6-01A'</li><li>'TCGA-IB-7647-01A'</li><li>'TCGA-HZ-8315-01A'</li><li>'TCGA-HV-A5A5-01A'</li><li>'TCGA-3A-A9IR-01A'</li><li>'TCGA-IB-7887-01A'</li><li>'TCGA-IB-A6UF-01A'</li><li>'TCGA-HZ-A49H-01A'</li><li>'TCGA-S4-A8RM-01A'</li><li>'TCGA-HV-AA8V-01A'</li><li>'TCGA-HZ-7289-01A'</li><li>'TCGA-3A-A9IN-01A'</li><li>'TCGA-2L-AAQE-01A'</li><li>'TCGA-2J-AABR-01A'</li><li>'TCGA-F2-A8YN-01A'</li><li>'TCGA-IB-7651-01A'</li><li>'TCGA-HV-AA8X-01A'</li><li>'TCGA-LB-A9Q5-01A'</li><li>'TCGA-Z5-AAPL-01A'</li><li>'TCGA-XD-AAUH-01A'</li><li>'TCGA-3A-A9IC-01A'</li><li>'TCGA-XD-AAUI-01A'</li><li>'TCGA-2J-AAB6-01A'</li><li>'TCGA-IB-AAUN-01A'</li><li>'TCGA-3A-A9IS-01A'</li><li>'TCGA-IB-AAUM-01A'</li><li>'TCGA-IB-7885-01A'</li><li>'TCGA-XN-A8T3-01A'</li><li>'TCGA-3A-A9IX-01A'</li><li>'TCGA-HZ-8002-01A'</li><li>'TCGA-IB-7646-01A'</li><li>'TCGA-2J-AAB4-01A'</li><li>'TCGA-IB-7890-01A'</li><li>'TCGA-IB-7889-01A'</li><li>'TCGA-FB-AAPU-01A'</li><li>'TCGA-HZ-A4BH-01A'</li><li>'TCGA-2J-AABV-01A'</li><li>'TCGA-FB-AAQ1-01A'</li><li>'TCGA-IB-A5SQ-01A'</li><li>'TCGA-2J-AABA-01A'</li><li>'TCGA-F2-A44G-01A'</li><li>'TCGA-IB-AAUT-01A'</li><li>'TCGA-HZ-7918-01A'</li><li>'TCGA-2J-AABT-01A'</li><li>'TCGA-F2-A7TX-01A'</li><li>'TCGA-IB-AAUQ-01A'</li><li>'TCGA-HZ-A77Q-01A'</li><li>'TCGA-IB-7645-01A'</li><li>'TCGA-3A-A9IO-01A'</li><li>'TCGA-FB-A7DR-01A'</li><li>'TCGA-F2-6879-01A'</li><li>'TCGA-XD-AAUG-01A'</li><li>'TCGA-3A-A9IB-01A'</li><li>'TCGA-IB-AAUO-01A'</li><li>'TCGA-IB-AAUS-01A'</li><li>'TCGA-HZ-8001-01A'</li><li>'TCGA-IB-7886-01A'</li><li>'TCGA-HZ-A49I-01A'</li><li>'TCGA-2J-AABE-01A'</li><li>'TCGA-HZ-7920-01A'</li><li>'TCGA-US-A779-01A'</li><li>'TCGA-HZ-7926-01A'</li><li>'TCGA-HZ-8005-01A'</li><li>'TCGA-3E-AAAZ-01A'</li><li>'TCGA-XD-AAUL-01A'</li><li>'TCGA-HZ-8636-01A'</li><li>'TCGA-HZ-A8P0-01A'</li><li>'TCGA-IB-A5SO-01A'</li><li>'TCGA-S4-A8RP-01A'</li><li>'TCGA-HZ-7925-01A'</li><li>'TCGA-3A-A9IH-01A'</li><li>'TCGA-S4-A8RO-01A'</li><li>'TCGA-RB-AA9M-01A'</li><li>'TCGA-IB-A5SP-01A'</li><li>'TCGA-OE-A75W-01A'</li><li>'TCGA-IB-7888-01A'</li><li>'TCGA-LB-A8F3-01A'</li><li>'TCGA-HZ-A9TJ-01A'</li><li>'TCGA-3A-A9IJ-01A'</li><li>'TCGA-IB-AAUW-01A'</li><li>'TCGA-IB-7644-01A'</li><li>'TCGA-IB-A5ST-01A'</li><li>'TCGA-HZ-7922-01A'</li><li>'TCGA-Q3-A5QY-01A'</li><li>'TCGA-Q3-AA2A-01A'</li><li>'TCGA-2J-AAB1-01A'</li><li>'TCGA-HV-A5A6-01A'</li><li>'TCGA-IB-7654-01A'</li><li>'TCGA-HZ-8003-01A'</li><li>'TCGA-IB-7649-01A'</li><li>'TCGA-IB-7652-01A'</li><li>'TCGA-US-A77G-01A'</li><li>'TCGA-3E-AAAY-01A'</li><li>'TCGA-2J-AABH-01A'</li><li>'TCGA-HV-A7OL-01A'</li><li>'TCGA-3A-A9IZ-01A'</li><li>'TCGA-YH-A8SY-01A'</li><li>'TCGA-F2-7273-01A'</li><li>'TCGA-IB-A5SS-01A'</li><li>'TCGA-FB-AAPZ-01A'</li><li>'TCGA-2J-AABP-01A'</li><li>'TCGA-IB-A6UG-01A'</li><li>'TCGA-F2-A44H-01A'</li><li>'TCGA-HV-A7OP-01A'</li><li>'TCGA-IB-7897-01A'</li><li>'TCGA-IB-7893-01A'</li><li>'TCGA-FB-AAQ0-01A'</li><li>'TCGA-YB-A89D-01A'</li><li>'TCGA-HZ-A77P-01A'</li><li>'TCGA-US-A776-01A'</li><li>'TCGA-2L-AAQJ-01A'</li><li>'TCGA-HV-A5A4-01A'</li><li>'TCGA-HZ-8637-01A'</li><li>'TCGA-H6-8124-01A'</li><li>'TCGA-M8-A5N4-01A'</li><li>'TCGA-2L-AAQL-01A'</li><li>'TCGA-PZ-A5RE-01A'</li><li>'TCGA-FB-AAQ2-01A'</li><li>'TCGA-FB-AAQ3-01A'</li><li>'TCGA-2J-AABF-01A'</li><li>'TCGA-3A-A9I5-01A'</li><li>'TCGA-HZ-8317-01A'</li><li>'TCGA-RB-A7B8-01A'</li><li>'TCGA-HZ-A8P1-01A'</li><li>'TCGA-3A-A9I9-01A'</li><li>'TCGA-FB-A78T-01A'</li><li>'TCGA-HZ-7919-01A'</li><li>'TCGA-IB-AAUP-01A'</li><li>'TCGA-2J-AABI-01A'</li><li>'TCGA-3A-A9IV-01A'</li><li>'TCGA-YY-A8LH-01A'</li><li>'TCGA-HV-A5A3-11A'</li><li>'TCGA-H6-A45N-11A'</li><li>'TCGA-YB-A89D-11A'</li><li>'TCGA-H6-8124-11A'</li></ol>\n"
            ],
            "text/markdown": "1. 'TCGA-FB-AAPY-01A'\n2. 'TCGA-IB-A7LX-01A'\n3. 'TCGA-XN-A8T5-01A'\n4. 'TCGA-HZ-A77O-01A'\n5. 'TCGA-FB-AAPQ-01A'\n6. 'TCGA-3A-A9IL-01A'\n7. 'TCGA-FB-AAPS-01A'\n8. 'TCGA-IB-A7M4-01A'\n9. 'TCGA-IB-8126-01A'\n10. 'TCGA-FB-AAPP-01A'\n11. 'TCGA-FB-A4P6-01A'\n12. 'TCGA-2J-AAB8-01A'\n13. 'TCGA-US-A774-01A'\n14. 'TCGA-FB-A5VM-01A'\n15. 'TCGA-2J-AABK-01A'\n16. 'TCGA-3A-A9I7-01A'\n17. 'TCGA-IB-AAUU-01A'\n18. 'TCGA-IB-8127-01A'\n19. 'TCGA-2J-AABO-01A'\n20. 'TCGA-US-A77E-01A'\n21. 'TCGA-2J-AAB9-01A'\n22. 'TCGA-H6-A45N-01A'\n23. 'TCGA-LB-A7SX-01A'\n24. 'TCGA-2L-AAQA-01A'\n25. 'TCGA-HZ-A4BK-01A'\n26. 'TCGA-IB-AAUR-01A'\n27. 'TCGA-IB-7891-01A'\n28. 'TCGA-3A-A9IU-01A'\n29. 'TCGA-2L-AAQI-01A'\n30. 'TCGA-3A-A9J0-01A'\n31. 'TCGA-HV-A5A3-01A'\n32. 'TCGA-H8-A6C1-01A'\n33. 'TCGA-2L-AAQM-01A'\n34. 'TCGA-FB-AAQ6-01A'\n35. 'TCGA-IB-7647-01A'\n36. 'TCGA-HZ-8315-01A'\n37. 'TCGA-HV-A5A5-01A'\n38. 'TCGA-3A-A9IR-01A'\n39. 'TCGA-IB-7887-01A'\n40. 'TCGA-IB-A6UF-01A'\n41. 'TCGA-HZ-A49H-01A'\n42. 'TCGA-S4-A8RM-01A'\n43. 'TCGA-HV-AA8V-01A'\n44. 'TCGA-HZ-7289-01A'\n45. 'TCGA-3A-A9IN-01A'\n46. 'TCGA-2L-AAQE-01A'\n47. 'TCGA-2J-AABR-01A'\n48. 'TCGA-F2-A8YN-01A'\n49. 'TCGA-IB-7651-01A'\n50. 'TCGA-HV-AA8X-01A'\n51. 'TCGA-LB-A9Q5-01A'\n52. 'TCGA-Z5-AAPL-01A'\n53. 'TCGA-XD-AAUH-01A'\n54. 'TCGA-3A-A9IC-01A'\n55. 'TCGA-XD-AAUI-01A'\n56. 'TCGA-2J-AAB6-01A'\n57. 'TCGA-IB-AAUN-01A'\n58. 'TCGA-3A-A9IS-01A'\n59. 'TCGA-IB-AAUM-01A'\n60. 'TCGA-IB-7885-01A'\n61. 'TCGA-XN-A8T3-01A'\n62. 'TCGA-3A-A9IX-01A'\n63. 'TCGA-HZ-8002-01A'\n64. 'TCGA-IB-7646-01A'\n65. 'TCGA-2J-AAB4-01A'\n66. 'TCGA-IB-7890-01A'\n67. 'TCGA-IB-7889-01A'\n68. 'TCGA-FB-AAPU-01A'\n69. 'TCGA-HZ-A4BH-01A'\n70. 'TCGA-2J-AABV-01A'\n71. 'TCGA-FB-AAQ1-01A'\n72. 'TCGA-IB-A5SQ-01A'\n73. 'TCGA-2J-AABA-01A'\n74. 'TCGA-F2-A44G-01A'\n75. 'TCGA-IB-AAUT-01A'\n76. 'TCGA-HZ-7918-01A'\n77. 'TCGA-2J-AABT-01A'\n78. 'TCGA-F2-A7TX-01A'\n79. 'TCGA-IB-AAUQ-01A'\n80. 'TCGA-HZ-A77Q-01A'\n81. 'TCGA-IB-7645-01A'\n82. 'TCGA-3A-A9IO-01A'\n83. 'TCGA-FB-A7DR-01A'\n84. 'TCGA-F2-6879-01A'\n85. 'TCGA-XD-AAUG-01A'\n86. 'TCGA-3A-A9IB-01A'\n87. 'TCGA-IB-AAUO-01A'\n88. 'TCGA-IB-AAUS-01A'\n89. 'TCGA-HZ-8001-01A'\n90. 'TCGA-IB-7886-01A'\n91. 'TCGA-HZ-A49I-01A'\n92. 'TCGA-2J-AABE-01A'\n93. 'TCGA-HZ-7920-01A'\n94. 'TCGA-US-A779-01A'\n95. 'TCGA-HZ-7926-01A'\n96. 'TCGA-HZ-8005-01A'\n97. 'TCGA-3E-AAAZ-01A'\n98. 'TCGA-XD-AAUL-01A'\n99. 'TCGA-HZ-8636-01A'\n100. 'TCGA-HZ-A8P0-01A'\n101. 'TCGA-IB-A5SO-01A'\n102. 'TCGA-S4-A8RP-01A'\n103. 'TCGA-HZ-7925-01A'\n104. 'TCGA-3A-A9IH-01A'\n105. 'TCGA-S4-A8RO-01A'\n106. 'TCGA-RB-AA9M-01A'\n107. 'TCGA-IB-A5SP-01A'\n108. 'TCGA-OE-A75W-01A'\n109. 'TCGA-IB-7888-01A'\n110. 'TCGA-LB-A8F3-01A'\n111. 'TCGA-HZ-A9TJ-01A'\n112. 'TCGA-3A-A9IJ-01A'\n113. 'TCGA-IB-AAUW-01A'\n114. 'TCGA-IB-7644-01A'\n115. 'TCGA-IB-A5ST-01A'\n116. 'TCGA-HZ-7922-01A'\n117. 'TCGA-Q3-A5QY-01A'\n118. 'TCGA-Q3-AA2A-01A'\n119. 'TCGA-2J-AAB1-01A'\n120. 'TCGA-HV-A5A6-01A'\n121. 'TCGA-IB-7654-01A'\n122. 'TCGA-HZ-8003-01A'\n123. 'TCGA-IB-7649-01A'\n124. 'TCGA-IB-7652-01A'\n125. 'TCGA-US-A77G-01A'\n126. 'TCGA-3E-AAAY-01A'\n127. 'TCGA-2J-AABH-01A'\n128. 'TCGA-HV-A7OL-01A'\n129. 'TCGA-3A-A9IZ-01A'\n130. 'TCGA-YH-A8SY-01A'\n131. 'TCGA-F2-7273-01A'\n132. 'TCGA-IB-A5SS-01A'\n133. 'TCGA-FB-AAPZ-01A'\n134. 'TCGA-2J-AABP-01A'\n135. 'TCGA-IB-A6UG-01A'\n136. 'TCGA-F2-A44H-01A'\n137. 'TCGA-HV-A7OP-01A'\n138. 'TCGA-IB-7897-01A'\n139. 'TCGA-IB-7893-01A'\n140. 'TCGA-FB-AAQ0-01A'\n141. 'TCGA-YB-A89D-01A'\n142. 'TCGA-HZ-A77P-01A'\n143. 'TCGA-US-A776-01A'\n144. 'TCGA-2L-AAQJ-01A'\n145. 'TCGA-HV-A5A4-01A'\n146. 'TCGA-HZ-8637-01A'\n147. 'TCGA-H6-8124-01A'\n148. 'TCGA-M8-A5N4-01A'\n149. 'TCGA-2L-AAQL-01A'\n150. 'TCGA-PZ-A5RE-01A'\n151. 'TCGA-FB-AAQ2-01A'\n152. 'TCGA-FB-AAQ3-01A'\n153. 'TCGA-2J-AABF-01A'\n154. 'TCGA-3A-A9I5-01A'\n155. 'TCGA-HZ-8317-01A'\n156. 'TCGA-RB-A7B8-01A'\n157. 'TCGA-HZ-A8P1-01A'\n158. 'TCGA-3A-A9I9-01A'\n159. 'TCGA-FB-A78T-01A'\n160. 'TCGA-HZ-7919-01A'\n161. 'TCGA-IB-AAUP-01A'\n162. 'TCGA-2J-AABI-01A'\n163. 'TCGA-3A-A9IV-01A'\n164. 'TCGA-YY-A8LH-01A'\n165. 'TCGA-HV-A5A3-11A'\n166. 'TCGA-H6-A45N-11A'\n167. 'TCGA-YB-A89D-11A'\n168. 'TCGA-H6-8124-11A'\n\n\n",
            "text/latex": "\\begin{enumerate*}\n\\item 'TCGA-FB-AAPY-01A'\n\\item 'TCGA-IB-A7LX-01A'\n\\item 'TCGA-XN-A8T5-01A'\n\\item 'TCGA-HZ-A77O-01A'\n\\item 'TCGA-FB-AAPQ-01A'\n\\item 'TCGA-3A-A9IL-01A'\n\\item 'TCGA-FB-AAPS-01A'\n\\item 'TCGA-IB-A7M4-01A'\n\\item 'TCGA-IB-8126-01A'\n\\item 'TCGA-FB-AAPP-01A'\n\\item 'TCGA-FB-A4P6-01A'\n\\item 'TCGA-2J-AAB8-01A'\n\\item 'TCGA-US-A774-01A'\n\\item 'TCGA-FB-A5VM-01A'\n\\item 'TCGA-2J-AABK-01A'\n\\item 'TCGA-3A-A9I7-01A'\n\\item 'TCGA-IB-AAUU-01A'\n\\item 'TCGA-IB-8127-01A'\n\\item 'TCGA-2J-AABO-01A'\n\\item 'TCGA-US-A77E-01A'\n\\item 'TCGA-2J-AAB9-01A'\n\\item 'TCGA-H6-A45N-01A'\n\\item 'TCGA-LB-A7SX-01A'\n\\item 'TCGA-2L-AAQA-01A'\n\\item 'TCGA-HZ-A4BK-01A'\n\\item 'TCGA-IB-AAUR-01A'\n\\item 'TCGA-IB-7891-01A'\n\\item 'TCGA-3A-A9IU-01A'\n\\item 'TCGA-2L-AAQI-01A'\n\\item 'TCGA-3A-A9J0-01A'\n\\item 'TCGA-HV-A5A3-01A'\n\\item 'TCGA-H8-A6C1-01A'\n\\item 'TCGA-2L-AAQM-01A'\n\\item 'TCGA-FB-AAQ6-01A'\n\\item 'TCGA-IB-7647-01A'\n\\item 'TCGA-HZ-8315-01A'\n\\item 'TCGA-HV-A5A5-01A'\n\\item 'TCGA-3A-A9IR-01A'\n\\item 'TCGA-IB-7887-01A'\n\\item 'TCGA-IB-A6UF-01A'\n\\item 'TCGA-HZ-A49H-01A'\n\\item 'TCGA-S4-A8RM-01A'\n\\item 'TCGA-HV-AA8V-01A'\n\\item 'TCGA-HZ-7289-01A'\n\\item 'TCGA-3A-A9IN-01A'\n\\item 'TCGA-2L-AAQE-01A'\n\\item 'TCGA-2J-AABR-01A'\n\\item 'TCGA-F2-A8YN-01A'\n\\item 'TCGA-IB-7651-01A'\n\\item 'TCGA-HV-AA8X-01A'\n\\item 'TCGA-LB-A9Q5-01A'\n\\item 'TCGA-Z5-AAPL-01A'\n\\item 'TCGA-XD-AAUH-01A'\n\\item 'TCGA-3A-A9IC-01A'\n\\item 'TCGA-XD-AAUI-01A'\n\\item 'TCGA-2J-AAB6-01A'\n\\item 'TCGA-IB-AAUN-01A'\n\\item 'TCGA-3A-A9IS-01A'\n\\item 'TCGA-IB-AAUM-01A'\n\\item 'TCGA-IB-7885-01A'\n\\item 'TCGA-XN-A8T3-01A'\n\\item 'TCGA-3A-A9IX-01A'\n\\item 'TCGA-HZ-8002-01A'\n\\item 'TCGA-IB-7646-01A'\n\\item 'TCGA-2J-AAB4-01A'\n\\item 'TCGA-IB-7890-01A'\n\\item 'TCGA-IB-7889-01A'\n\\item 'TCGA-FB-AAPU-01A'\n\\item 'TCGA-HZ-A4BH-01A'\n\\item 'TCGA-2J-AABV-01A'\n\\item 'TCGA-FB-AAQ1-01A'\n\\item 'TCGA-IB-A5SQ-01A'\n\\item 'TCGA-2J-AABA-01A'\n\\item 'TCGA-F2-A44G-01A'\n\\item 'TCGA-IB-AAUT-01A'\n\\item 'TCGA-HZ-7918-01A'\n\\item 'TCGA-2J-AABT-01A'\n\\item 'TCGA-F2-A7TX-01A'\n\\item 'TCGA-IB-AAUQ-01A'\n\\item 'TCGA-HZ-A77Q-01A'\n\\item 'TCGA-IB-7645-01A'\n\\item 'TCGA-3A-A9IO-01A'\n\\item 'TCGA-FB-A7DR-01A'\n\\item 'TCGA-F2-6879-01A'\n\\item 'TCGA-XD-AAUG-01A'\n\\item 'TCGA-3A-A9IB-01A'\n\\item 'TCGA-IB-AAUO-01A'\n\\item 'TCGA-IB-AAUS-01A'\n\\item 'TCGA-HZ-8001-01A'\n\\item 'TCGA-IB-7886-01A'\n\\item 'TCGA-HZ-A49I-01A'\n\\item 'TCGA-2J-AABE-01A'\n\\item 'TCGA-HZ-7920-01A'\n\\item 'TCGA-US-A779-01A'\n\\item 'TCGA-HZ-7926-01A'\n\\item 'TCGA-HZ-8005-01A'\n\\item 'TCGA-3E-AAAZ-01A'\n\\item 'TCGA-XD-AAUL-01A'\n\\item 'TCGA-HZ-8636-01A'\n\\item 'TCGA-HZ-A8P0-01A'\n\\item 'TCGA-IB-A5SO-01A'\n\\item 'TCGA-S4-A8RP-01A'\n\\item 'TCGA-HZ-7925-01A'\n\\item 'TCGA-3A-A9IH-01A'\n\\item 'TCGA-S4-A8RO-01A'\n\\item 'TCGA-RB-AA9M-01A'\n\\item 'TCGA-IB-A5SP-01A'\n\\item 'TCGA-OE-A75W-01A'\n\\item 'TCGA-IB-7888-01A'\n\\item 'TCGA-LB-A8F3-01A'\n\\item 'TCGA-HZ-A9TJ-01A'\n\\item 'TCGA-3A-A9IJ-01A'\n\\item 'TCGA-IB-AAUW-01A'\n\\item 'TCGA-IB-7644-01A'\n\\item 'TCGA-IB-A5ST-01A'\n\\item 'TCGA-HZ-7922-01A'\n\\item 'TCGA-Q3-A5QY-01A'\n\\item 'TCGA-Q3-AA2A-01A'\n\\item 'TCGA-2J-AAB1-01A'\n\\item 'TCGA-HV-A5A6-01A'\n\\item 'TCGA-IB-7654-01A'\n\\item 'TCGA-HZ-8003-01A'\n\\item 'TCGA-IB-7649-01A'\n\\item 'TCGA-IB-7652-01A'\n\\item 'TCGA-US-A77G-01A'\n\\item 'TCGA-3E-AAAY-01A'\n\\item 'TCGA-2J-AABH-01A'\n\\item 'TCGA-HV-A7OL-01A'\n\\item 'TCGA-3A-A9IZ-01A'\n\\item 'TCGA-YH-A8SY-01A'\n\\item 'TCGA-F2-7273-01A'\n\\item 'TCGA-IB-A5SS-01A'\n\\item 'TCGA-FB-AAPZ-01A'\n\\item 'TCGA-2J-AABP-01A'\n\\item 'TCGA-IB-A6UG-01A'\n\\item 'TCGA-F2-A44H-01A'\n\\item 'TCGA-HV-A7OP-01A'\n\\item 'TCGA-IB-7897-01A'\n\\item 'TCGA-IB-7893-01A'\n\\item 'TCGA-FB-AAQ0-01A'\n\\item 'TCGA-YB-A89D-01A'\n\\item 'TCGA-HZ-A77P-01A'\n\\item 'TCGA-US-A776-01A'\n\\item 'TCGA-2L-AAQJ-01A'\n\\item 'TCGA-HV-A5A4-01A'\n\\item 'TCGA-HZ-8637-01A'\n\\item 'TCGA-H6-8124-01A'\n\\item 'TCGA-M8-A5N4-01A'\n\\item 'TCGA-2L-AAQL-01A'\n\\item 'TCGA-PZ-A5RE-01A'\n\\item 'TCGA-FB-AAQ2-01A'\n\\item 'TCGA-FB-AAQ3-01A'\n\\item 'TCGA-2J-AABF-01A'\n\\item 'TCGA-3A-A9I5-01A'\n\\item 'TCGA-HZ-8317-01A'\n\\item 'TCGA-RB-A7B8-01A'\n\\item 'TCGA-HZ-A8P1-01A'\n\\item 'TCGA-3A-A9I9-01A'\n\\item 'TCGA-FB-A78T-01A'\n\\item 'TCGA-HZ-7919-01A'\n\\item 'TCGA-IB-AAUP-01A'\n\\item 'TCGA-2J-AABI-01A'\n\\item 'TCGA-3A-A9IV-01A'\n\\item 'TCGA-YY-A8LH-01A'\n\\item 'TCGA-HV-A5A3-11A'\n\\item 'TCGA-H6-A45N-11A'\n\\item 'TCGA-YB-A89D-11A'\n\\item 'TCGA-H6-8124-11A'\n\\end{enumerate*}\n",
            "text/plain": [
              "  [1] \"TCGA-FB-AAPY-01A\" \"TCGA-IB-A7LX-01A\" \"TCGA-XN-A8T5-01A\"\n",
              "  [4] \"TCGA-HZ-A77O-01A\" \"TCGA-FB-AAPQ-01A\" \"TCGA-3A-A9IL-01A\"\n",
              "  [7] \"TCGA-FB-AAPS-01A\" \"TCGA-IB-A7M4-01A\" \"TCGA-IB-8126-01A\"\n",
              " [10] \"TCGA-FB-AAPP-01A\" \"TCGA-FB-A4P6-01A\" \"TCGA-2J-AAB8-01A\"\n",
              " [13] \"TCGA-US-A774-01A\" \"TCGA-FB-A5VM-01A\" \"TCGA-2J-AABK-01A\"\n",
              " [16] \"TCGA-3A-A9I7-01A\" \"TCGA-IB-AAUU-01A\" \"TCGA-IB-8127-01A\"\n",
              " [19] \"TCGA-2J-AABO-01A\" \"TCGA-US-A77E-01A\" \"TCGA-2J-AAB9-01A\"\n",
              " [22] \"TCGA-H6-A45N-01A\" \"TCGA-LB-A7SX-01A\" \"TCGA-2L-AAQA-01A\"\n",
              " [25] \"TCGA-HZ-A4BK-01A\" \"TCGA-IB-AAUR-01A\" \"TCGA-IB-7891-01A\"\n",
              " [28] \"TCGA-3A-A9IU-01A\" \"TCGA-2L-AAQI-01A\" \"TCGA-3A-A9J0-01A\"\n",
              " [31] \"TCGA-HV-A5A3-01A\" \"TCGA-H8-A6C1-01A\" \"TCGA-2L-AAQM-01A\"\n",
              " [34] \"TCGA-FB-AAQ6-01A\" \"TCGA-IB-7647-01A\" \"TCGA-HZ-8315-01A\"\n",
              " [37] \"TCGA-HV-A5A5-01A\" \"TCGA-3A-A9IR-01A\" \"TCGA-IB-7887-01A\"\n",
              " [40] \"TCGA-IB-A6UF-01A\" \"TCGA-HZ-A49H-01A\" \"TCGA-S4-A8RM-01A\"\n",
              " [43] \"TCGA-HV-AA8V-01A\" \"TCGA-HZ-7289-01A\" \"TCGA-3A-A9IN-01A\"\n",
              " [46] \"TCGA-2L-AAQE-01A\" \"TCGA-2J-AABR-01A\" \"TCGA-F2-A8YN-01A\"\n",
              " [49] \"TCGA-IB-7651-01A\" \"TCGA-HV-AA8X-01A\" \"TCGA-LB-A9Q5-01A\"\n",
              " [52] \"TCGA-Z5-AAPL-01A\" \"TCGA-XD-AAUH-01A\" \"TCGA-3A-A9IC-01A\"\n",
              " [55] \"TCGA-XD-AAUI-01A\" \"TCGA-2J-AAB6-01A\" \"TCGA-IB-AAUN-01A\"\n",
              " [58] \"TCGA-3A-A9IS-01A\" \"TCGA-IB-AAUM-01A\" \"TCGA-IB-7885-01A\"\n",
              " [61] \"TCGA-XN-A8T3-01A\" \"TCGA-3A-A9IX-01A\" \"TCGA-HZ-8002-01A\"\n",
              " [64] \"TCGA-IB-7646-01A\" \"TCGA-2J-AAB4-01A\" \"TCGA-IB-7890-01A\"\n",
              " [67] \"TCGA-IB-7889-01A\" \"TCGA-FB-AAPU-01A\" \"TCGA-HZ-A4BH-01A\"\n",
              " [70] \"TCGA-2J-AABV-01A\" \"TCGA-FB-AAQ1-01A\" \"TCGA-IB-A5SQ-01A\"\n",
              " [73] \"TCGA-2J-AABA-01A\" \"TCGA-F2-A44G-01A\" \"TCGA-IB-AAUT-01A\"\n",
              " [76] \"TCGA-HZ-7918-01A\" \"TCGA-2J-AABT-01A\" \"TCGA-F2-A7TX-01A\"\n",
              " [79] \"TCGA-IB-AAUQ-01A\" \"TCGA-HZ-A77Q-01A\" \"TCGA-IB-7645-01A\"\n",
              " [82] \"TCGA-3A-A9IO-01A\" \"TCGA-FB-A7DR-01A\" \"TCGA-F2-6879-01A\"\n",
              " [85] \"TCGA-XD-AAUG-01A\" \"TCGA-3A-A9IB-01A\" \"TCGA-IB-AAUO-01A\"\n",
              " [88] \"TCGA-IB-AAUS-01A\" \"TCGA-HZ-8001-01A\" \"TCGA-IB-7886-01A\"\n",
              " [91] \"TCGA-HZ-A49I-01A\" \"TCGA-2J-AABE-01A\" \"TCGA-HZ-7920-01A\"\n",
              " [94] \"TCGA-US-A779-01A\" \"TCGA-HZ-7926-01A\" \"TCGA-HZ-8005-01A\"\n",
              " [97] \"TCGA-3E-AAAZ-01A\" \"TCGA-XD-AAUL-01A\" \"TCGA-HZ-8636-01A\"\n",
              "[100] \"TCGA-HZ-A8P0-01A\" \"TCGA-IB-A5SO-01A\" \"TCGA-S4-A8RP-01A\"\n",
              "[103] \"TCGA-HZ-7925-01A\" \"TCGA-3A-A9IH-01A\" \"TCGA-S4-A8RO-01A\"\n",
              "[106] \"TCGA-RB-AA9M-01A\" \"TCGA-IB-A5SP-01A\" \"TCGA-OE-A75W-01A\"\n",
              "[109] \"TCGA-IB-7888-01A\" \"TCGA-LB-A8F3-01A\" \"TCGA-HZ-A9TJ-01A\"\n",
              "[112] \"TCGA-3A-A9IJ-01A\" \"TCGA-IB-AAUW-01A\" \"TCGA-IB-7644-01A\"\n",
              "[115] \"TCGA-IB-A5ST-01A\" \"TCGA-HZ-7922-01A\" \"TCGA-Q3-A5QY-01A\"\n",
              "[118] \"TCGA-Q3-AA2A-01A\" \"TCGA-2J-AAB1-01A\" \"TCGA-HV-A5A6-01A\"\n",
              "[121] \"TCGA-IB-7654-01A\" \"TCGA-HZ-8003-01A\" \"TCGA-IB-7649-01A\"\n",
              "[124] \"TCGA-IB-7652-01A\" \"TCGA-US-A77G-01A\" \"TCGA-3E-AAAY-01A\"\n",
              "[127] \"TCGA-2J-AABH-01A\" \"TCGA-HV-A7OL-01A\" \"TCGA-3A-A9IZ-01A\"\n",
              "[130] \"TCGA-YH-A8SY-01A\" \"TCGA-F2-7273-01A\" \"TCGA-IB-A5SS-01A\"\n",
              "[133] \"TCGA-FB-AAPZ-01A\" \"TCGA-2J-AABP-01A\" \"TCGA-IB-A6UG-01A\"\n",
              "[136] \"TCGA-F2-A44H-01A\" \"TCGA-HV-A7OP-01A\" \"TCGA-IB-7897-01A\"\n",
              "[139] \"TCGA-IB-7893-01A\" \"TCGA-FB-AAQ0-01A\" \"TCGA-YB-A89D-01A\"\n",
              "[142] \"TCGA-HZ-A77P-01A\" \"TCGA-US-A776-01A\" \"TCGA-2L-AAQJ-01A\"\n",
              "[145] \"TCGA-HV-A5A4-01A\" \"TCGA-HZ-8637-01A\" \"TCGA-H6-8124-01A\"\n",
              "[148] \"TCGA-M8-A5N4-01A\" \"TCGA-2L-AAQL-01A\" \"TCGA-PZ-A5RE-01A\"\n",
              "[151] \"TCGA-FB-AAQ2-01A\" \"TCGA-FB-AAQ3-01A\" \"TCGA-2J-AABF-01A\"\n",
              "[154] \"TCGA-3A-A9I5-01A\" \"TCGA-HZ-8317-01A\" \"TCGA-RB-A7B8-01A\"\n",
              "[157] \"TCGA-HZ-A8P1-01A\" \"TCGA-3A-A9I9-01A\" \"TCGA-FB-A78T-01A\"\n",
              "[160] \"TCGA-HZ-7919-01A\" \"TCGA-IB-AAUP-01A\" \"TCGA-2J-AABI-01A\"\n",
              "[163] \"TCGA-3A-A9IV-01A\" \"TCGA-YY-A8LH-01A\" \"TCGA-HV-A5A3-11A\"\n",
              "[166] \"TCGA-H6-A45N-11A\" \"TCGA-YB-A89D-11A\" \"TCGA-H6-8124-11A\""
            ]
          },
          "metadata": {}
        }
      ]
    },
    {
      "cell_type": "code",
      "source": [
        "all(rownames(Col_data)==colnames(Count_data))"
      ],
      "metadata": {
        "colab": {
          "base_uri": "https://localhost:8080/",
          "height": 34
        },
        "id": "eGAKO3T8wR1B",
        "outputId": "f3894461-a951-4a9f-e077-7782626230cc"
      },
      "execution_count": 13,
      "outputs": [
        {
          "output_type": "display_data",
          "data": {
            "text/html": [
              "TRUE"
            ],
            "text/markdown": "TRUE",
            "text/latex": "TRUE",
            "text/plain": [
              "[1] TRUE"
            ]
          },
          "metadata": {}
        }
      ]
    },
    {
      "cell_type": "markdown",
      "source": [
        "#count number of NA values in matrix"
      ],
      "metadata": {
        "id": "dkeCsXJ31tFa"
      }
    },
    {
      "cell_type": "markdown",
      "source": [
        "#False if NA is not present, otherwise True"
      ],
      "metadata": {
        "id": "Sn_buVUv1xEY"
      }
    },
    {
      "cell_type": "code",
      "source": [
        "(is.na(Count_data))"
      ],
      "metadata": {
        "colab": {
          "base_uri": "https://localhost:8080/",
          "height": 1000
        },
        "id": "e9ApjKFWwRyO",
        "outputId": "cc676f8c-45d6-46c3-f52c-01a98489c635"
      },
      "execution_count": 14,
      "outputs": [
        {
          "output_type": "display_data",
          "data": {
            "text/html": [
              "<table class=\"dataframe\">\n",
              "<caption>A matrix: 60660 × 168 of type lgl</caption>\n",
              "<thead>\n",
              "\t<tr><th></th><th scope=col>TCGA-FB-AAPY-01A</th><th scope=col>TCGA-IB-A7LX-01A</th><th scope=col>TCGA-XN-A8T5-01A</th><th scope=col>TCGA-HZ-A77O-01A</th><th scope=col>TCGA-FB-AAPQ-01A</th><th scope=col>TCGA-3A-A9IL-01A</th><th scope=col>TCGA-FB-AAPS-01A</th><th scope=col>TCGA-IB-A7M4-01A</th><th scope=col>TCGA-IB-8126-01A</th><th scope=col>TCGA-FB-AAPP-01A</th><th scope=col>⋯</th><th scope=col>TCGA-FB-A78T-01A</th><th scope=col>TCGA-HZ-7919-01A</th><th scope=col>TCGA-IB-AAUP-01A</th><th scope=col>TCGA-2J-AABI-01A</th><th scope=col>TCGA-3A-A9IV-01A</th><th scope=col>TCGA-YY-A8LH-01A</th><th scope=col>TCGA-HV-A5A3-11A</th><th scope=col>TCGA-H6-A45N-11A</th><th scope=col>TCGA-YB-A89D-11A</th><th scope=col>TCGA-H6-8124-11A</th></tr>\n",
              "</thead>\n",
              "<tbody>\n",
              "\t<tr><th scope=row>ENSG00000000003.15</th><td>FALSE</td><td>FALSE</td><td>FALSE</td><td>FALSE</td><td>FALSE</td><td>FALSE</td><td>FALSE</td><td>FALSE</td><td>FALSE</td><td>FALSE</td><td>⋯</td><td>FALSE</td><td>FALSE</td><td>FALSE</td><td>FALSE</td><td>FALSE</td><td>FALSE</td><td>FALSE</td><td>FALSE</td><td>FALSE</td><td>FALSE</td></tr>\n",
              "\t<tr><th scope=row>ENSG00000000005.6</th><td>FALSE</td><td>FALSE</td><td>FALSE</td><td>FALSE</td><td>FALSE</td><td>FALSE</td><td>FALSE</td><td>FALSE</td><td>FALSE</td><td>FALSE</td><td>⋯</td><td>FALSE</td><td>FALSE</td><td>FALSE</td><td>FALSE</td><td>FALSE</td><td>FALSE</td><td>FALSE</td><td>FALSE</td><td>FALSE</td><td>FALSE</td></tr>\n",
              "\t<tr><th scope=row>ENSG00000000419.13</th><td>FALSE</td><td>FALSE</td><td>FALSE</td><td>FALSE</td><td>FALSE</td><td>FALSE</td><td>FALSE</td><td>FALSE</td><td>FALSE</td><td>FALSE</td><td>⋯</td><td>FALSE</td><td>FALSE</td><td>FALSE</td><td>FALSE</td><td>FALSE</td><td>FALSE</td><td>FALSE</td><td>FALSE</td><td>FALSE</td><td>FALSE</td></tr>\n",
              "\t<tr><th scope=row>ENSG00000000457.14</th><td>FALSE</td><td>FALSE</td><td>FALSE</td><td>FALSE</td><td>FALSE</td><td>FALSE</td><td>FALSE</td><td>FALSE</td><td>FALSE</td><td>FALSE</td><td>⋯</td><td>FALSE</td><td>FALSE</td><td>FALSE</td><td>FALSE</td><td>FALSE</td><td>FALSE</td><td>FALSE</td><td>FALSE</td><td>FALSE</td><td>FALSE</td></tr>\n",
              "\t<tr><th scope=row>ENSG00000000460.17</th><td>FALSE</td><td>FALSE</td><td>FALSE</td><td>FALSE</td><td>FALSE</td><td>FALSE</td><td>FALSE</td><td>FALSE</td><td>FALSE</td><td>FALSE</td><td>⋯</td><td>FALSE</td><td>FALSE</td><td>FALSE</td><td>FALSE</td><td>FALSE</td><td>FALSE</td><td>FALSE</td><td>FALSE</td><td>FALSE</td><td>FALSE</td></tr>\n",
              "\t<tr><th scope=row>ENSG00000000938.13</th><td>FALSE</td><td>FALSE</td><td>FALSE</td><td>FALSE</td><td>FALSE</td><td>FALSE</td><td>FALSE</td><td>FALSE</td><td>FALSE</td><td>FALSE</td><td>⋯</td><td>FALSE</td><td>FALSE</td><td>FALSE</td><td>FALSE</td><td>FALSE</td><td>FALSE</td><td>FALSE</td><td>FALSE</td><td>FALSE</td><td>FALSE</td></tr>\n",
              "\t<tr><th scope=row>ENSG00000000971.16</th><td>FALSE</td><td>FALSE</td><td>FALSE</td><td>FALSE</td><td>FALSE</td><td>FALSE</td><td>FALSE</td><td>FALSE</td><td>FALSE</td><td>FALSE</td><td>⋯</td><td>FALSE</td><td>FALSE</td><td>FALSE</td><td>FALSE</td><td>FALSE</td><td>FALSE</td><td>FALSE</td><td>FALSE</td><td>FALSE</td><td>FALSE</td></tr>\n",
              "\t<tr><th scope=row>ENSG00000001036.14</th><td>FALSE</td><td>FALSE</td><td>FALSE</td><td>FALSE</td><td>FALSE</td><td>FALSE</td><td>FALSE</td><td>FALSE</td><td>FALSE</td><td>FALSE</td><td>⋯</td><td>FALSE</td><td>FALSE</td><td>FALSE</td><td>FALSE</td><td>FALSE</td><td>FALSE</td><td>FALSE</td><td>FALSE</td><td>FALSE</td><td>FALSE</td></tr>\n",
              "\t<tr><th scope=row>ENSG00000001084.13</th><td>FALSE</td><td>FALSE</td><td>FALSE</td><td>FALSE</td><td>FALSE</td><td>FALSE</td><td>FALSE</td><td>FALSE</td><td>FALSE</td><td>FALSE</td><td>⋯</td><td>FALSE</td><td>FALSE</td><td>FALSE</td><td>FALSE</td><td>FALSE</td><td>FALSE</td><td>FALSE</td><td>FALSE</td><td>FALSE</td><td>FALSE</td></tr>\n",
              "\t<tr><th scope=row>ENSG00000001167.14</th><td>FALSE</td><td>FALSE</td><td>FALSE</td><td>FALSE</td><td>FALSE</td><td>FALSE</td><td>FALSE</td><td>FALSE</td><td>FALSE</td><td>FALSE</td><td>⋯</td><td>FALSE</td><td>FALSE</td><td>FALSE</td><td>FALSE</td><td>FALSE</td><td>FALSE</td><td>FALSE</td><td>FALSE</td><td>FALSE</td><td>FALSE</td></tr>\n",
              "\t<tr><th scope=row>ENSG00000001460.18</th><td>FALSE</td><td>FALSE</td><td>FALSE</td><td>FALSE</td><td>FALSE</td><td>FALSE</td><td>FALSE</td><td>FALSE</td><td>FALSE</td><td>FALSE</td><td>⋯</td><td>FALSE</td><td>FALSE</td><td>FALSE</td><td>FALSE</td><td>FALSE</td><td>FALSE</td><td>FALSE</td><td>FALSE</td><td>FALSE</td><td>FALSE</td></tr>\n",
              "\t<tr><th scope=row>ENSG00000001461.17</th><td>FALSE</td><td>FALSE</td><td>FALSE</td><td>FALSE</td><td>FALSE</td><td>FALSE</td><td>FALSE</td><td>FALSE</td><td>FALSE</td><td>FALSE</td><td>⋯</td><td>FALSE</td><td>FALSE</td><td>FALSE</td><td>FALSE</td><td>FALSE</td><td>FALSE</td><td>FALSE</td><td>FALSE</td><td>FALSE</td><td>FALSE</td></tr>\n",
              "\t<tr><th scope=row>ENSG00000001497.18</th><td>FALSE</td><td>FALSE</td><td>FALSE</td><td>FALSE</td><td>FALSE</td><td>FALSE</td><td>FALSE</td><td>FALSE</td><td>FALSE</td><td>FALSE</td><td>⋯</td><td>FALSE</td><td>FALSE</td><td>FALSE</td><td>FALSE</td><td>FALSE</td><td>FALSE</td><td>FALSE</td><td>FALSE</td><td>FALSE</td><td>FALSE</td></tr>\n",
              "\t<tr><th scope=row>ENSG00000001561.7</th><td>FALSE</td><td>FALSE</td><td>FALSE</td><td>FALSE</td><td>FALSE</td><td>FALSE</td><td>FALSE</td><td>FALSE</td><td>FALSE</td><td>FALSE</td><td>⋯</td><td>FALSE</td><td>FALSE</td><td>FALSE</td><td>FALSE</td><td>FALSE</td><td>FALSE</td><td>FALSE</td><td>FALSE</td><td>FALSE</td><td>FALSE</td></tr>\n",
              "\t<tr><th scope=row>ENSG00000001617.12</th><td>FALSE</td><td>FALSE</td><td>FALSE</td><td>FALSE</td><td>FALSE</td><td>FALSE</td><td>FALSE</td><td>FALSE</td><td>FALSE</td><td>FALSE</td><td>⋯</td><td>FALSE</td><td>FALSE</td><td>FALSE</td><td>FALSE</td><td>FALSE</td><td>FALSE</td><td>FALSE</td><td>FALSE</td><td>FALSE</td><td>FALSE</td></tr>\n",
              "\t<tr><th scope=row>ENSG00000001626.16</th><td>FALSE</td><td>FALSE</td><td>FALSE</td><td>FALSE</td><td>FALSE</td><td>FALSE</td><td>FALSE</td><td>FALSE</td><td>FALSE</td><td>FALSE</td><td>⋯</td><td>FALSE</td><td>FALSE</td><td>FALSE</td><td>FALSE</td><td>FALSE</td><td>FALSE</td><td>FALSE</td><td>FALSE</td><td>FALSE</td><td>FALSE</td></tr>\n",
              "\t<tr><th scope=row>ENSG00000001629.10</th><td>FALSE</td><td>FALSE</td><td>FALSE</td><td>FALSE</td><td>FALSE</td><td>FALSE</td><td>FALSE</td><td>FALSE</td><td>FALSE</td><td>FALSE</td><td>⋯</td><td>FALSE</td><td>FALSE</td><td>FALSE</td><td>FALSE</td><td>FALSE</td><td>FALSE</td><td>FALSE</td><td>FALSE</td><td>FALSE</td><td>FALSE</td></tr>\n",
              "\t<tr><th scope=row>ENSG00000001630.17</th><td>FALSE</td><td>FALSE</td><td>FALSE</td><td>FALSE</td><td>FALSE</td><td>FALSE</td><td>FALSE</td><td>FALSE</td><td>FALSE</td><td>FALSE</td><td>⋯</td><td>FALSE</td><td>FALSE</td><td>FALSE</td><td>FALSE</td><td>FALSE</td><td>FALSE</td><td>FALSE</td><td>FALSE</td><td>FALSE</td><td>FALSE</td></tr>\n",
              "\t<tr><th scope=row>ENSG00000001631.16</th><td>FALSE</td><td>FALSE</td><td>FALSE</td><td>FALSE</td><td>FALSE</td><td>FALSE</td><td>FALSE</td><td>FALSE</td><td>FALSE</td><td>FALSE</td><td>⋯</td><td>FALSE</td><td>FALSE</td><td>FALSE</td><td>FALSE</td><td>FALSE</td><td>FALSE</td><td>FALSE</td><td>FALSE</td><td>FALSE</td><td>FALSE</td></tr>\n",
              "\t<tr><th scope=row>ENSG00000002016.18</th><td>FALSE</td><td>FALSE</td><td>FALSE</td><td>FALSE</td><td>FALSE</td><td>FALSE</td><td>FALSE</td><td>FALSE</td><td>FALSE</td><td>FALSE</td><td>⋯</td><td>FALSE</td><td>FALSE</td><td>FALSE</td><td>FALSE</td><td>FALSE</td><td>FALSE</td><td>FALSE</td><td>FALSE</td><td>FALSE</td><td>FALSE</td></tr>\n",
              "\t<tr><th scope=row>ENSG00000002079.14</th><td>FALSE</td><td>FALSE</td><td>FALSE</td><td>FALSE</td><td>FALSE</td><td>FALSE</td><td>FALSE</td><td>FALSE</td><td>FALSE</td><td>FALSE</td><td>⋯</td><td>FALSE</td><td>FALSE</td><td>FALSE</td><td>FALSE</td><td>FALSE</td><td>FALSE</td><td>FALSE</td><td>FALSE</td><td>FALSE</td><td>FALSE</td></tr>\n",
              "\t<tr><th scope=row>ENSG00000002330.14</th><td>FALSE</td><td>FALSE</td><td>FALSE</td><td>FALSE</td><td>FALSE</td><td>FALSE</td><td>FALSE</td><td>FALSE</td><td>FALSE</td><td>FALSE</td><td>⋯</td><td>FALSE</td><td>FALSE</td><td>FALSE</td><td>FALSE</td><td>FALSE</td><td>FALSE</td><td>FALSE</td><td>FALSE</td><td>FALSE</td><td>FALSE</td></tr>\n",
              "\t<tr><th scope=row>ENSG00000002549.12</th><td>FALSE</td><td>FALSE</td><td>FALSE</td><td>FALSE</td><td>FALSE</td><td>FALSE</td><td>FALSE</td><td>FALSE</td><td>FALSE</td><td>FALSE</td><td>⋯</td><td>FALSE</td><td>FALSE</td><td>FALSE</td><td>FALSE</td><td>FALSE</td><td>FALSE</td><td>FALSE</td><td>FALSE</td><td>FALSE</td><td>FALSE</td></tr>\n",
              "\t<tr><th scope=row>ENSG00000002586.20</th><td>FALSE</td><td>FALSE</td><td>FALSE</td><td>FALSE</td><td>FALSE</td><td>FALSE</td><td>FALSE</td><td>FALSE</td><td>FALSE</td><td>FALSE</td><td>⋯</td><td>FALSE</td><td>FALSE</td><td>FALSE</td><td>FALSE</td><td>FALSE</td><td>FALSE</td><td>FALSE</td><td>FALSE</td><td>FALSE</td><td>FALSE</td></tr>\n",
              "\t<tr><th scope=row>ENSG00000002586.20_PAR_Y</th><td>FALSE</td><td>FALSE</td><td>FALSE</td><td>FALSE</td><td>FALSE</td><td>FALSE</td><td>FALSE</td><td>FALSE</td><td>FALSE</td><td>FALSE</td><td>⋯</td><td>FALSE</td><td>FALSE</td><td>FALSE</td><td>FALSE</td><td>FALSE</td><td>FALSE</td><td>FALSE</td><td>FALSE</td><td>FALSE</td><td>FALSE</td></tr>\n",
              "\t<tr><th scope=row>ENSG00000002587.10</th><td>FALSE</td><td>FALSE</td><td>FALSE</td><td>FALSE</td><td>FALSE</td><td>FALSE</td><td>FALSE</td><td>FALSE</td><td>FALSE</td><td>FALSE</td><td>⋯</td><td>FALSE</td><td>FALSE</td><td>FALSE</td><td>FALSE</td><td>FALSE</td><td>FALSE</td><td>FALSE</td><td>FALSE</td><td>FALSE</td><td>FALSE</td></tr>\n",
              "\t<tr><th scope=row>ENSG00000002726.21</th><td>FALSE</td><td>FALSE</td><td>FALSE</td><td>FALSE</td><td>FALSE</td><td>FALSE</td><td>FALSE</td><td>FALSE</td><td>FALSE</td><td>FALSE</td><td>⋯</td><td>FALSE</td><td>FALSE</td><td>FALSE</td><td>FALSE</td><td>FALSE</td><td>FALSE</td><td>FALSE</td><td>FALSE</td><td>FALSE</td><td>FALSE</td></tr>\n",
              "\t<tr><th scope=row>ENSG00000002745.13</th><td>FALSE</td><td>FALSE</td><td>FALSE</td><td>FALSE</td><td>FALSE</td><td>FALSE</td><td>FALSE</td><td>FALSE</td><td>FALSE</td><td>FALSE</td><td>⋯</td><td>FALSE</td><td>FALSE</td><td>FALSE</td><td>FALSE</td><td>FALSE</td><td>FALSE</td><td>FALSE</td><td>FALSE</td><td>FALSE</td><td>FALSE</td></tr>\n",
              "\t<tr><th scope=row>ENSG00000002746.15</th><td>FALSE</td><td>FALSE</td><td>FALSE</td><td>FALSE</td><td>FALSE</td><td>FALSE</td><td>FALSE</td><td>FALSE</td><td>FALSE</td><td>FALSE</td><td>⋯</td><td>FALSE</td><td>FALSE</td><td>FALSE</td><td>FALSE</td><td>FALSE</td><td>FALSE</td><td>FALSE</td><td>FALSE</td><td>FALSE</td><td>FALSE</td></tr>\n",
              "\t<tr><th scope=row>ENSG00000002822.15</th><td>FALSE</td><td>FALSE</td><td>FALSE</td><td>FALSE</td><td>FALSE</td><td>FALSE</td><td>FALSE</td><td>FALSE</td><td>FALSE</td><td>FALSE</td><td>⋯</td><td>FALSE</td><td>FALSE</td><td>FALSE</td><td>FALSE</td><td>FALSE</td><td>FALSE</td><td>FALSE</td><td>FALSE</td><td>FALSE</td><td>FALSE</td></tr>\n",
              "\t<tr><th scope=row>⋮</th><td>⋮</td><td>⋮</td><td>⋮</td><td>⋮</td><td>⋮</td><td>⋮</td><td>⋮</td><td>⋮</td><td>⋮</td><td>⋮</td><td>⋱</td><td>⋮</td><td>⋮</td><td>⋮</td><td>⋮</td><td>⋮</td><td>⋮</td><td>⋮</td><td>⋮</td><td>⋮</td><td>⋮</td></tr>\n",
              "\t<tr><th scope=row>ENSG00000288634.1</th><td>FALSE</td><td>FALSE</td><td>FALSE</td><td>FALSE</td><td>FALSE</td><td>FALSE</td><td>FALSE</td><td>FALSE</td><td>FALSE</td><td>FALSE</td><td>⋯</td><td>FALSE</td><td>FALSE</td><td>FALSE</td><td>FALSE</td><td>FALSE</td><td>FALSE</td><td>FALSE</td><td>FALSE</td><td>FALSE</td><td>FALSE</td></tr>\n",
              "\t<tr><th scope=row>ENSG00000288635.1</th><td>FALSE</td><td>FALSE</td><td>FALSE</td><td>FALSE</td><td>FALSE</td><td>FALSE</td><td>FALSE</td><td>FALSE</td><td>FALSE</td><td>FALSE</td><td>⋯</td><td>FALSE</td><td>FALSE</td><td>FALSE</td><td>FALSE</td><td>FALSE</td><td>FALSE</td><td>FALSE</td><td>FALSE</td><td>FALSE</td><td>FALSE</td></tr>\n",
              "\t<tr><th scope=row>ENSG00000288636.1</th><td>FALSE</td><td>FALSE</td><td>FALSE</td><td>FALSE</td><td>FALSE</td><td>FALSE</td><td>FALSE</td><td>FALSE</td><td>FALSE</td><td>FALSE</td><td>⋯</td><td>FALSE</td><td>FALSE</td><td>FALSE</td><td>FALSE</td><td>FALSE</td><td>FALSE</td><td>FALSE</td><td>FALSE</td><td>FALSE</td><td>FALSE</td></tr>\n",
              "\t<tr><th scope=row>ENSG00000288637.1</th><td>FALSE</td><td>FALSE</td><td>FALSE</td><td>FALSE</td><td>FALSE</td><td>FALSE</td><td>FALSE</td><td>FALSE</td><td>FALSE</td><td>FALSE</td><td>⋯</td><td>FALSE</td><td>FALSE</td><td>FALSE</td><td>FALSE</td><td>FALSE</td><td>FALSE</td><td>FALSE</td><td>FALSE</td><td>FALSE</td><td>FALSE</td></tr>\n",
              "\t<tr><th scope=row>ENSG00000288638.1</th><td>FALSE</td><td>FALSE</td><td>FALSE</td><td>FALSE</td><td>FALSE</td><td>FALSE</td><td>FALSE</td><td>FALSE</td><td>FALSE</td><td>FALSE</td><td>⋯</td><td>FALSE</td><td>FALSE</td><td>FALSE</td><td>FALSE</td><td>FALSE</td><td>FALSE</td><td>FALSE</td><td>FALSE</td><td>FALSE</td><td>FALSE</td></tr>\n",
              "\t<tr><th scope=row>ENSG00000288639.1</th><td>FALSE</td><td>FALSE</td><td>FALSE</td><td>FALSE</td><td>FALSE</td><td>FALSE</td><td>FALSE</td><td>FALSE</td><td>FALSE</td><td>FALSE</td><td>⋯</td><td>FALSE</td><td>FALSE</td><td>FALSE</td><td>FALSE</td><td>FALSE</td><td>FALSE</td><td>FALSE</td><td>FALSE</td><td>FALSE</td><td>FALSE</td></tr>\n",
              "\t<tr><th scope=row>ENSG00000288640.1</th><td>FALSE</td><td>FALSE</td><td>FALSE</td><td>FALSE</td><td>FALSE</td><td>FALSE</td><td>FALSE</td><td>FALSE</td><td>FALSE</td><td>FALSE</td><td>⋯</td><td>FALSE</td><td>FALSE</td><td>FALSE</td><td>FALSE</td><td>FALSE</td><td>FALSE</td><td>FALSE</td><td>FALSE</td><td>FALSE</td><td>FALSE</td></tr>\n",
              "\t<tr><th scope=row>ENSG00000288642.1</th><td>FALSE</td><td>FALSE</td><td>FALSE</td><td>FALSE</td><td>FALSE</td><td>FALSE</td><td>FALSE</td><td>FALSE</td><td>FALSE</td><td>FALSE</td><td>⋯</td><td>FALSE</td><td>FALSE</td><td>FALSE</td><td>FALSE</td><td>FALSE</td><td>FALSE</td><td>FALSE</td><td>FALSE</td><td>FALSE</td><td>FALSE</td></tr>\n",
              "\t<tr><th scope=row>ENSG00000288643.1</th><td>FALSE</td><td>FALSE</td><td>FALSE</td><td>FALSE</td><td>FALSE</td><td>FALSE</td><td>FALSE</td><td>FALSE</td><td>FALSE</td><td>FALSE</td><td>⋯</td><td>FALSE</td><td>FALSE</td><td>FALSE</td><td>FALSE</td><td>FALSE</td><td>FALSE</td><td>FALSE</td><td>FALSE</td><td>FALSE</td><td>FALSE</td></tr>\n",
              "\t<tr><th scope=row>ENSG00000288644.1</th><td>FALSE</td><td>FALSE</td><td>FALSE</td><td>FALSE</td><td>FALSE</td><td>FALSE</td><td>FALSE</td><td>FALSE</td><td>FALSE</td><td>FALSE</td><td>⋯</td><td>FALSE</td><td>FALSE</td><td>FALSE</td><td>FALSE</td><td>FALSE</td><td>FALSE</td><td>FALSE</td><td>FALSE</td><td>FALSE</td><td>FALSE</td></tr>\n",
              "\t<tr><th scope=row>ENSG00000288645.1</th><td>FALSE</td><td>FALSE</td><td>FALSE</td><td>FALSE</td><td>FALSE</td><td>FALSE</td><td>FALSE</td><td>FALSE</td><td>FALSE</td><td>FALSE</td><td>⋯</td><td>FALSE</td><td>FALSE</td><td>FALSE</td><td>FALSE</td><td>FALSE</td><td>FALSE</td><td>FALSE</td><td>FALSE</td><td>FALSE</td><td>FALSE</td></tr>\n",
              "\t<tr><th scope=row>ENSG00000288646.1</th><td>FALSE</td><td>FALSE</td><td>FALSE</td><td>FALSE</td><td>FALSE</td><td>FALSE</td><td>FALSE</td><td>FALSE</td><td>FALSE</td><td>FALSE</td><td>⋯</td><td>FALSE</td><td>FALSE</td><td>FALSE</td><td>FALSE</td><td>FALSE</td><td>FALSE</td><td>FALSE</td><td>FALSE</td><td>FALSE</td><td>FALSE</td></tr>\n",
              "\t<tr><th scope=row>ENSG00000288648.1</th><td>FALSE</td><td>FALSE</td><td>FALSE</td><td>FALSE</td><td>FALSE</td><td>FALSE</td><td>FALSE</td><td>FALSE</td><td>FALSE</td><td>FALSE</td><td>⋯</td><td>FALSE</td><td>FALSE</td><td>FALSE</td><td>FALSE</td><td>FALSE</td><td>FALSE</td><td>FALSE</td><td>FALSE</td><td>FALSE</td><td>FALSE</td></tr>\n",
              "\t<tr><th scope=row>ENSG00000288649.1</th><td>FALSE</td><td>FALSE</td><td>FALSE</td><td>FALSE</td><td>FALSE</td><td>FALSE</td><td>FALSE</td><td>FALSE</td><td>FALSE</td><td>FALSE</td><td>⋯</td><td>FALSE</td><td>FALSE</td><td>FALSE</td><td>FALSE</td><td>FALSE</td><td>FALSE</td><td>FALSE</td><td>FALSE</td><td>FALSE</td><td>FALSE</td></tr>\n",
              "\t<tr><th scope=row>ENSG00000288654.1</th><td>FALSE</td><td>FALSE</td><td>FALSE</td><td>FALSE</td><td>FALSE</td><td>FALSE</td><td>FALSE</td><td>FALSE</td><td>FALSE</td><td>FALSE</td><td>⋯</td><td>FALSE</td><td>FALSE</td><td>FALSE</td><td>FALSE</td><td>FALSE</td><td>FALSE</td><td>FALSE</td><td>FALSE</td><td>FALSE</td><td>FALSE</td></tr>\n",
              "\t<tr><th scope=row>ENSG00000288656.1</th><td>FALSE</td><td>FALSE</td><td>FALSE</td><td>FALSE</td><td>FALSE</td><td>FALSE</td><td>FALSE</td><td>FALSE</td><td>FALSE</td><td>FALSE</td><td>⋯</td><td>FALSE</td><td>FALSE</td><td>FALSE</td><td>FALSE</td><td>FALSE</td><td>FALSE</td><td>FALSE</td><td>FALSE</td><td>FALSE</td><td>FALSE</td></tr>\n",
              "\t<tr><th scope=row>ENSG00000288657.1</th><td>FALSE</td><td>FALSE</td><td>FALSE</td><td>FALSE</td><td>FALSE</td><td>FALSE</td><td>FALSE</td><td>FALSE</td><td>FALSE</td><td>FALSE</td><td>⋯</td><td>FALSE</td><td>FALSE</td><td>FALSE</td><td>FALSE</td><td>FALSE</td><td>FALSE</td><td>FALSE</td><td>FALSE</td><td>FALSE</td><td>FALSE</td></tr>\n",
              "\t<tr><th scope=row>ENSG00000288658.1</th><td>FALSE</td><td>FALSE</td><td>FALSE</td><td>FALSE</td><td>FALSE</td><td>FALSE</td><td>FALSE</td><td>FALSE</td><td>FALSE</td><td>FALSE</td><td>⋯</td><td>FALSE</td><td>FALSE</td><td>FALSE</td><td>FALSE</td><td>FALSE</td><td>FALSE</td><td>FALSE</td><td>FALSE</td><td>FALSE</td><td>FALSE</td></tr>\n",
              "\t<tr><th scope=row>ENSG00000288659.1</th><td>FALSE</td><td>FALSE</td><td>FALSE</td><td>FALSE</td><td>FALSE</td><td>FALSE</td><td>FALSE</td><td>FALSE</td><td>FALSE</td><td>FALSE</td><td>⋯</td><td>FALSE</td><td>FALSE</td><td>FALSE</td><td>FALSE</td><td>FALSE</td><td>FALSE</td><td>FALSE</td><td>FALSE</td><td>FALSE</td><td>FALSE</td></tr>\n",
              "\t<tr><th scope=row>ENSG00000288660.1</th><td>FALSE</td><td>FALSE</td><td>FALSE</td><td>FALSE</td><td>FALSE</td><td>FALSE</td><td>FALSE</td><td>FALSE</td><td>FALSE</td><td>FALSE</td><td>⋯</td><td>FALSE</td><td>FALSE</td><td>FALSE</td><td>FALSE</td><td>FALSE</td><td>FALSE</td><td>FALSE</td><td>FALSE</td><td>FALSE</td><td>FALSE</td></tr>\n",
              "\t<tr><th scope=row>ENSG00000288661.1</th><td>FALSE</td><td>FALSE</td><td>FALSE</td><td>FALSE</td><td>FALSE</td><td>FALSE</td><td>FALSE</td><td>FALSE</td><td>FALSE</td><td>FALSE</td><td>⋯</td><td>FALSE</td><td>FALSE</td><td>FALSE</td><td>FALSE</td><td>FALSE</td><td>FALSE</td><td>FALSE</td><td>FALSE</td><td>FALSE</td><td>FALSE</td></tr>\n",
              "\t<tr><th scope=row>ENSG00000288662.1</th><td>FALSE</td><td>FALSE</td><td>FALSE</td><td>FALSE</td><td>FALSE</td><td>FALSE</td><td>FALSE</td><td>FALSE</td><td>FALSE</td><td>FALSE</td><td>⋯</td><td>FALSE</td><td>FALSE</td><td>FALSE</td><td>FALSE</td><td>FALSE</td><td>FALSE</td><td>FALSE</td><td>FALSE</td><td>FALSE</td><td>FALSE</td></tr>\n",
              "\t<tr><th scope=row>ENSG00000288663.1</th><td>FALSE</td><td>FALSE</td><td>FALSE</td><td>FALSE</td><td>FALSE</td><td>FALSE</td><td>FALSE</td><td>FALSE</td><td>FALSE</td><td>FALSE</td><td>⋯</td><td>FALSE</td><td>FALSE</td><td>FALSE</td><td>FALSE</td><td>FALSE</td><td>FALSE</td><td>FALSE</td><td>FALSE</td><td>FALSE</td><td>FALSE</td></tr>\n",
              "\t<tr><th scope=row>ENSG00000288665.1</th><td>FALSE</td><td>FALSE</td><td>FALSE</td><td>FALSE</td><td>FALSE</td><td>FALSE</td><td>FALSE</td><td>FALSE</td><td>FALSE</td><td>FALSE</td><td>⋯</td><td>FALSE</td><td>FALSE</td><td>FALSE</td><td>FALSE</td><td>FALSE</td><td>FALSE</td><td>FALSE</td><td>FALSE</td><td>FALSE</td><td>FALSE</td></tr>\n",
              "\t<tr><th scope=row>ENSG00000288667.1</th><td>FALSE</td><td>FALSE</td><td>FALSE</td><td>FALSE</td><td>FALSE</td><td>FALSE</td><td>FALSE</td><td>FALSE</td><td>FALSE</td><td>FALSE</td><td>⋯</td><td>FALSE</td><td>FALSE</td><td>FALSE</td><td>FALSE</td><td>FALSE</td><td>FALSE</td><td>FALSE</td><td>FALSE</td><td>FALSE</td><td>FALSE</td></tr>\n",
              "\t<tr><th scope=row>ENSG00000288669.1</th><td>FALSE</td><td>FALSE</td><td>FALSE</td><td>FALSE</td><td>FALSE</td><td>FALSE</td><td>FALSE</td><td>FALSE</td><td>FALSE</td><td>FALSE</td><td>⋯</td><td>FALSE</td><td>FALSE</td><td>FALSE</td><td>FALSE</td><td>FALSE</td><td>FALSE</td><td>FALSE</td><td>FALSE</td><td>FALSE</td><td>FALSE</td></tr>\n",
              "\t<tr><th scope=row>ENSG00000288670.1</th><td>FALSE</td><td>FALSE</td><td>FALSE</td><td>FALSE</td><td>FALSE</td><td>FALSE</td><td>FALSE</td><td>FALSE</td><td>FALSE</td><td>FALSE</td><td>⋯</td><td>FALSE</td><td>FALSE</td><td>FALSE</td><td>FALSE</td><td>FALSE</td><td>FALSE</td><td>FALSE</td><td>FALSE</td><td>FALSE</td><td>FALSE</td></tr>\n",
              "\t<tr><th scope=row>ENSG00000288671.1</th><td>FALSE</td><td>FALSE</td><td>FALSE</td><td>FALSE</td><td>FALSE</td><td>FALSE</td><td>FALSE</td><td>FALSE</td><td>FALSE</td><td>FALSE</td><td>⋯</td><td>FALSE</td><td>FALSE</td><td>FALSE</td><td>FALSE</td><td>FALSE</td><td>FALSE</td><td>FALSE</td><td>FALSE</td><td>FALSE</td><td>FALSE</td></tr>\n",
              "\t<tr><th scope=row>ENSG00000288674.1</th><td>FALSE</td><td>FALSE</td><td>FALSE</td><td>FALSE</td><td>FALSE</td><td>FALSE</td><td>FALSE</td><td>FALSE</td><td>FALSE</td><td>FALSE</td><td>⋯</td><td>FALSE</td><td>FALSE</td><td>FALSE</td><td>FALSE</td><td>FALSE</td><td>FALSE</td><td>FALSE</td><td>FALSE</td><td>FALSE</td><td>FALSE</td></tr>\n",
              "\t<tr><th scope=row>ENSG00000288675.1</th><td>FALSE</td><td>FALSE</td><td>FALSE</td><td>FALSE</td><td>FALSE</td><td>FALSE</td><td>FALSE</td><td>FALSE</td><td>FALSE</td><td>FALSE</td><td>⋯</td><td>FALSE</td><td>FALSE</td><td>FALSE</td><td>FALSE</td><td>FALSE</td><td>FALSE</td><td>FALSE</td><td>FALSE</td><td>FALSE</td><td>FALSE</td></tr>\n",
              "</tbody>\n",
              "</table>\n"
            ],
            "text/markdown": "\nA matrix: 60660 × 168 of type lgl\n\n| <!--/--> | TCGA-FB-AAPY-01A | TCGA-IB-A7LX-01A | TCGA-XN-A8T5-01A | TCGA-HZ-A77O-01A | TCGA-FB-AAPQ-01A | TCGA-3A-A9IL-01A | TCGA-FB-AAPS-01A | TCGA-IB-A7M4-01A | TCGA-IB-8126-01A | TCGA-FB-AAPP-01A | ⋯ | TCGA-FB-A78T-01A | TCGA-HZ-7919-01A | TCGA-IB-AAUP-01A | TCGA-2J-AABI-01A | TCGA-3A-A9IV-01A | TCGA-YY-A8LH-01A | TCGA-HV-A5A3-11A | TCGA-H6-A45N-11A | TCGA-YB-A89D-11A | TCGA-H6-8124-11A |\n|---|---|---|---|---|---|---|---|---|---|---|---|---|---|---|---|---|---|---|---|---|---|\n| ENSG00000000003.15 | FALSE | FALSE | FALSE | FALSE | FALSE | FALSE | FALSE | FALSE | FALSE | FALSE | ⋯ | FALSE | FALSE | FALSE | FALSE | FALSE | FALSE | FALSE | FALSE | FALSE | FALSE |\n| ENSG00000000005.6 | FALSE | FALSE | FALSE | FALSE | FALSE | FALSE | FALSE | FALSE | FALSE | FALSE | ⋯ | FALSE | FALSE | FALSE | FALSE | FALSE | FALSE | FALSE | FALSE | FALSE | FALSE |\n| ENSG00000000419.13 | FALSE | FALSE | FALSE | FALSE | FALSE | FALSE | FALSE | FALSE | FALSE | FALSE | ⋯ | FALSE | FALSE | FALSE | FALSE | FALSE | FALSE | FALSE | FALSE | FALSE | FALSE |\n| ENSG00000000457.14 | FALSE | FALSE | FALSE | FALSE | FALSE | FALSE | FALSE | FALSE | FALSE | FALSE | ⋯ | FALSE | FALSE | FALSE | FALSE | FALSE | FALSE | FALSE | FALSE | FALSE | FALSE |\n| ENSG00000000460.17 | FALSE | FALSE | FALSE | FALSE | FALSE | FALSE | FALSE | FALSE | FALSE | FALSE | ⋯ | FALSE | FALSE | FALSE | FALSE | FALSE | FALSE | FALSE | FALSE | FALSE | FALSE |\n| ENSG00000000938.13 | FALSE | FALSE | FALSE | FALSE | FALSE | FALSE | FALSE | FALSE | FALSE | FALSE | ⋯ | FALSE | FALSE | FALSE | FALSE | FALSE | FALSE | FALSE | FALSE | FALSE | FALSE |\n| ENSG00000000971.16 | FALSE | FALSE | FALSE | FALSE | FALSE | FALSE | FALSE | FALSE | FALSE | FALSE | ⋯ | FALSE | FALSE | FALSE | FALSE | FALSE | FALSE | FALSE | FALSE | FALSE | FALSE |\n| ENSG00000001036.14 | FALSE | FALSE | FALSE | FALSE | FALSE | FALSE | FALSE | FALSE | FALSE | FALSE | ⋯ | FALSE | FALSE | FALSE | FALSE | FALSE | FALSE | FALSE | FALSE | FALSE | FALSE |\n| ENSG00000001084.13 | FALSE | FALSE | FALSE | FALSE | FALSE | FALSE | FALSE | FALSE | FALSE | FALSE | ⋯ | FALSE | FALSE | FALSE | FALSE | FALSE | FALSE | FALSE | FALSE | FALSE | FALSE |\n| ENSG00000001167.14 | FALSE | FALSE | FALSE | FALSE | FALSE | FALSE | FALSE | FALSE | FALSE | FALSE | ⋯ | FALSE | FALSE | FALSE | FALSE | FALSE | FALSE | FALSE | FALSE | FALSE | FALSE |\n| ENSG00000001460.18 | FALSE | FALSE | FALSE | FALSE | FALSE | FALSE | FALSE | FALSE | FALSE | FALSE | ⋯ | FALSE | FALSE | FALSE | FALSE | FALSE | FALSE | FALSE | FALSE | FALSE | FALSE |\n| ENSG00000001461.17 | FALSE | FALSE | FALSE | FALSE | FALSE | FALSE | FALSE | FALSE | FALSE | FALSE | ⋯ | FALSE | FALSE | FALSE | FALSE | FALSE | FALSE | FALSE | FALSE | FALSE | FALSE |\n| ENSG00000001497.18 | FALSE | FALSE | FALSE | FALSE | FALSE | FALSE | FALSE | FALSE | FALSE | FALSE | ⋯ | FALSE | FALSE | FALSE | FALSE | FALSE | FALSE | FALSE | FALSE | FALSE | FALSE |\n| ENSG00000001561.7 | FALSE | FALSE | FALSE | FALSE | FALSE | FALSE | FALSE | FALSE | FALSE | FALSE | ⋯ | FALSE | FALSE | FALSE | FALSE | FALSE | FALSE | FALSE | FALSE | FALSE | FALSE |\n| ENSG00000001617.12 | FALSE | FALSE | FALSE | FALSE | FALSE | FALSE | FALSE | FALSE | FALSE | FALSE | ⋯ | FALSE | FALSE | FALSE | FALSE | FALSE | FALSE | FALSE | FALSE | FALSE | FALSE |\n| ENSG00000001626.16 | FALSE | FALSE | FALSE | FALSE | FALSE | FALSE | FALSE | FALSE | FALSE | FALSE | ⋯ | FALSE | FALSE | FALSE | FALSE | FALSE | FALSE | FALSE | FALSE | FALSE | FALSE |\n| ENSG00000001629.10 | FALSE | FALSE | FALSE | FALSE | FALSE | FALSE | FALSE | FALSE | FALSE | FALSE | ⋯ | FALSE | FALSE | FALSE | FALSE | FALSE | FALSE | FALSE | FALSE | FALSE | FALSE |\n| ENSG00000001630.17 | FALSE | FALSE | FALSE | FALSE | FALSE | FALSE | FALSE | FALSE | FALSE | FALSE | ⋯ | FALSE | FALSE | FALSE | FALSE | FALSE | FALSE | FALSE | FALSE | FALSE | FALSE |\n| ENSG00000001631.16 | FALSE | FALSE | FALSE | FALSE | FALSE | FALSE | FALSE | FALSE | FALSE | FALSE | ⋯ | FALSE | FALSE | FALSE | FALSE | FALSE | FALSE | FALSE | FALSE | FALSE | FALSE |\n| ENSG00000002016.18 | FALSE | FALSE | FALSE | FALSE | FALSE | FALSE | FALSE | FALSE | FALSE | FALSE | ⋯ | FALSE | FALSE | FALSE | FALSE | FALSE | FALSE | FALSE | FALSE | FALSE | FALSE |\n| ENSG00000002079.14 | FALSE | FALSE | FALSE | FALSE | FALSE | FALSE | FALSE | FALSE | FALSE | FALSE | ⋯ | FALSE | FALSE | FALSE | FALSE | FALSE | FALSE | FALSE | FALSE | FALSE | FALSE |\n| ENSG00000002330.14 | FALSE | FALSE | FALSE | FALSE | FALSE | FALSE | FALSE | FALSE | FALSE | FALSE | ⋯ | FALSE | FALSE | FALSE | FALSE | FALSE | FALSE | FALSE | FALSE | FALSE | FALSE |\n| ENSG00000002549.12 | FALSE | FALSE | FALSE | FALSE | FALSE | FALSE | FALSE | FALSE | FALSE | FALSE | ⋯ | FALSE | FALSE | FALSE | FALSE | FALSE | FALSE | FALSE | FALSE | FALSE | FALSE |\n| ENSG00000002586.20 | FALSE | FALSE | FALSE | FALSE | FALSE | FALSE | FALSE | FALSE | FALSE | FALSE | ⋯ | FALSE | FALSE | FALSE | FALSE | FALSE | FALSE | FALSE | FALSE | FALSE | FALSE |\n| ENSG00000002586.20_PAR_Y | FALSE | FALSE | FALSE | FALSE | FALSE | FALSE | FALSE | FALSE | FALSE | FALSE | ⋯ | FALSE | FALSE | FALSE | FALSE | FALSE | FALSE | FALSE | FALSE | FALSE | FALSE |\n| ENSG00000002587.10 | FALSE | FALSE | FALSE | FALSE | FALSE | FALSE | FALSE | FALSE | FALSE | FALSE | ⋯ | FALSE | FALSE | FALSE | FALSE | FALSE | FALSE | FALSE | FALSE | FALSE | FALSE |\n| ENSG00000002726.21 | FALSE | FALSE | FALSE | FALSE | FALSE | FALSE | FALSE | FALSE | FALSE | FALSE | ⋯ | FALSE | FALSE | FALSE | FALSE | FALSE | FALSE | FALSE | FALSE | FALSE | FALSE |\n| ENSG00000002745.13 | FALSE | FALSE | FALSE | FALSE | FALSE | FALSE | FALSE | FALSE | FALSE | FALSE | ⋯ | FALSE | FALSE | FALSE | FALSE | FALSE | FALSE | FALSE | FALSE | FALSE | FALSE |\n| ENSG00000002746.15 | FALSE | FALSE | FALSE | FALSE | FALSE | FALSE | FALSE | FALSE | FALSE | FALSE | ⋯ | FALSE | FALSE | FALSE | FALSE | FALSE | FALSE | FALSE | FALSE | FALSE | FALSE |\n| ENSG00000002822.15 | FALSE | FALSE | FALSE | FALSE | FALSE | FALSE | FALSE | FALSE | FALSE | FALSE | ⋯ | FALSE | FALSE | FALSE | FALSE | FALSE | FALSE | FALSE | FALSE | FALSE | FALSE |\n| ⋮ | ⋮ | ⋮ | ⋮ | ⋮ | ⋮ | ⋮ | ⋮ | ⋮ | ⋮ | ⋮ | ⋱ | ⋮ | ⋮ | ⋮ | ⋮ | ⋮ | ⋮ | ⋮ | ⋮ | ⋮ | ⋮ |\n| ENSG00000288634.1 | FALSE | FALSE | FALSE | FALSE | FALSE | FALSE | FALSE | FALSE | FALSE | FALSE | ⋯ | FALSE | FALSE | FALSE | FALSE | FALSE | FALSE | FALSE | FALSE | FALSE | FALSE |\n| ENSG00000288635.1 | FALSE | FALSE | FALSE | FALSE | FALSE | FALSE | FALSE | FALSE | FALSE | FALSE | ⋯ | FALSE | FALSE | FALSE | FALSE | FALSE | FALSE | FALSE | FALSE | FALSE | FALSE |\n| ENSG00000288636.1 | FALSE | FALSE | FALSE | FALSE | FALSE | FALSE | FALSE | FALSE | FALSE | FALSE | ⋯ | FALSE | FALSE | FALSE | FALSE | FALSE | FALSE | FALSE | FALSE | FALSE | FALSE |\n| ENSG00000288637.1 | FALSE | FALSE | FALSE | FALSE | FALSE | FALSE | FALSE | FALSE | FALSE | FALSE | ⋯ | FALSE | FALSE | FALSE | FALSE | FALSE | FALSE | FALSE | FALSE | FALSE | FALSE |\n| ENSG00000288638.1 | FALSE | FALSE | FALSE | FALSE | FALSE | FALSE | FALSE | FALSE | FALSE | FALSE | ⋯ | FALSE | FALSE | FALSE | FALSE | FALSE | FALSE | FALSE | FALSE | FALSE | FALSE |\n| ENSG00000288639.1 | FALSE | FALSE | FALSE | FALSE | FALSE | FALSE | FALSE | FALSE | FALSE | FALSE | ⋯ | FALSE | FALSE | FALSE | FALSE | FALSE | FALSE | FALSE | FALSE | FALSE | FALSE |\n| ENSG00000288640.1 | FALSE | FALSE | FALSE | FALSE | FALSE | FALSE | FALSE | FALSE | FALSE | FALSE | ⋯ | FALSE | FALSE | FALSE | FALSE | FALSE | FALSE | FALSE | FALSE | FALSE | FALSE |\n| ENSG00000288642.1 | FALSE | FALSE | FALSE | FALSE | FALSE | FALSE | FALSE | FALSE | FALSE | FALSE | ⋯ | FALSE | FALSE | FALSE | FALSE | FALSE | FALSE | FALSE | FALSE | FALSE | FALSE |\n| ENSG00000288643.1 | FALSE | FALSE | FALSE | FALSE | FALSE | FALSE | FALSE | FALSE | FALSE | FALSE | ⋯ | FALSE | FALSE | FALSE | FALSE | FALSE | FALSE | FALSE | FALSE | FALSE | FALSE |\n| ENSG00000288644.1 | FALSE | FALSE | FALSE | FALSE | FALSE | FALSE | FALSE | FALSE | FALSE | FALSE | ⋯ | FALSE | FALSE | FALSE | FALSE | FALSE | FALSE | FALSE | FALSE | FALSE | FALSE |\n| ENSG00000288645.1 | FALSE | FALSE | FALSE | FALSE | FALSE | FALSE | FALSE | FALSE | FALSE | FALSE | ⋯ | FALSE | FALSE | FALSE | FALSE | FALSE | FALSE | FALSE | FALSE | FALSE | FALSE |\n| ENSG00000288646.1 | FALSE | FALSE | FALSE | FALSE | FALSE | FALSE | FALSE | FALSE | FALSE | FALSE | ⋯ | FALSE | FALSE | FALSE | FALSE | FALSE | FALSE | FALSE | FALSE | FALSE | FALSE |\n| ENSG00000288648.1 | FALSE | FALSE | FALSE | FALSE | FALSE | FALSE | FALSE | FALSE | FALSE | FALSE | ⋯ | FALSE | FALSE | FALSE | FALSE | FALSE | FALSE | FALSE | FALSE | FALSE | FALSE |\n| ENSG00000288649.1 | FALSE | FALSE | FALSE | FALSE | FALSE | FALSE | FALSE | FALSE | FALSE | FALSE | ⋯ | FALSE | FALSE | FALSE | FALSE | FALSE | FALSE | FALSE | FALSE | FALSE | FALSE |\n| ENSG00000288654.1 | FALSE | FALSE | FALSE | FALSE | FALSE | FALSE | FALSE | FALSE | FALSE | FALSE | ⋯ | FALSE | FALSE | FALSE | FALSE | FALSE | FALSE | FALSE | FALSE | FALSE | FALSE |\n| ENSG00000288656.1 | FALSE | FALSE | FALSE | FALSE | FALSE | FALSE | FALSE | FALSE | FALSE | FALSE | ⋯ | FALSE | FALSE | FALSE | FALSE | FALSE | FALSE | FALSE | FALSE | FALSE | FALSE |\n| ENSG00000288657.1 | FALSE | FALSE | FALSE | FALSE | FALSE | FALSE | FALSE | FALSE | FALSE | FALSE | ⋯ | FALSE | FALSE | FALSE | FALSE | FALSE | FALSE | FALSE | FALSE | FALSE | FALSE |\n| ENSG00000288658.1 | FALSE | FALSE | FALSE | FALSE | FALSE | FALSE | FALSE | FALSE | FALSE | FALSE | ⋯ | FALSE | FALSE | FALSE | FALSE | FALSE | FALSE | FALSE | FALSE | FALSE | FALSE |\n| ENSG00000288659.1 | FALSE | FALSE | FALSE | FALSE | FALSE | FALSE | FALSE | FALSE | FALSE | FALSE | ⋯ | FALSE | FALSE | FALSE | FALSE | FALSE | FALSE | FALSE | FALSE | FALSE | FALSE |\n| ENSG00000288660.1 | FALSE | FALSE | FALSE | FALSE | FALSE | FALSE | FALSE | FALSE | FALSE | FALSE | ⋯ | FALSE | FALSE | FALSE | FALSE | FALSE | FALSE | FALSE | FALSE | FALSE | FALSE |\n| ENSG00000288661.1 | FALSE | FALSE | FALSE | FALSE | FALSE | FALSE | FALSE | FALSE | FALSE | FALSE | ⋯ | FALSE | FALSE | FALSE | FALSE | FALSE | FALSE | FALSE | FALSE | FALSE | FALSE |\n| ENSG00000288662.1 | FALSE | FALSE | FALSE | FALSE | FALSE | FALSE | FALSE | FALSE | FALSE | FALSE | ⋯ | FALSE | FALSE | FALSE | FALSE | FALSE | FALSE | FALSE | FALSE | FALSE | FALSE |\n| ENSG00000288663.1 | FALSE | FALSE | FALSE | FALSE | FALSE | FALSE | FALSE | FALSE | FALSE | FALSE | ⋯ | FALSE | FALSE | FALSE | FALSE | FALSE | FALSE | FALSE | FALSE | FALSE | FALSE |\n| ENSG00000288665.1 | FALSE | FALSE | FALSE | FALSE | FALSE | FALSE | FALSE | FALSE | FALSE | FALSE | ⋯ | FALSE | FALSE | FALSE | FALSE | FALSE | FALSE | FALSE | FALSE | FALSE | FALSE |\n| ENSG00000288667.1 | FALSE | FALSE | FALSE | FALSE | FALSE | FALSE | FALSE | FALSE | FALSE | FALSE | ⋯ | FALSE | FALSE | FALSE | FALSE | FALSE | FALSE | FALSE | FALSE | FALSE | FALSE |\n| ENSG00000288669.1 | FALSE | FALSE | FALSE | FALSE | FALSE | FALSE | FALSE | FALSE | FALSE | FALSE | ⋯ | FALSE | FALSE | FALSE | FALSE | FALSE | FALSE | FALSE | FALSE | FALSE | FALSE |\n| ENSG00000288670.1 | FALSE | FALSE | FALSE | FALSE | FALSE | FALSE | FALSE | FALSE | FALSE | FALSE | ⋯ | FALSE | FALSE | FALSE | FALSE | FALSE | FALSE | FALSE | FALSE | FALSE | FALSE |\n| ENSG00000288671.1 | FALSE | FALSE | FALSE | FALSE | FALSE | FALSE | FALSE | FALSE | FALSE | FALSE | ⋯ | FALSE | FALSE | FALSE | FALSE | FALSE | FALSE | FALSE | FALSE | FALSE | FALSE |\n| ENSG00000288674.1 | FALSE | FALSE | FALSE | FALSE | FALSE | FALSE | FALSE | FALSE | FALSE | FALSE | ⋯ | FALSE | FALSE | FALSE | FALSE | FALSE | FALSE | FALSE | FALSE | FALSE | FALSE |\n| ENSG00000288675.1 | FALSE | FALSE | FALSE | FALSE | FALSE | FALSE | FALSE | FALSE | FALSE | FALSE | ⋯ | FALSE | FALSE | FALSE | FALSE | FALSE | FALSE | FALSE | FALSE | FALSE | FALSE |\n\n",
            "text/latex": "A matrix: 60660 × 168 of type lgl\n\\begin{tabular}{r|lllllllllllllllllllll}\n  & TCGA-FB-AAPY-01A & TCGA-IB-A7LX-01A & TCGA-XN-A8T5-01A & TCGA-HZ-A77O-01A & TCGA-FB-AAPQ-01A & TCGA-3A-A9IL-01A & TCGA-FB-AAPS-01A & TCGA-IB-A7M4-01A & TCGA-IB-8126-01A & TCGA-FB-AAPP-01A & ⋯ & TCGA-FB-A78T-01A & TCGA-HZ-7919-01A & TCGA-IB-AAUP-01A & TCGA-2J-AABI-01A & TCGA-3A-A9IV-01A & TCGA-YY-A8LH-01A & TCGA-HV-A5A3-11A & TCGA-H6-A45N-11A & TCGA-YB-A89D-11A & TCGA-H6-8124-11A\\\\\n\\hline\n\tENSG00000000003.15 & FALSE & FALSE & FALSE & FALSE & FALSE & FALSE & FALSE & FALSE & FALSE & FALSE & ⋯ & FALSE & FALSE & FALSE & FALSE & FALSE & FALSE & FALSE & FALSE & FALSE & FALSE\\\\\n\tENSG00000000005.6 & FALSE & FALSE & FALSE & FALSE & FALSE & FALSE & FALSE & FALSE & FALSE & FALSE & ⋯ & FALSE & FALSE & FALSE & FALSE & FALSE & FALSE & FALSE & FALSE & FALSE & FALSE\\\\\n\tENSG00000000419.13 & FALSE & FALSE & FALSE & FALSE & FALSE & FALSE & FALSE & FALSE & FALSE & FALSE & ⋯ & FALSE & FALSE & FALSE & FALSE & FALSE & FALSE & FALSE & FALSE & FALSE & FALSE\\\\\n\tENSG00000000457.14 & FALSE & FALSE & FALSE & FALSE & FALSE & FALSE & FALSE & FALSE & FALSE & FALSE & ⋯ & FALSE & FALSE & FALSE & FALSE & FALSE & FALSE & FALSE & FALSE & FALSE & FALSE\\\\\n\tENSG00000000460.17 & FALSE & FALSE & FALSE & FALSE & FALSE & FALSE & FALSE & FALSE & FALSE & FALSE & ⋯ & FALSE & FALSE & FALSE & FALSE & FALSE & FALSE & FALSE & FALSE & FALSE & FALSE\\\\\n\tENSG00000000938.13 & FALSE & FALSE & FALSE & FALSE & FALSE & FALSE & FALSE & FALSE & FALSE & FALSE & ⋯ & FALSE & FALSE & FALSE & FALSE & FALSE & FALSE & FALSE & FALSE & FALSE & FALSE\\\\\n\tENSG00000000971.16 & FALSE & FALSE & FALSE & FALSE & FALSE & FALSE & FALSE & FALSE & FALSE & FALSE & ⋯ & FALSE & FALSE & FALSE & FALSE & FALSE & FALSE & FALSE & FALSE & FALSE & FALSE\\\\\n\tENSG00000001036.14 & FALSE & FALSE & FALSE & FALSE & FALSE & FALSE & FALSE & FALSE & FALSE & FALSE & ⋯ & FALSE & FALSE & FALSE & FALSE & FALSE & FALSE & FALSE & FALSE & FALSE & FALSE\\\\\n\tENSG00000001084.13 & FALSE & FALSE & FALSE & FALSE & FALSE & FALSE & FALSE & FALSE & FALSE & FALSE & ⋯ & FALSE & FALSE & FALSE & FALSE & FALSE & FALSE & FALSE & FALSE & FALSE & FALSE\\\\\n\tENSG00000001167.14 & FALSE & FALSE & FALSE & FALSE & FALSE & FALSE & FALSE & FALSE & FALSE & FALSE & ⋯ & FALSE & FALSE & FALSE & FALSE & FALSE & FALSE & FALSE & FALSE & FALSE & FALSE\\\\\n\tENSG00000001460.18 & FALSE & FALSE & FALSE & FALSE & FALSE & FALSE & FALSE & FALSE & FALSE & FALSE & ⋯ & FALSE & FALSE & FALSE & FALSE & FALSE & FALSE & FALSE & FALSE & FALSE & FALSE\\\\\n\tENSG00000001461.17 & FALSE & FALSE & FALSE & FALSE & FALSE & FALSE & FALSE & FALSE & FALSE & FALSE & ⋯ & FALSE & FALSE & FALSE & FALSE & FALSE & FALSE & FALSE & FALSE & FALSE & FALSE\\\\\n\tENSG00000001497.18 & FALSE & FALSE & FALSE & FALSE & FALSE & FALSE & FALSE & FALSE & FALSE & FALSE & ⋯ & FALSE & FALSE & FALSE & FALSE & FALSE & FALSE & FALSE & FALSE & FALSE & FALSE\\\\\n\tENSG00000001561.7 & FALSE & FALSE & FALSE & FALSE & FALSE & FALSE & FALSE & FALSE & FALSE & FALSE & ⋯ & FALSE & FALSE & FALSE & FALSE & FALSE & FALSE & FALSE & FALSE & FALSE & FALSE\\\\\n\tENSG00000001617.12 & FALSE & FALSE & FALSE & FALSE & FALSE & FALSE & FALSE & FALSE & FALSE & FALSE & ⋯ & FALSE & FALSE & FALSE & FALSE & FALSE & FALSE & FALSE & FALSE & FALSE & FALSE\\\\\n\tENSG00000001626.16 & FALSE & FALSE & FALSE & FALSE & FALSE & FALSE & FALSE & FALSE & FALSE & FALSE & ⋯ & FALSE & FALSE & FALSE & FALSE & FALSE & FALSE & FALSE & FALSE & FALSE & FALSE\\\\\n\tENSG00000001629.10 & FALSE & FALSE & FALSE & FALSE & FALSE & FALSE & FALSE & FALSE & FALSE & FALSE & ⋯ & FALSE & FALSE & FALSE & FALSE & FALSE & FALSE & FALSE & FALSE & FALSE & FALSE\\\\\n\tENSG00000001630.17 & FALSE & FALSE & FALSE & FALSE & FALSE & FALSE & FALSE & FALSE & FALSE & FALSE & ⋯ & FALSE & FALSE & FALSE & FALSE & FALSE & FALSE & FALSE & FALSE & FALSE & FALSE\\\\\n\tENSG00000001631.16 & FALSE & FALSE & FALSE & FALSE & FALSE & FALSE & FALSE & FALSE & FALSE & FALSE & ⋯ & FALSE & FALSE & FALSE & FALSE & FALSE & FALSE & FALSE & FALSE & FALSE & FALSE\\\\\n\tENSG00000002016.18 & FALSE & FALSE & FALSE & FALSE & FALSE & FALSE & FALSE & FALSE & FALSE & FALSE & ⋯ & FALSE & FALSE & FALSE & FALSE & FALSE & FALSE & FALSE & FALSE & FALSE & FALSE\\\\\n\tENSG00000002079.14 & FALSE & FALSE & FALSE & FALSE & FALSE & FALSE & FALSE & FALSE & FALSE & FALSE & ⋯ & FALSE & FALSE & FALSE & FALSE & FALSE & FALSE & FALSE & FALSE & FALSE & FALSE\\\\\n\tENSG00000002330.14 & FALSE & FALSE & FALSE & FALSE & FALSE & FALSE & FALSE & FALSE & FALSE & FALSE & ⋯ & FALSE & FALSE & FALSE & FALSE & FALSE & FALSE & FALSE & FALSE & FALSE & FALSE\\\\\n\tENSG00000002549.12 & FALSE & FALSE & FALSE & FALSE & FALSE & FALSE & FALSE & FALSE & FALSE & FALSE & ⋯ & FALSE & FALSE & FALSE & FALSE & FALSE & FALSE & FALSE & FALSE & FALSE & FALSE\\\\\n\tENSG00000002586.20 & FALSE & FALSE & FALSE & FALSE & FALSE & FALSE & FALSE & FALSE & FALSE & FALSE & ⋯ & FALSE & FALSE & FALSE & FALSE & FALSE & FALSE & FALSE & FALSE & FALSE & FALSE\\\\\n\tENSG00000002586.20\\_PAR\\_Y & FALSE & FALSE & FALSE & FALSE & FALSE & FALSE & FALSE & FALSE & FALSE & FALSE & ⋯ & FALSE & FALSE & FALSE & FALSE & FALSE & FALSE & FALSE & FALSE & FALSE & FALSE\\\\\n\tENSG00000002587.10 & FALSE & FALSE & FALSE & FALSE & FALSE & FALSE & FALSE & FALSE & FALSE & FALSE & ⋯ & FALSE & FALSE & FALSE & FALSE & FALSE & FALSE & FALSE & FALSE & FALSE & FALSE\\\\\n\tENSG00000002726.21 & FALSE & FALSE & FALSE & FALSE & FALSE & FALSE & FALSE & FALSE & FALSE & FALSE & ⋯ & FALSE & FALSE & FALSE & FALSE & FALSE & FALSE & FALSE & FALSE & FALSE & FALSE\\\\\n\tENSG00000002745.13 & FALSE & FALSE & FALSE & FALSE & FALSE & FALSE & FALSE & FALSE & FALSE & FALSE & ⋯ & FALSE & FALSE & FALSE & FALSE & FALSE & FALSE & FALSE & FALSE & FALSE & FALSE\\\\\n\tENSG00000002746.15 & FALSE & FALSE & FALSE & FALSE & FALSE & FALSE & FALSE & FALSE & FALSE & FALSE & ⋯ & FALSE & FALSE & FALSE & FALSE & FALSE & FALSE & FALSE & FALSE & FALSE & FALSE\\\\\n\tENSG00000002822.15 & FALSE & FALSE & FALSE & FALSE & FALSE & FALSE & FALSE & FALSE & FALSE & FALSE & ⋯ & FALSE & FALSE & FALSE & FALSE & FALSE & FALSE & FALSE & FALSE & FALSE & FALSE\\\\\n\t⋮ & ⋮ & ⋮ & ⋮ & ⋮ & ⋮ & ⋮ & ⋮ & ⋮ & ⋮ & ⋮ & ⋱ & ⋮ & ⋮ & ⋮ & ⋮ & ⋮ & ⋮ & ⋮ & ⋮ & ⋮ & ⋮\\\\\n\tENSG00000288634.1 & FALSE & FALSE & FALSE & FALSE & FALSE & FALSE & FALSE & FALSE & FALSE & FALSE & ⋯ & FALSE & FALSE & FALSE & FALSE & FALSE & FALSE & FALSE & FALSE & FALSE & FALSE\\\\\n\tENSG00000288635.1 & FALSE & FALSE & FALSE & FALSE & FALSE & FALSE & FALSE & FALSE & FALSE & FALSE & ⋯ & FALSE & FALSE & FALSE & FALSE & FALSE & FALSE & FALSE & FALSE & FALSE & FALSE\\\\\n\tENSG00000288636.1 & FALSE & FALSE & FALSE & FALSE & FALSE & FALSE & FALSE & FALSE & FALSE & FALSE & ⋯ & FALSE & FALSE & FALSE & FALSE & FALSE & FALSE & FALSE & FALSE & FALSE & FALSE\\\\\n\tENSG00000288637.1 & FALSE & FALSE & FALSE & FALSE & FALSE & FALSE & FALSE & FALSE & FALSE & FALSE & ⋯ & FALSE & FALSE & FALSE & FALSE & FALSE & FALSE & FALSE & FALSE & FALSE & FALSE\\\\\n\tENSG00000288638.1 & FALSE & FALSE & FALSE & FALSE & FALSE & FALSE & FALSE & FALSE & FALSE & FALSE & ⋯ & FALSE & FALSE & FALSE & FALSE & FALSE & FALSE & FALSE & FALSE & FALSE & FALSE\\\\\n\tENSG00000288639.1 & FALSE & FALSE & FALSE & FALSE & FALSE & FALSE & FALSE & FALSE & FALSE & FALSE & ⋯ & FALSE & FALSE & FALSE & FALSE & FALSE & FALSE & FALSE & FALSE & FALSE & FALSE\\\\\n\tENSG00000288640.1 & FALSE & FALSE & FALSE & FALSE & FALSE & FALSE & FALSE & FALSE & FALSE & FALSE & ⋯ & FALSE & FALSE & FALSE & FALSE & FALSE & FALSE & FALSE & FALSE & FALSE & FALSE\\\\\n\tENSG00000288642.1 & FALSE & FALSE & FALSE & FALSE & FALSE & FALSE & FALSE & FALSE & FALSE & FALSE & ⋯ & FALSE & FALSE & FALSE & FALSE & FALSE & FALSE & FALSE & FALSE & FALSE & FALSE\\\\\n\tENSG00000288643.1 & FALSE & FALSE & FALSE & FALSE & FALSE & FALSE & FALSE & FALSE & FALSE & FALSE & ⋯ & FALSE & FALSE & FALSE & FALSE & FALSE & FALSE & FALSE & FALSE & FALSE & FALSE\\\\\n\tENSG00000288644.1 & FALSE & FALSE & FALSE & FALSE & FALSE & FALSE & FALSE & FALSE & FALSE & FALSE & ⋯ & FALSE & FALSE & FALSE & FALSE & FALSE & FALSE & FALSE & FALSE & FALSE & FALSE\\\\\n\tENSG00000288645.1 & FALSE & FALSE & FALSE & FALSE & FALSE & FALSE & FALSE & FALSE & FALSE & FALSE & ⋯ & FALSE & FALSE & FALSE & FALSE & FALSE & FALSE & FALSE & FALSE & FALSE & FALSE\\\\\n\tENSG00000288646.1 & FALSE & FALSE & FALSE & FALSE & FALSE & FALSE & FALSE & FALSE & FALSE & FALSE & ⋯ & FALSE & FALSE & FALSE & FALSE & FALSE & FALSE & FALSE & FALSE & FALSE & FALSE\\\\\n\tENSG00000288648.1 & FALSE & FALSE & FALSE & FALSE & FALSE & FALSE & FALSE & FALSE & FALSE & FALSE & ⋯ & FALSE & FALSE & FALSE & FALSE & FALSE & FALSE & FALSE & FALSE & FALSE & FALSE\\\\\n\tENSG00000288649.1 & FALSE & FALSE & FALSE & FALSE & FALSE & FALSE & FALSE & FALSE & FALSE & FALSE & ⋯ & FALSE & FALSE & FALSE & FALSE & FALSE & FALSE & FALSE & FALSE & FALSE & FALSE\\\\\n\tENSG00000288654.1 & FALSE & FALSE & FALSE & FALSE & FALSE & FALSE & FALSE & FALSE & FALSE & FALSE & ⋯ & FALSE & FALSE & FALSE & FALSE & FALSE & FALSE & FALSE & FALSE & FALSE & FALSE\\\\\n\tENSG00000288656.1 & FALSE & FALSE & FALSE & FALSE & FALSE & FALSE & FALSE & FALSE & FALSE & FALSE & ⋯ & FALSE & FALSE & FALSE & FALSE & FALSE & FALSE & FALSE & FALSE & FALSE & FALSE\\\\\n\tENSG00000288657.1 & FALSE & FALSE & FALSE & FALSE & FALSE & FALSE & FALSE & FALSE & FALSE & FALSE & ⋯ & FALSE & FALSE & FALSE & FALSE & FALSE & FALSE & FALSE & FALSE & FALSE & FALSE\\\\\n\tENSG00000288658.1 & FALSE & FALSE & FALSE & FALSE & FALSE & FALSE & FALSE & FALSE & FALSE & FALSE & ⋯ & FALSE & FALSE & FALSE & FALSE & FALSE & FALSE & FALSE & FALSE & FALSE & FALSE\\\\\n\tENSG00000288659.1 & FALSE & FALSE & FALSE & FALSE & FALSE & FALSE & FALSE & FALSE & FALSE & FALSE & ⋯ & FALSE & FALSE & FALSE & FALSE & FALSE & FALSE & FALSE & FALSE & FALSE & FALSE\\\\\n\tENSG00000288660.1 & FALSE & FALSE & FALSE & FALSE & FALSE & FALSE & FALSE & FALSE & FALSE & FALSE & ⋯ & FALSE & FALSE & FALSE & FALSE & FALSE & FALSE & FALSE & FALSE & FALSE & FALSE\\\\\n\tENSG00000288661.1 & FALSE & FALSE & FALSE & FALSE & FALSE & FALSE & FALSE & FALSE & FALSE & FALSE & ⋯ & FALSE & FALSE & FALSE & FALSE & FALSE & FALSE & FALSE & FALSE & FALSE & FALSE\\\\\n\tENSG00000288662.1 & FALSE & FALSE & FALSE & FALSE & FALSE & FALSE & FALSE & FALSE & FALSE & FALSE & ⋯ & FALSE & FALSE & FALSE & FALSE & FALSE & FALSE & FALSE & FALSE & FALSE & FALSE\\\\\n\tENSG00000288663.1 & FALSE & FALSE & FALSE & FALSE & FALSE & FALSE & FALSE & FALSE & FALSE & FALSE & ⋯ & FALSE & FALSE & FALSE & FALSE & FALSE & FALSE & FALSE & FALSE & FALSE & FALSE\\\\\n\tENSG00000288665.1 & FALSE & FALSE & FALSE & FALSE & FALSE & FALSE & FALSE & FALSE & FALSE & FALSE & ⋯ & FALSE & FALSE & FALSE & FALSE & FALSE & FALSE & FALSE & FALSE & FALSE & FALSE\\\\\n\tENSG00000288667.1 & FALSE & FALSE & FALSE & FALSE & FALSE & FALSE & FALSE & FALSE & FALSE & FALSE & ⋯ & FALSE & FALSE & FALSE & FALSE & FALSE & FALSE & FALSE & FALSE & FALSE & FALSE\\\\\n\tENSG00000288669.1 & FALSE & FALSE & FALSE & FALSE & FALSE & FALSE & FALSE & FALSE & FALSE & FALSE & ⋯ & FALSE & FALSE & FALSE & FALSE & FALSE & FALSE & FALSE & FALSE & FALSE & FALSE\\\\\n\tENSG00000288670.1 & FALSE & FALSE & FALSE & FALSE & FALSE & FALSE & FALSE & FALSE & FALSE & FALSE & ⋯ & FALSE & FALSE & FALSE & FALSE & FALSE & FALSE & FALSE & FALSE & FALSE & FALSE\\\\\n\tENSG00000288671.1 & FALSE & FALSE & FALSE & FALSE & FALSE & FALSE & FALSE & FALSE & FALSE & FALSE & ⋯ & FALSE & FALSE & FALSE & FALSE & FALSE & FALSE & FALSE & FALSE & FALSE & FALSE\\\\\n\tENSG00000288674.1 & FALSE & FALSE & FALSE & FALSE & FALSE & FALSE & FALSE & FALSE & FALSE & FALSE & ⋯ & FALSE & FALSE & FALSE & FALSE & FALSE & FALSE & FALSE & FALSE & FALSE & FALSE\\\\\n\tENSG00000288675.1 & FALSE & FALSE & FALSE & FALSE & FALSE & FALSE & FALSE & FALSE & FALSE & FALSE & ⋯ & FALSE & FALSE & FALSE & FALSE & FALSE & FALSE & FALSE & FALSE & FALSE & FALSE\\\\\n\\end{tabular}\n",
            "text/plain": [
              "                         TCGA-FB-AAPY-01A TCGA-IB-A7LX-01A TCGA-XN-A8T5-01A\n",
              "ENSG00000000003.15       FALSE            FALSE            FALSE           \n",
              "ENSG00000000005.6        FALSE            FALSE            FALSE           \n",
              "ENSG00000000419.13       FALSE            FALSE            FALSE           \n",
              "ENSG00000000457.14       FALSE            FALSE            FALSE           \n",
              "ENSG00000000460.17       FALSE            FALSE            FALSE           \n",
              "ENSG00000000938.13       FALSE            FALSE            FALSE           \n",
              "ENSG00000000971.16       FALSE            FALSE            FALSE           \n",
              "ENSG00000001036.14       FALSE            FALSE            FALSE           \n",
              "ENSG00000001084.13       FALSE            FALSE            FALSE           \n",
              "ENSG00000001167.14       FALSE            FALSE            FALSE           \n",
              "ENSG00000001460.18       FALSE            FALSE            FALSE           \n",
              "ENSG00000001461.17       FALSE            FALSE            FALSE           \n",
              "ENSG00000001497.18       FALSE            FALSE            FALSE           \n",
              "ENSG00000001561.7        FALSE            FALSE            FALSE           \n",
              "ENSG00000001617.12       FALSE            FALSE            FALSE           \n",
              "ENSG00000001626.16       FALSE            FALSE            FALSE           \n",
              "ENSG00000001629.10       FALSE            FALSE            FALSE           \n",
              "ENSG00000001630.17       FALSE            FALSE            FALSE           \n",
              "ENSG00000001631.16       FALSE            FALSE            FALSE           \n",
              "ENSG00000002016.18       FALSE            FALSE            FALSE           \n",
              "ENSG00000002079.14       FALSE            FALSE            FALSE           \n",
              "ENSG00000002330.14       FALSE            FALSE            FALSE           \n",
              "ENSG00000002549.12       FALSE            FALSE            FALSE           \n",
              "ENSG00000002586.20       FALSE            FALSE            FALSE           \n",
              "ENSG00000002586.20_PAR_Y FALSE            FALSE            FALSE           \n",
              "ENSG00000002587.10       FALSE            FALSE            FALSE           \n",
              "ENSG00000002726.21       FALSE            FALSE            FALSE           \n",
              "ENSG00000002745.13       FALSE            FALSE            FALSE           \n",
              "ENSG00000002746.15       FALSE            FALSE            FALSE           \n",
              "ENSG00000002822.15       FALSE            FALSE            FALSE           \n",
              "⋮                        ⋮                ⋮                ⋮               \n",
              "ENSG00000288634.1        FALSE            FALSE            FALSE           \n",
              "ENSG00000288635.1        FALSE            FALSE            FALSE           \n",
              "ENSG00000288636.1        FALSE            FALSE            FALSE           \n",
              "ENSG00000288637.1        FALSE            FALSE            FALSE           \n",
              "ENSG00000288638.1        FALSE            FALSE            FALSE           \n",
              "ENSG00000288639.1        FALSE            FALSE            FALSE           \n",
              "ENSG00000288640.1        FALSE            FALSE            FALSE           \n",
              "ENSG00000288642.1        FALSE            FALSE            FALSE           \n",
              "ENSG00000288643.1        FALSE            FALSE            FALSE           \n",
              "ENSG00000288644.1        FALSE            FALSE            FALSE           \n",
              "ENSG00000288645.1        FALSE            FALSE            FALSE           \n",
              "ENSG00000288646.1        FALSE            FALSE            FALSE           \n",
              "ENSG00000288648.1        FALSE            FALSE            FALSE           \n",
              "ENSG00000288649.1        FALSE            FALSE            FALSE           \n",
              "ENSG00000288654.1        FALSE            FALSE            FALSE           \n",
              "ENSG00000288656.1        FALSE            FALSE            FALSE           \n",
              "ENSG00000288657.1        FALSE            FALSE            FALSE           \n",
              "ENSG00000288658.1        FALSE            FALSE            FALSE           \n",
              "ENSG00000288659.1        FALSE            FALSE            FALSE           \n",
              "ENSG00000288660.1        FALSE            FALSE            FALSE           \n",
              "ENSG00000288661.1        FALSE            FALSE            FALSE           \n",
              "ENSG00000288662.1        FALSE            FALSE            FALSE           \n",
              "ENSG00000288663.1        FALSE            FALSE            FALSE           \n",
              "ENSG00000288665.1        FALSE            FALSE            FALSE           \n",
              "ENSG00000288667.1        FALSE            FALSE            FALSE           \n",
              "ENSG00000288669.1        FALSE            FALSE            FALSE           \n",
              "ENSG00000288670.1        FALSE            FALSE            FALSE           \n",
              "ENSG00000288671.1        FALSE            FALSE            FALSE           \n",
              "ENSG00000288674.1        FALSE            FALSE            FALSE           \n",
              "ENSG00000288675.1        FALSE            FALSE            FALSE           \n",
              "                         TCGA-HZ-A77O-01A TCGA-FB-AAPQ-01A TCGA-3A-A9IL-01A\n",
              "ENSG00000000003.15       FALSE            FALSE            FALSE           \n",
              "ENSG00000000005.6        FALSE            FALSE            FALSE           \n",
              "ENSG00000000419.13       FALSE            FALSE            FALSE           \n",
              "ENSG00000000457.14       FALSE            FALSE            FALSE           \n",
              "ENSG00000000460.17       FALSE            FALSE            FALSE           \n",
              "ENSG00000000938.13       FALSE            FALSE            FALSE           \n",
              "ENSG00000000971.16       FALSE            FALSE            FALSE           \n",
              "ENSG00000001036.14       FALSE            FALSE            FALSE           \n",
              "ENSG00000001084.13       FALSE            FALSE            FALSE           \n",
              "ENSG00000001167.14       FALSE            FALSE            FALSE           \n",
              "ENSG00000001460.18       FALSE            FALSE            FALSE           \n",
              "ENSG00000001461.17       FALSE            FALSE            FALSE           \n",
              "ENSG00000001497.18       FALSE            FALSE            FALSE           \n",
              "ENSG00000001561.7        FALSE            FALSE            FALSE           \n",
              "ENSG00000001617.12       FALSE            FALSE            FALSE           \n",
              "ENSG00000001626.16       FALSE            FALSE            FALSE           \n",
              "ENSG00000001629.10       FALSE            FALSE            FALSE           \n",
              "ENSG00000001630.17       FALSE            FALSE            FALSE           \n",
              "ENSG00000001631.16       FALSE            FALSE            FALSE           \n",
              "ENSG00000002016.18       FALSE            FALSE            FALSE           \n",
              "ENSG00000002079.14       FALSE            FALSE            FALSE           \n",
              "ENSG00000002330.14       FALSE            FALSE            FALSE           \n",
              "ENSG00000002549.12       FALSE            FALSE            FALSE           \n",
              "ENSG00000002586.20       FALSE            FALSE            FALSE           \n",
              "ENSG00000002586.20_PAR_Y FALSE            FALSE            FALSE           \n",
              "ENSG00000002587.10       FALSE            FALSE            FALSE           \n",
              "ENSG00000002726.21       FALSE            FALSE            FALSE           \n",
              "ENSG00000002745.13       FALSE            FALSE            FALSE           \n",
              "ENSG00000002746.15       FALSE            FALSE            FALSE           \n",
              "ENSG00000002822.15       FALSE            FALSE            FALSE           \n",
              "⋮                        ⋮                ⋮                ⋮               \n",
              "ENSG00000288634.1        FALSE            FALSE            FALSE           \n",
              "ENSG00000288635.1        FALSE            FALSE            FALSE           \n",
              "ENSG00000288636.1        FALSE            FALSE            FALSE           \n",
              "ENSG00000288637.1        FALSE            FALSE            FALSE           \n",
              "ENSG00000288638.1        FALSE            FALSE            FALSE           \n",
              "ENSG00000288639.1        FALSE            FALSE            FALSE           \n",
              "ENSG00000288640.1        FALSE            FALSE            FALSE           \n",
              "ENSG00000288642.1        FALSE            FALSE            FALSE           \n",
              "ENSG00000288643.1        FALSE            FALSE            FALSE           \n",
              "ENSG00000288644.1        FALSE            FALSE            FALSE           \n",
              "ENSG00000288645.1        FALSE            FALSE            FALSE           \n",
              "ENSG00000288646.1        FALSE            FALSE            FALSE           \n",
              "ENSG00000288648.1        FALSE            FALSE            FALSE           \n",
              "ENSG00000288649.1        FALSE            FALSE            FALSE           \n",
              "ENSG00000288654.1        FALSE            FALSE            FALSE           \n",
              "ENSG00000288656.1        FALSE            FALSE            FALSE           \n",
              "ENSG00000288657.1        FALSE            FALSE            FALSE           \n",
              "ENSG00000288658.1        FALSE            FALSE            FALSE           \n",
              "ENSG00000288659.1        FALSE            FALSE            FALSE           \n",
              "ENSG00000288660.1        FALSE            FALSE            FALSE           \n",
              "ENSG00000288661.1        FALSE            FALSE            FALSE           \n",
              "ENSG00000288662.1        FALSE            FALSE            FALSE           \n",
              "ENSG00000288663.1        FALSE            FALSE            FALSE           \n",
              "ENSG00000288665.1        FALSE            FALSE            FALSE           \n",
              "ENSG00000288667.1        FALSE            FALSE            FALSE           \n",
              "ENSG00000288669.1        FALSE            FALSE            FALSE           \n",
              "ENSG00000288670.1        FALSE            FALSE            FALSE           \n",
              "ENSG00000288671.1        FALSE            FALSE            FALSE           \n",
              "ENSG00000288674.1        FALSE            FALSE            FALSE           \n",
              "ENSG00000288675.1        FALSE            FALSE            FALSE           \n",
              "                         TCGA-FB-AAPS-01A TCGA-IB-A7M4-01A TCGA-IB-8126-01A\n",
              "ENSG00000000003.15       FALSE            FALSE            FALSE           \n",
              "ENSG00000000005.6        FALSE            FALSE            FALSE           \n",
              "ENSG00000000419.13       FALSE            FALSE            FALSE           \n",
              "ENSG00000000457.14       FALSE            FALSE            FALSE           \n",
              "ENSG00000000460.17       FALSE            FALSE            FALSE           \n",
              "ENSG00000000938.13       FALSE            FALSE            FALSE           \n",
              "ENSG00000000971.16       FALSE            FALSE            FALSE           \n",
              "ENSG00000001036.14       FALSE            FALSE            FALSE           \n",
              "ENSG00000001084.13       FALSE            FALSE            FALSE           \n",
              "ENSG00000001167.14       FALSE            FALSE            FALSE           \n",
              "ENSG00000001460.18       FALSE            FALSE            FALSE           \n",
              "ENSG00000001461.17       FALSE            FALSE            FALSE           \n",
              "ENSG00000001497.18       FALSE            FALSE            FALSE           \n",
              "ENSG00000001561.7        FALSE            FALSE            FALSE           \n",
              "ENSG00000001617.12       FALSE            FALSE            FALSE           \n",
              "ENSG00000001626.16       FALSE            FALSE            FALSE           \n",
              "ENSG00000001629.10       FALSE            FALSE            FALSE           \n",
              "ENSG00000001630.17       FALSE            FALSE            FALSE           \n",
              "ENSG00000001631.16       FALSE            FALSE            FALSE           \n",
              "ENSG00000002016.18       FALSE            FALSE            FALSE           \n",
              "ENSG00000002079.14       FALSE            FALSE            FALSE           \n",
              "ENSG00000002330.14       FALSE            FALSE            FALSE           \n",
              "ENSG00000002549.12       FALSE            FALSE            FALSE           \n",
              "ENSG00000002586.20       FALSE            FALSE            FALSE           \n",
              "ENSG00000002586.20_PAR_Y FALSE            FALSE            FALSE           \n",
              "ENSG00000002587.10       FALSE            FALSE            FALSE           \n",
              "ENSG00000002726.21       FALSE            FALSE            FALSE           \n",
              "ENSG00000002745.13       FALSE            FALSE            FALSE           \n",
              "ENSG00000002746.15       FALSE            FALSE            FALSE           \n",
              "ENSG00000002822.15       FALSE            FALSE            FALSE           \n",
              "⋮                        ⋮                ⋮                ⋮               \n",
              "ENSG00000288634.1        FALSE            FALSE            FALSE           \n",
              "ENSG00000288635.1        FALSE            FALSE            FALSE           \n",
              "ENSG00000288636.1        FALSE            FALSE            FALSE           \n",
              "ENSG00000288637.1        FALSE            FALSE            FALSE           \n",
              "ENSG00000288638.1        FALSE            FALSE            FALSE           \n",
              "ENSG00000288639.1        FALSE            FALSE            FALSE           \n",
              "ENSG00000288640.1        FALSE            FALSE            FALSE           \n",
              "ENSG00000288642.1        FALSE            FALSE            FALSE           \n",
              "ENSG00000288643.1        FALSE            FALSE            FALSE           \n",
              "ENSG00000288644.1        FALSE            FALSE            FALSE           \n",
              "ENSG00000288645.1        FALSE            FALSE            FALSE           \n",
              "ENSG00000288646.1        FALSE            FALSE            FALSE           \n",
              "ENSG00000288648.1        FALSE            FALSE            FALSE           \n",
              "ENSG00000288649.1        FALSE            FALSE            FALSE           \n",
              "ENSG00000288654.1        FALSE            FALSE            FALSE           \n",
              "ENSG00000288656.1        FALSE            FALSE            FALSE           \n",
              "ENSG00000288657.1        FALSE            FALSE            FALSE           \n",
              "ENSG00000288658.1        FALSE            FALSE            FALSE           \n",
              "ENSG00000288659.1        FALSE            FALSE            FALSE           \n",
              "ENSG00000288660.1        FALSE            FALSE            FALSE           \n",
              "ENSG00000288661.1        FALSE            FALSE            FALSE           \n",
              "ENSG00000288662.1        FALSE            FALSE            FALSE           \n",
              "ENSG00000288663.1        FALSE            FALSE            FALSE           \n",
              "ENSG00000288665.1        FALSE            FALSE            FALSE           \n",
              "ENSG00000288667.1        FALSE            FALSE            FALSE           \n",
              "ENSG00000288669.1        FALSE            FALSE            FALSE           \n",
              "ENSG00000288670.1        FALSE            FALSE            FALSE           \n",
              "ENSG00000288671.1        FALSE            FALSE            FALSE           \n",
              "ENSG00000288674.1        FALSE            FALSE            FALSE           \n",
              "ENSG00000288675.1        FALSE            FALSE            FALSE           \n",
              "                         TCGA-FB-AAPP-01A ⋯ TCGA-FB-A78T-01A TCGA-HZ-7919-01A\n",
              "ENSG00000000003.15       FALSE            ⋯ FALSE            FALSE           \n",
              "ENSG00000000005.6        FALSE            ⋯ FALSE            FALSE           \n",
              "ENSG00000000419.13       FALSE            ⋯ FALSE            FALSE           \n",
              "ENSG00000000457.14       FALSE            ⋯ FALSE            FALSE           \n",
              "ENSG00000000460.17       FALSE            ⋯ FALSE            FALSE           \n",
              "ENSG00000000938.13       FALSE            ⋯ FALSE            FALSE           \n",
              "ENSG00000000971.16       FALSE            ⋯ FALSE            FALSE           \n",
              "ENSG00000001036.14       FALSE            ⋯ FALSE            FALSE           \n",
              "ENSG00000001084.13       FALSE            ⋯ FALSE            FALSE           \n",
              "ENSG00000001167.14       FALSE            ⋯ FALSE            FALSE           \n",
              "ENSG00000001460.18       FALSE            ⋯ FALSE            FALSE           \n",
              "ENSG00000001461.17       FALSE            ⋯ FALSE            FALSE           \n",
              "ENSG00000001497.18       FALSE            ⋯ FALSE            FALSE           \n",
              "ENSG00000001561.7        FALSE            ⋯ FALSE            FALSE           \n",
              "ENSG00000001617.12       FALSE            ⋯ FALSE            FALSE           \n",
              "ENSG00000001626.16       FALSE            ⋯ FALSE            FALSE           \n",
              "ENSG00000001629.10       FALSE            ⋯ FALSE            FALSE           \n",
              "ENSG00000001630.17       FALSE            ⋯ FALSE            FALSE           \n",
              "ENSG00000001631.16       FALSE            ⋯ FALSE            FALSE           \n",
              "ENSG00000002016.18       FALSE            ⋯ FALSE            FALSE           \n",
              "ENSG00000002079.14       FALSE            ⋯ FALSE            FALSE           \n",
              "ENSG00000002330.14       FALSE            ⋯ FALSE            FALSE           \n",
              "ENSG00000002549.12       FALSE            ⋯ FALSE            FALSE           \n",
              "ENSG00000002586.20       FALSE            ⋯ FALSE            FALSE           \n",
              "ENSG00000002586.20_PAR_Y FALSE            ⋯ FALSE            FALSE           \n",
              "ENSG00000002587.10       FALSE            ⋯ FALSE            FALSE           \n",
              "ENSG00000002726.21       FALSE            ⋯ FALSE            FALSE           \n",
              "ENSG00000002745.13       FALSE            ⋯ FALSE            FALSE           \n",
              "ENSG00000002746.15       FALSE            ⋯ FALSE            FALSE           \n",
              "ENSG00000002822.15       FALSE            ⋯ FALSE            FALSE           \n",
              "⋮                        ⋮                ⋱ ⋮                ⋮               \n",
              "ENSG00000288634.1        FALSE            ⋯ FALSE            FALSE           \n",
              "ENSG00000288635.1        FALSE            ⋯ FALSE            FALSE           \n",
              "ENSG00000288636.1        FALSE            ⋯ FALSE            FALSE           \n",
              "ENSG00000288637.1        FALSE            ⋯ FALSE            FALSE           \n",
              "ENSG00000288638.1        FALSE            ⋯ FALSE            FALSE           \n",
              "ENSG00000288639.1        FALSE            ⋯ FALSE            FALSE           \n",
              "ENSG00000288640.1        FALSE            ⋯ FALSE            FALSE           \n",
              "ENSG00000288642.1        FALSE            ⋯ FALSE            FALSE           \n",
              "ENSG00000288643.1        FALSE            ⋯ FALSE            FALSE           \n",
              "ENSG00000288644.1        FALSE            ⋯ FALSE            FALSE           \n",
              "ENSG00000288645.1        FALSE            ⋯ FALSE            FALSE           \n",
              "ENSG00000288646.1        FALSE            ⋯ FALSE            FALSE           \n",
              "ENSG00000288648.1        FALSE            ⋯ FALSE            FALSE           \n",
              "ENSG00000288649.1        FALSE            ⋯ FALSE            FALSE           \n",
              "ENSG00000288654.1        FALSE            ⋯ FALSE            FALSE           \n",
              "ENSG00000288656.1        FALSE            ⋯ FALSE            FALSE           \n",
              "ENSG00000288657.1        FALSE            ⋯ FALSE            FALSE           \n",
              "ENSG00000288658.1        FALSE            ⋯ FALSE            FALSE           \n",
              "ENSG00000288659.1        FALSE            ⋯ FALSE            FALSE           \n",
              "ENSG00000288660.1        FALSE            ⋯ FALSE            FALSE           \n",
              "ENSG00000288661.1        FALSE            ⋯ FALSE            FALSE           \n",
              "ENSG00000288662.1        FALSE            ⋯ FALSE            FALSE           \n",
              "ENSG00000288663.1        FALSE            ⋯ FALSE            FALSE           \n",
              "ENSG00000288665.1        FALSE            ⋯ FALSE            FALSE           \n",
              "ENSG00000288667.1        FALSE            ⋯ FALSE            FALSE           \n",
              "ENSG00000288669.1        FALSE            ⋯ FALSE            FALSE           \n",
              "ENSG00000288670.1        FALSE            ⋯ FALSE            FALSE           \n",
              "ENSG00000288671.1        FALSE            ⋯ FALSE            FALSE           \n",
              "ENSG00000288674.1        FALSE            ⋯ FALSE            FALSE           \n",
              "ENSG00000288675.1        FALSE            ⋯ FALSE            FALSE           \n",
              "                         TCGA-IB-AAUP-01A TCGA-2J-AABI-01A TCGA-3A-A9IV-01A\n",
              "ENSG00000000003.15       FALSE            FALSE            FALSE           \n",
              "ENSG00000000005.6        FALSE            FALSE            FALSE           \n",
              "ENSG00000000419.13       FALSE            FALSE            FALSE           \n",
              "ENSG00000000457.14       FALSE            FALSE            FALSE           \n",
              "ENSG00000000460.17       FALSE            FALSE            FALSE           \n",
              "ENSG00000000938.13       FALSE            FALSE            FALSE           \n",
              "ENSG00000000971.16       FALSE            FALSE            FALSE           \n",
              "ENSG00000001036.14       FALSE            FALSE            FALSE           \n",
              "ENSG00000001084.13       FALSE            FALSE            FALSE           \n",
              "ENSG00000001167.14       FALSE            FALSE            FALSE           \n",
              "ENSG00000001460.18       FALSE            FALSE            FALSE           \n",
              "ENSG00000001461.17       FALSE            FALSE            FALSE           \n",
              "ENSG00000001497.18       FALSE            FALSE            FALSE           \n",
              "ENSG00000001561.7        FALSE            FALSE            FALSE           \n",
              "ENSG00000001617.12       FALSE            FALSE            FALSE           \n",
              "ENSG00000001626.16       FALSE            FALSE            FALSE           \n",
              "ENSG00000001629.10       FALSE            FALSE            FALSE           \n",
              "ENSG00000001630.17       FALSE            FALSE            FALSE           \n",
              "ENSG00000001631.16       FALSE            FALSE            FALSE           \n",
              "ENSG00000002016.18       FALSE            FALSE            FALSE           \n",
              "ENSG00000002079.14       FALSE            FALSE            FALSE           \n",
              "ENSG00000002330.14       FALSE            FALSE            FALSE           \n",
              "ENSG00000002549.12       FALSE            FALSE            FALSE           \n",
              "ENSG00000002586.20       FALSE            FALSE            FALSE           \n",
              "ENSG00000002586.20_PAR_Y FALSE            FALSE            FALSE           \n",
              "ENSG00000002587.10       FALSE            FALSE            FALSE           \n",
              "ENSG00000002726.21       FALSE            FALSE            FALSE           \n",
              "ENSG00000002745.13       FALSE            FALSE            FALSE           \n",
              "ENSG00000002746.15       FALSE            FALSE            FALSE           \n",
              "ENSG00000002822.15       FALSE            FALSE            FALSE           \n",
              "⋮                        ⋮                ⋮                ⋮               \n",
              "ENSG00000288634.1        FALSE            FALSE            FALSE           \n",
              "ENSG00000288635.1        FALSE            FALSE            FALSE           \n",
              "ENSG00000288636.1        FALSE            FALSE            FALSE           \n",
              "ENSG00000288637.1        FALSE            FALSE            FALSE           \n",
              "ENSG00000288638.1        FALSE            FALSE            FALSE           \n",
              "ENSG00000288639.1        FALSE            FALSE            FALSE           \n",
              "ENSG00000288640.1        FALSE            FALSE            FALSE           \n",
              "ENSG00000288642.1        FALSE            FALSE            FALSE           \n",
              "ENSG00000288643.1        FALSE            FALSE            FALSE           \n",
              "ENSG00000288644.1        FALSE            FALSE            FALSE           \n",
              "ENSG00000288645.1        FALSE            FALSE            FALSE           \n",
              "ENSG00000288646.1        FALSE            FALSE            FALSE           \n",
              "ENSG00000288648.1        FALSE            FALSE            FALSE           \n",
              "ENSG00000288649.1        FALSE            FALSE            FALSE           \n",
              "ENSG00000288654.1        FALSE            FALSE            FALSE           \n",
              "ENSG00000288656.1        FALSE            FALSE            FALSE           \n",
              "ENSG00000288657.1        FALSE            FALSE            FALSE           \n",
              "ENSG00000288658.1        FALSE            FALSE            FALSE           \n",
              "ENSG00000288659.1        FALSE            FALSE            FALSE           \n",
              "ENSG00000288660.1        FALSE            FALSE            FALSE           \n",
              "ENSG00000288661.1        FALSE            FALSE            FALSE           \n",
              "ENSG00000288662.1        FALSE            FALSE            FALSE           \n",
              "ENSG00000288663.1        FALSE            FALSE            FALSE           \n",
              "ENSG00000288665.1        FALSE            FALSE            FALSE           \n",
              "ENSG00000288667.1        FALSE            FALSE            FALSE           \n",
              "ENSG00000288669.1        FALSE            FALSE            FALSE           \n",
              "ENSG00000288670.1        FALSE            FALSE            FALSE           \n",
              "ENSG00000288671.1        FALSE            FALSE            FALSE           \n",
              "ENSG00000288674.1        FALSE            FALSE            FALSE           \n",
              "ENSG00000288675.1        FALSE            FALSE            FALSE           \n",
              "                         TCGA-YY-A8LH-01A TCGA-HV-A5A3-11A TCGA-H6-A45N-11A\n",
              "ENSG00000000003.15       FALSE            FALSE            FALSE           \n",
              "ENSG00000000005.6        FALSE            FALSE            FALSE           \n",
              "ENSG00000000419.13       FALSE            FALSE            FALSE           \n",
              "ENSG00000000457.14       FALSE            FALSE            FALSE           \n",
              "ENSG00000000460.17       FALSE            FALSE            FALSE           \n",
              "ENSG00000000938.13       FALSE            FALSE            FALSE           \n",
              "ENSG00000000971.16       FALSE            FALSE            FALSE           \n",
              "ENSG00000001036.14       FALSE            FALSE            FALSE           \n",
              "ENSG00000001084.13       FALSE            FALSE            FALSE           \n",
              "ENSG00000001167.14       FALSE            FALSE            FALSE           \n",
              "ENSG00000001460.18       FALSE            FALSE            FALSE           \n",
              "ENSG00000001461.17       FALSE            FALSE            FALSE           \n",
              "ENSG00000001497.18       FALSE            FALSE            FALSE           \n",
              "ENSG00000001561.7        FALSE            FALSE            FALSE           \n",
              "ENSG00000001617.12       FALSE            FALSE            FALSE           \n",
              "ENSG00000001626.16       FALSE            FALSE            FALSE           \n",
              "ENSG00000001629.10       FALSE            FALSE            FALSE           \n",
              "ENSG00000001630.17       FALSE            FALSE            FALSE           \n",
              "ENSG00000001631.16       FALSE            FALSE            FALSE           \n",
              "ENSG00000002016.18       FALSE            FALSE            FALSE           \n",
              "ENSG00000002079.14       FALSE            FALSE            FALSE           \n",
              "ENSG00000002330.14       FALSE            FALSE            FALSE           \n",
              "ENSG00000002549.12       FALSE            FALSE            FALSE           \n",
              "ENSG00000002586.20       FALSE            FALSE            FALSE           \n",
              "ENSG00000002586.20_PAR_Y FALSE            FALSE            FALSE           \n",
              "ENSG00000002587.10       FALSE            FALSE            FALSE           \n",
              "ENSG00000002726.21       FALSE            FALSE            FALSE           \n",
              "ENSG00000002745.13       FALSE            FALSE            FALSE           \n",
              "ENSG00000002746.15       FALSE            FALSE            FALSE           \n",
              "ENSG00000002822.15       FALSE            FALSE            FALSE           \n",
              "⋮                        ⋮                ⋮                ⋮               \n",
              "ENSG00000288634.1        FALSE            FALSE            FALSE           \n",
              "ENSG00000288635.1        FALSE            FALSE            FALSE           \n",
              "ENSG00000288636.1        FALSE            FALSE            FALSE           \n",
              "ENSG00000288637.1        FALSE            FALSE            FALSE           \n",
              "ENSG00000288638.1        FALSE            FALSE            FALSE           \n",
              "ENSG00000288639.1        FALSE            FALSE            FALSE           \n",
              "ENSG00000288640.1        FALSE            FALSE            FALSE           \n",
              "ENSG00000288642.1        FALSE            FALSE            FALSE           \n",
              "ENSG00000288643.1        FALSE            FALSE            FALSE           \n",
              "ENSG00000288644.1        FALSE            FALSE            FALSE           \n",
              "ENSG00000288645.1        FALSE            FALSE            FALSE           \n",
              "ENSG00000288646.1        FALSE            FALSE            FALSE           \n",
              "ENSG00000288648.1        FALSE            FALSE            FALSE           \n",
              "ENSG00000288649.1        FALSE            FALSE            FALSE           \n",
              "ENSG00000288654.1        FALSE            FALSE            FALSE           \n",
              "ENSG00000288656.1        FALSE            FALSE            FALSE           \n",
              "ENSG00000288657.1        FALSE            FALSE            FALSE           \n",
              "ENSG00000288658.1        FALSE            FALSE            FALSE           \n",
              "ENSG00000288659.1        FALSE            FALSE            FALSE           \n",
              "ENSG00000288660.1        FALSE            FALSE            FALSE           \n",
              "ENSG00000288661.1        FALSE            FALSE            FALSE           \n",
              "ENSG00000288662.1        FALSE            FALSE            FALSE           \n",
              "ENSG00000288663.1        FALSE            FALSE            FALSE           \n",
              "ENSG00000288665.1        FALSE            FALSE            FALSE           \n",
              "ENSG00000288667.1        FALSE            FALSE            FALSE           \n",
              "ENSG00000288669.1        FALSE            FALSE            FALSE           \n",
              "ENSG00000288670.1        FALSE            FALSE            FALSE           \n",
              "ENSG00000288671.1        FALSE            FALSE            FALSE           \n",
              "ENSG00000288674.1        FALSE            FALSE            FALSE           \n",
              "ENSG00000288675.1        FALSE            FALSE            FALSE           \n",
              "                         TCGA-YB-A89D-11A TCGA-H6-8124-11A\n",
              "ENSG00000000003.15       FALSE            FALSE           \n",
              "ENSG00000000005.6        FALSE            FALSE           \n",
              "ENSG00000000419.13       FALSE            FALSE           \n",
              "ENSG00000000457.14       FALSE            FALSE           \n",
              "ENSG00000000460.17       FALSE            FALSE           \n",
              "ENSG00000000938.13       FALSE            FALSE           \n",
              "ENSG00000000971.16       FALSE            FALSE           \n",
              "ENSG00000001036.14       FALSE            FALSE           \n",
              "ENSG00000001084.13       FALSE            FALSE           \n",
              "ENSG00000001167.14       FALSE            FALSE           \n",
              "ENSG00000001460.18       FALSE            FALSE           \n",
              "ENSG00000001461.17       FALSE            FALSE           \n",
              "ENSG00000001497.18       FALSE            FALSE           \n",
              "ENSG00000001561.7        FALSE            FALSE           \n",
              "ENSG00000001617.12       FALSE            FALSE           \n",
              "ENSG00000001626.16       FALSE            FALSE           \n",
              "ENSG00000001629.10       FALSE            FALSE           \n",
              "ENSG00000001630.17       FALSE            FALSE           \n",
              "ENSG00000001631.16       FALSE            FALSE           \n",
              "ENSG00000002016.18       FALSE            FALSE           \n",
              "ENSG00000002079.14       FALSE            FALSE           \n",
              "ENSG00000002330.14       FALSE            FALSE           \n",
              "ENSG00000002549.12       FALSE            FALSE           \n",
              "ENSG00000002586.20       FALSE            FALSE           \n",
              "ENSG00000002586.20_PAR_Y FALSE            FALSE           \n",
              "ENSG00000002587.10       FALSE            FALSE           \n",
              "ENSG00000002726.21       FALSE            FALSE           \n",
              "ENSG00000002745.13       FALSE            FALSE           \n",
              "ENSG00000002746.15       FALSE            FALSE           \n",
              "ENSG00000002822.15       FALSE            FALSE           \n",
              "⋮                        ⋮                ⋮               \n",
              "ENSG00000288634.1        FALSE            FALSE           \n",
              "ENSG00000288635.1        FALSE            FALSE           \n",
              "ENSG00000288636.1        FALSE            FALSE           \n",
              "ENSG00000288637.1        FALSE            FALSE           \n",
              "ENSG00000288638.1        FALSE            FALSE           \n",
              "ENSG00000288639.1        FALSE            FALSE           \n",
              "ENSG00000288640.1        FALSE            FALSE           \n",
              "ENSG00000288642.1        FALSE            FALSE           \n",
              "ENSG00000288643.1        FALSE            FALSE           \n",
              "ENSG00000288644.1        FALSE            FALSE           \n",
              "ENSG00000288645.1        FALSE            FALSE           \n",
              "ENSG00000288646.1        FALSE            FALSE           \n",
              "ENSG00000288648.1        FALSE            FALSE           \n",
              "ENSG00000288649.1        FALSE            FALSE           \n",
              "ENSG00000288654.1        FALSE            FALSE           \n",
              "ENSG00000288656.1        FALSE            FALSE           \n",
              "ENSG00000288657.1        FALSE            FALSE           \n",
              "ENSG00000288658.1        FALSE            FALSE           \n",
              "ENSG00000288659.1        FALSE            FALSE           \n",
              "ENSG00000288660.1        FALSE            FALSE           \n",
              "ENSG00000288661.1        FALSE            FALSE           \n",
              "ENSG00000288662.1        FALSE            FALSE           \n",
              "ENSG00000288663.1        FALSE            FALSE           \n",
              "ENSG00000288665.1        FALSE            FALSE           \n",
              "ENSG00000288667.1        FALSE            FALSE           \n",
              "ENSG00000288669.1        FALSE            FALSE           \n",
              "ENSG00000288670.1        FALSE            FALSE           \n",
              "ENSG00000288671.1        FALSE            FALSE           \n",
              "ENSG00000288674.1        FALSE            FALSE           \n",
              "ENSG00000288675.1        FALSE            FALSE           "
            ]
          },
          "metadata": {}
        }
      ]
    },
    {
      "cell_type": "markdown",
      "source": [
        "#count of how many NAs are present"
      ],
      "metadata": {
        "id": "MtwUPXvb12EX"
      }
    },
    {
      "cell_type": "code",
      "source": [
        "sum(is.na(Count_data))"
      ],
      "metadata": {
        "colab": {
          "base_uri": "https://localhost:8080/",
          "height": 34
        },
        "id": "-pP59-xWwRvP",
        "outputId": "9a3ea58f-8884-4869-a26b-4ea9292086f1"
      },
      "execution_count": 15,
      "outputs": [
        {
          "output_type": "display_data",
          "data": {
            "text/html": [
              "1"
            ],
            "text/markdown": "1",
            "text/latex": "1",
            "text/plain": [
              "[1] 1"
            ]
          },
          "metadata": {}
        }
      ]
    },
    {
      "cell_type": "markdown",
      "source": [
        "#to find which gene has NA value"
      ],
      "metadata": {
        "id": "zQ9f2yim19Jz"
      }
    },
    {
      "cell_type": "code",
      "source": [
        "which(is.na(Count_data),arr.ind=TRUE)"
      ],
      "metadata": {
        "colab": {
          "base_uri": "https://localhost:8080/",
          "height": 98
        },
        "id": "4DkDB-nAwRsV",
        "outputId": "8453ae5a-150a-4294-984a-78e24c29e9af"
      },
      "execution_count": 16,
      "outputs": [
        {
          "output_type": "display_data",
          "data": {
            "text/html": [
              "<table class=\"dataframe\">\n",
              "<caption>A matrix: 1 × 2 of type int</caption>\n",
              "<thead>\n",
              "\t<tr><th></th><th scope=col>row</th><th scope=col>col</th></tr>\n",
              "</thead>\n",
              "<tbody>\n",
              "\t<tr><th scope=row>ENSG00000288675.1</th><td>60660</td><td>114</td></tr>\n",
              "</tbody>\n",
              "</table>\n"
            ],
            "text/markdown": "\nA matrix: 1 × 2 of type int\n\n| <!--/--> | row | col |\n|---|---|---|\n| ENSG00000288675.1 | 60660 | 114 |\n\n",
            "text/latex": "A matrix: 1 × 2 of type int\n\\begin{tabular}{r|ll}\n  & row & col\\\\\n\\hline\n\tENSG00000288675.1 & 60660 & 114\\\\\n\\end{tabular}\n",
            "text/plain": [
              "                  row   col\n",
              "ENSG00000288675.1 60660 114"
            ]
          },
          "metadata": {}
        }
      ]
    },
    {
      "cell_type": "markdown",
      "source": [
        "#use Count_data <- na.omit(Count_data) to remove row with NA\n",
        "\n",
        "#for (i in seq_along(Count_data)) {Count_data[[i]][is.na(Count_data[[i]])] <- mean(Count_data[[i]], na.rm = TRUE)} use this to replace NA with the mean of column\n",
        "\n",
        "# here we're just replace NA values in matrix with zero\n"
      ],
      "metadata": {
        "id": "H6YPozwm2J_8"
      }
    },
    {
      "cell_type": "code",
      "source": [
        "Count_data[is.na(Count_data)] <- 0"
      ],
      "metadata": {
        "id": "L-snLBoWwNi7"
      },
      "execution_count": 17,
      "outputs": []
    },
    {
      "cell_type": "markdown",
      "source": [
        "#Filteration of data (remove genes with all zero values) an optional step\n"
      ],
      "metadata": {
        "id": "qW-fg2dn2q-X"
      }
    },
    {
      "cell_type": "code",
      "source": [
        "Count_data <-Count_data[rowSums(Count_data[])>0,]"
      ],
      "metadata": {
        "id": "Ik3cr6s-xqh6"
      },
      "execution_count": 18,
      "outputs": []
    },
    {
      "cell_type": "markdown",
      "source": [
        "#creating deseq object\n",
        "\n",
        "# we're testing for the different conditions (normal vs cancer)"
      ],
      "metadata": {
        "id": "Ub71unfZ2vd0"
      }
    },
    {
      "cell_type": "code",
      "source": [
        "dds = DESeqDataSetFromMatrix(countData = Count_data,\n",
        "                             colData = Col_data,\n",
        "                             design = ~condition)"
      ],
      "metadata": {
        "colab": {
          "base_uri": "https://localhost:8080/"
        },
        "id": "u8juSnzIxqeg",
        "outputId": "f87b2b7f-8408-4afd-d6be-c185087532d9"
      },
      "execution_count": 19,
      "outputs": [
        {
          "output_type": "stream",
          "name": "stderr",
          "text": [
            "converting counts to integer mode\n",
            "\n",
            "Warning message in DESeqDataSet(se, design = design, ignoreRank):\n",
            "“some variables in design formula are characters, converting to factors”\n"
          ]
        }
      ]
    },
    {
      "cell_type": "code",
      "source": [
        "dds"
      ],
      "metadata": {
        "colab": {
          "base_uri": "https://localhost:8080/",
          "height": 191
        },
        "id": "T2iDzWxgxqcI",
        "outputId": "57822611-9738-4d9d-cd37-fdbdd7be1052"
      },
      "execution_count": 20,
      "outputs": [
        {
          "output_type": "display_data",
          "data": {
            "text/plain": [
              "class: DESeqDataSet \n",
              "dim: 56954 168 \n",
              "metadata(1): version\n",
              "assays(1): counts\n",
              "rownames(56954): ENSG00000000003.15 ENSG00000000005.6 ...\n",
              "  ENSG00000288674.1 ENSG00000288675.1\n",
              "rowData names(0):\n",
              "colnames(168): TCGA-FB-AAPY-01A TCGA-IB-A7LX-01A ... TCGA-YB-A89D-11A\n",
              "  TCGA-H6-8124-11A\n",
              "colData names(1): condition"
            ]
          },
          "metadata": {}
        }
      ]
    },
    {
      "cell_type": "code",
      "source": [
        "DESeq"
      ],
      "metadata": {
        "colab": {
          "base_uri": "https://localhost:8080/",
          "height": 1000
        },
        "id": "9XXL7yS2xqZi",
        "outputId": "74343bf9-a429-4482-ca12-6dc9141dadc6"
      },
      "execution_count": 21,
      "outputs": [
        {
          "output_type": "display_data",
          "data": {
            "text/html": [
              "<pre class=language-r><code>function (object, test = c(\"Wald\", \"LRT\"), fitType = c(\"parametric\", \n",
              "<span style=white-space:pre-wrap>    \"local\", \"mean\", \"glmGamPoi\"), sfType = c(\"ratio\", \"poscounts\", </span>\n",
              "<span style=white-space:pre-wrap>    \"iterate\"), betaPrior, full = design(object), reduced, quiet = FALSE, </span>\n",
              "<span style=white-space:pre-wrap>    minReplicatesForReplace = 7, modelMatrixType, useT = FALSE, </span>\n",
              "<span style=white-space:pre-wrap>    minmu = if (fitType == \"glmGamPoi\") 1e-06 else 0.5, parallel = FALSE, </span>\n",
              "<span style=white-space:pre-wrap>    BPPARAM = bpparam()) </span>\n",
              "{\n",
              "<span style=white-space:pre-wrap>    stopifnot(is(object, \"DESeqDataSet\"))</span>\n",
              "<span style=white-space:pre-wrap>    test &lt;- match.arg(test, choices = c(\"Wald\", \"LRT\"))</span>\n",
              "<span style=white-space:pre-wrap>    fitType &lt;- match.arg(fitType, choices = c(\"parametric\", \"local\", </span>\n",
              "<span style=white-space:pre-wrap>        \"mean\", \"glmGamPoi\"))</span>\n",
              "<span style=white-space:pre-wrap>    dispersionEstimator &lt;- if (fitType == \"glmGamPoi\") {</span>\n",
              "<span style=white-space:pre-wrap>        \"glmGamPoi\"</span>\n",
              "<span style=white-space:pre-wrap>    }</span>\n",
              "<span style=white-space:pre-wrap>    else {</span>\n",
              "<span style=white-space:pre-wrap>        \"DESeq2\"</span>\n",
              "<span style=white-space:pre-wrap>    }</span>\n",
              "<span style=white-space:pre-wrap>    if (fitType == \"glmGamPoi\") {</span>\n",
              "<span style=white-space:pre-wrap>        minReplicatesForReplace &lt;- Inf</span>\n",
              "<span style=white-space:pre-wrap>        if (parallel) {</span>\n",
              "<span style=white-space:pre-wrap>            warning(\"parallelization of DESeq() is not implemented for fitType='glmGamPoi'\")</span>\n",
              "<span style=white-space:pre-wrap>        }</span>\n",
              "<span style=white-space:pre-wrap>    }</span>\n",
              "<span style=white-space:pre-wrap>    sfType &lt;- match.arg(sfType, choices = c(\"ratio\", \"poscounts\", </span>\n",
              "<span style=white-space:pre-wrap>        \"iterate\"))</span>\n",
              "<span style=white-space:pre-wrap>    stopifnot(is.logical(quiet))</span>\n",
              "<span style=white-space:pre-wrap>    stopifnot(is.numeric(minReplicatesForReplace))</span>\n",
              "<span style=white-space:pre-wrap>    stopifnot(is.logical(parallel))</span>\n",
              "<span style=white-space:pre-wrap>    modelAsFormula &lt;- !is.matrix(full) &amp; is(design(object), \"formula\")</span>\n",
              "<span style=white-space:pre-wrap>    if (missing(betaPrior)) {</span>\n",
              "<span style=white-space:pre-wrap>        betaPrior &lt;- FALSE</span>\n",
              "<span style=white-space:pre-wrap>    }</span>\n",
              "<span style=white-space:pre-wrap>    else {</span>\n",
              "<span style=white-space:pre-wrap>        stopifnot(is.logical(betaPrior))</span>\n",
              "<span style=white-space:pre-wrap>    }</span>\n",
              "<span style=white-space:pre-wrap>    object &lt;- sanitizeRowRanges(object)</span>\n",
              "<span style=white-space:pre-wrap>    if (test == \"LRT\") {</span>\n",
              "<span style=white-space:pre-wrap>        if (missing(reduced)) {</span>\n",
              "<span style=white-space:pre-wrap>            stop(\"likelihood ratio test requires a 'reduced' design, see ?DESeq\")</span>\n",
              "<span style=white-space:pre-wrap>        }</span>\n",
              "<span style=white-space:pre-wrap>        if (betaPrior) {</span>\n",
              "<span style=white-space:pre-wrap>            stop(\"test='LRT' does not support use of LFC shrinkage, use betaPrior=FALSE\")</span>\n",
              "<span style=white-space:pre-wrap>        }</span>\n",
              "<span style=white-space:pre-wrap>        if (!missing(modelMatrixType) &amp;&amp; modelMatrixType == \"expanded\") {</span>\n",
              "<span style=white-space:pre-wrap>            stop(\"test='LRT' does not support use of expanded model matrix\")</span>\n",
              "<span style=white-space:pre-wrap>        }</span>\n",
              "<span style=white-space:pre-wrap>        if (is.matrix(full) | is.matrix(reduced)) {</span>\n",
              "<span style=white-space:pre-wrap>            if (!(is.matrix(full) &amp; is.matrix(reduced))) {</span>\n",
              "<span style=white-space:pre-wrap>                stop(\"if one of 'full' and 'reduced' is a matrix, the other must be also a matrix\")</span>\n",
              "<span style=white-space:pre-wrap>            }</span>\n",
              "<span style=white-space:pre-wrap>        }</span>\n",
              "<span style=white-space:pre-wrap>        if (modelAsFormula) {</span>\n",
              "<span style=white-space:pre-wrap>            checkLRT(full, reduced)</span>\n",
              "<span style=white-space:pre-wrap>        }</span>\n",
              "<span style=white-space:pre-wrap>        else {</span>\n",
              "<span style=white-space:pre-wrap>            checkFullRank(full)</span>\n",
              "<span style=white-space:pre-wrap>            checkFullRank(reduced)</span>\n",
              "<span style=white-space:pre-wrap>            if (ncol(full) &lt;= ncol(reduced)) {</span>\n",
              "<span style=white-space:pre-wrap>                stop(\"the number of columns of 'full' should be more than the number of columns of 'reduced'\")</span>\n",
              "<span style=white-space:pre-wrap>            }</span>\n",
              "<span style=white-space:pre-wrap>        }</span>\n",
              "<span style=white-space:pre-wrap>    }</span>\n",
              "<span style=white-space:pre-wrap>    if (test == \"Wald\" &amp; !missing(reduced)) {</span>\n",
              "<span style=white-space:pre-wrap>        stop(\"'reduced' ignored when test='Wald'\")</span>\n",
              "<span style=white-space:pre-wrap>    }</span>\n",
              "<span style=white-space:pre-wrap>    if (dispersionEstimator == \"glmGamPoi\" &amp;&amp; test == \"Wald\") {</span>\n",
              "<span style=white-space:pre-wrap>        warning(\"glmGamPoi dispersion estimator should be used in combination with a LRT and not a Wald test.\", </span>\n",
              "<span style=white-space:pre-wrap>            call. = FALSE)</span>\n",
              "<span style=white-space:pre-wrap>    }</span>\n",
              "<span style=white-space:pre-wrap>    if (fitType != \"glmGamPoi\") {</span>\n",
              "<span style=white-space:pre-wrap>        if (!is.integer(counts(object))) {</span>\n",
              "<span style=white-space:pre-wrap>            stop(\"the count data is not in integer mode and fitType is not 'glmGamPoi'\")</span>\n",
              "<span style=white-space:pre-wrap>        }</span>\n",
              "<span style=white-space:pre-wrap>    }</span>\n",
              "<span style=white-space:pre-wrap>    if (modelAsFormula) {</span>\n",
              "<span style=white-space:pre-wrap>        designAndArgChecker(object, betaPrior)</span>\n",
              "<span style=white-space:pre-wrap>        if (design(object) == formula(~1)) {</span>\n",
              "<span style=white-space:pre-wrap>            warning(\"the design is ~ 1 (just an intercept). is this intended?\")</span>\n",
              "<span style=white-space:pre-wrap>        }</span>\n",
              "<span style=white-space:pre-wrap>        if (full != design(object)) {</span>\n",
              "<span style=white-space:pre-wrap>            stop(\"'full' specified as formula should equal design(object)\")</span>\n",
              "<span style=white-space:pre-wrap>        }</span>\n",
              "<span style=white-space:pre-wrap>        modelMatrix &lt;- NULL</span>\n",
              "<span style=white-space:pre-wrap>    }</span>\n",
              "<span style=white-space:pre-wrap>    else {</span>\n",
              "<span style=white-space:pre-wrap>        if (!quiet) </span>\n",
              "<span style=white-space:pre-wrap>            message(\"using supplied model matrix\")</span>\n",
              "<span style=white-space:pre-wrap>        if (betaPrior == TRUE) {</span>\n",
              "<span style=white-space:pre-wrap>            stop(\"betaPrior=TRUE is not supported for user-provided model matrices\")</span>\n",
              "<span style=white-space:pre-wrap>        }</span>\n",
              "<span style=white-space:pre-wrap>        checkFullRank(full)</span>\n",
              "<span style=white-space:pre-wrap>        modelMatrix &lt;- full</span>\n",
              "<span style=white-space:pre-wrap>    }</span>\n",
              "<span style=white-space:pre-wrap>    attr(object, \"betaPrior\") &lt;- betaPrior</span>\n",
              "<span style=white-space:pre-wrap>    stopifnot(length(parallel) == 1 &amp; is.logical(parallel))</span>\n",
              "<span style=white-space:pre-wrap>    if (!is.null(sizeFactors(object)) || !is.null(normalizationFactors(object))) {</span>\n",
              "<span style=white-space:pre-wrap>        if (!quiet) {</span>\n",
              "<span style=white-space:pre-wrap>            if (!is.null(normalizationFactors(object))) {</span>\n",
              "<span style=white-space:pre-wrap>                message(\"using pre-existing normalization factors\")</span>\n",
              "<span style=white-space:pre-wrap>            }</span>\n",
              "<span style=white-space:pre-wrap>            else {</span>\n",
              "<span style=white-space:pre-wrap>                message(\"using pre-existing size factors\")</span>\n",
              "<span style=white-space:pre-wrap>            }</span>\n",
              "<span style=white-space:pre-wrap>        }</span>\n",
              "<span style=white-space:pre-wrap>    }</span>\n",
              "<span style=white-space:pre-wrap>    else {</span>\n",
              "<span style=white-space:pre-wrap>        if (!quiet) </span>\n",
              "<span style=white-space:pre-wrap>            message(\"estimating size factors\")</span>\n",
              "<span style=white-space:pre-wrap>        object &lt;- estimateSizeFactors(object, type = sfType, </span>\n",
              "<span style=white-space:pre-wrap>            quiet = quiet)</span>\n",
              "<span style=white-space:pre-wrap>    }</span>\n",
              "<span style=white-space:pre-wrap>    if (!parallel) {</span>\n",
              "<span style=white-space:pre-wrap>        if (!quiet) </span>\n",
              "<span style=white-space:pre-wrap>            message(\"estimating dispersions\")</span>\n",
              "<span style=white-space:pre-wrap>        object &lt;- estimateDispersions(object, fitType = fitType, </span>\n",
              "<span style=white-space:pre-wrap>            quiet = quiet, modelMatrix = modelMatrix, minmu = minmu)</span>\n",
              "<span style=white-space:pre-wrap>        if (!quiet) </span>\n",
              "<span style=white-space:pre-wrap>            message(\"fitting model and testing\")</span>\n",
              "<span style=white-space:pre-wrap>        if (test == \"Wald\") {</span>\n",
              "<span style=white-space:pre-wrap>            object &lt;- nbinomWaldTest(object, betaPrior = betaPrior, </span>\n",
              "<span style=white-space:pre-wrap>                quiet = quiet, modelMatrix = modelMatrix, modelMatrixType = modelMatrixType, </span>\n",
              "<span style=white-space:pre-wrap>                useT = useT, minmu = minmu)</span>\n",
              "<span style=white-space:pre-wrap>        }</span>\n",
              "<span style=white-space:pre-wrap>        else if (test == \"LRT\") {</span>\n",
              "<span style=white-space:pre-wrap>            object &lt;- nbinomLRT(object, full = full, reduced = reduced, </span>\n",
              "<span style=white-space:pre-wrap>                quiet = quiet, minmu = minmu, type = dispersionEstimator)</span>\n",
              "<span style=white-space:pre-wrap>        }</span>\n",
              "<span style=white-space:pre-wrap>    }</span>\n",
              "<span style=white-space:pre-wrap>    else if (parallel) {</span>\n",
              "<span style=white-space:pre-wrap>        if (!missing(modelMatrixType)) {</span>\n",
              "<span style=white-space:pre-wrap>            if (betaPrior) </span>\n",
              "<span style=white-space:pre-wrap>                stopifnot(modelMatrixType == \"expanded\")</span>\n",
              "<span style=white-space:pre-wrap>        }</span>\n",
              "<span style=white-space:pre-wrap>        object &lt;- DESeqParallel(object, test = test, fitType = fitType, </span>\n",
              "<span style=white-space:pre-wrap>            betaPrior = betaPrior, full = full, reduced = reduced, </span>\n",
              "<span style=white-space:pre-wrap>            quiet = quiet, modelMatrix = modelMatrix, useT = useT, </span>\n",
              "<span style=white-space:pre-wrap>            minmu = minmu, BPPARAM = BPPARAM)</span>\n",
              "<span style=white-space:pre-wrap>    }</span>\n",
              "<span style=white-space:pre-wrap>    sufficientReps &lt;- any(nOrMoreInCell(attr(object, \"modelMatrix\"), </span>\n",
              "<span style=white-space:pre-wrap>        minReplicatesForReplace))</span>\n",
              "<span style=white-space:pre-wrap>    if (sufficientReps) {</span>\n",
              "<span style=white-space:pre-wrap>        object &lt;- refitWithoutOutliers(object, test = test, betaPrior = betaPrior, </span>\n",
              "<span style=white-space:pre-wrap>            full = full, reduced = reduced, quiet = quiet, minReplicatesForReplace = minReplicatesForReplace, </span>\n",
              "<span style=white-space:pre-wrap>            modelMatrix = modelMatrix, modelMatrixType = modelMatrixType)</span>\n",
              "<span style=white-space:pre-wrap>    }</span>\n",
              "<span style=white-space:pre-wrap>    metadata(object)[[\"version\"]] &lt;- packageVersion(\"DESeq2\")</span>\n",
              "<span style=white-space:pre-wrap>    object</span>\n",
              "}</code></pre>"
            ],
            "text/markdown": "```r\nfunction (object, test = c(\"Wald\", \"LRT\"), fitType = c(\"parametric\", \n    \"local\", \"mean\", \"glmGamPoi\"), sfType = c(\"ratio\", \"poscounts\", \n    \"iterate\"), betaPrior, full = design(object), reduced, quiet = FALSE, \n    minReplicatesForReplace = 7, modelMatrixType, useT = FALSE, \n    minmu = if (fitType == \"glmGamPoi\") 1e-06 else 0.5, parallel = FALSE, \n    BPPARAM = bpparam()) \n{\n    stopifnot(is(object, \"DESeqDataSet\"))\n    test <- match.arg(test, choices = c(\"Wald\", \"LRT\"))\n    fitType <- match.arg(fitType, choices = c(\"parametric\", \"local\", \n        \"mean\", \"glmGamPoi\"))\n    dispersionEstimator <- if (fitType == \"glmGamPoi\") {\n        \"glmGamPoi\"\n    }\n    else {\n        \"DESeq2\"\n    }\n    if (fitType == \"glmGamPoi\") {\n        minReplicatesForReplace <- Inf\n        if (parallel) {\n            warning(\"parallelization of DESeq() is not implemented for fitType='glmGamPoi'\")\n        }\n    }\n    sfType <- match.arg(sfType, choices = c(\"ratio\", \"poscounts\", \n        \"iterate\"))\n    stopifnot(is.logical(quiet))\n    stopifnot(is.numeric(minReplicatesForReplace))\n    stopifnot(is.logical(parallel))\n    modelAsFormula <- !is.matrix(full) & is(design(object), \"formula\")\n    if (missing(betaPrior)) {\n        betaPrior <- FALSE\n    }\n    else {\n        stopifnot(is.logical(betaPrior))\n    }\n    object <- sanitizeRowRanges(object)\n    if (test == \"LRT\") {\n        if (missing(reduced)) {\n            stop(\"likelihood ratio test requires a 'reduced' design, see ?DESeq\")\n        }\n        if (betaPrior) {\n            stop(\"test='LRT' does not support use of LFC shrinkage, use betaPrior=FALSE\")\n        }\n        if (!missing(modelMatrixType) && modelMatrixType == \"expanded\") {\n            stop(\"test='LRT' does not support use of expanded model matrix\")\n        }\n        if (is.matrix(full) | is.matrix(reduced)) {\n            if (!(is.matrix(full) & is.matrix(reduced))) {\n                stop(\"if one of 'full' and 'reduced' is a matrix, the other must be also a matrix\")\n            }\n        }\n        if (modelAsFormula) {\n            checkLRT(full, reduced)\n        }\n        else {\n            checkFullRank(full)\n            checkFullRank(reduced)\n            if (ncol(full) <= ncol(reduced)) {\n                stop(\"the number of columns of 'full' should be more than the number of columns of 'reduced'\")\n            }\n        }\n    }\n    if (test == \"Wald\" & !missing(reduced)) {\n        stop(\"'reduced' ignored when test='Wald'\")\n    }\n    if (dispersionEstimator == \"glmGamPoi\" && test == \"Wald\") {\n        warning(\"glmGamPoi dispersion estimator should be used in combination with a LRT and not a Wald test.\", \n            call. = FALSE)\n    }\n    if (fitType != \"glmGamPoi\") {\n        if (!is.integer(counts(object))) {\n            stop(\"the count data is not in integer mode and fitType is not 'glmGamPoi'\")\n        }\n    }\n    if (modelAsFormula) {\n        designAndArgChecker(object, betaPrior)\n        if (design(object) == formula(~1)) {\n            warning(\"the design is ~ 1 (just an intercept). is this intended?\")\n        }\n        if (full != design(object)) {\n            stop(\"'full' specified as formula should equal design(object)\")\n        }\n        modelMatrix <- NULL\n    }\n    else {\n        if (!quiet) \n            message(\"using supplied model matrix\")\n        if (betaPrior == TRUE) {\n            stop(\"betaPrior=TRUE is not supported for user-provided model matrices\")\n        }\n        checkFullRank(full)\n        modelMatrix <- full\n    }\n    attr(object, \"betaPrior\") <- betaPrior\n    stopifnot(length(parallel) == 1 & is.logical(parallel))\n    if (!is.null(sizeFactors(object)) || !is.null(normalizationFactors(object))) {\n        if (!quiet) {\n            if (!is.null(normalizationFactors(object))) {\n                message(\"using pre-existing normalization factors\")\n            }\n            else {\n                message(\"using pre-existing size factors\")\n            }\n        }\n    }\n    else {\n        if (!quiet) \n            message(\"estimating size factors\")\n        object <- estimateSizeFactors(object, type = sfType, \n            quiet = quiet)\n    }\n    if (!parallel) {\n        if (!quiet) \n            message(\"estimating dispersions\")\n        object <- estimateDispersions(object, fitType = fitType, \n            quiet = quiet, modelMatrix = modelMatrix, minmu = minmu)\n        if (!quiet) \n            message(\"fitting model and testing\")\n        if (test == \"Wald\") {\n            object <- nbinomWaldTest(object, betaPrior = betaPrior, \n                quiet = quiet, modelMatrix = modelMatrix, modelMatrixType = modelMatrixType, \n                useT = useT, minmu = minmu)\n        }\n        else if (test == \"LRT\") {\n            object <- nbinomLRT(object, full = full, reduced = reduced, \n                quiet = quiet, minmu = minmu, type = dispersionEstimator)\n        }\n    }\n    else if (parallel) {\n        if (!missing(modelMatrixType)) {\n            if (betaPrior) \n                stopifnot(modelMatrixType == \"expanded\")\n        }\n        object <- DESeqParallel(object, test = test, fitType = fitType, \n            betaPrior = betaPrior, full = full, reduced = reduced, \n            quiet = quiet, modelMatrix = modelMatrix, useT = useT, \n            minmu = minmu, BPPARAM = BPPARAM)\n    }\n    sufficientReps <- any(nOrMoreInCell(attr(object, \"modelMatrix\"), \n        minReplicatesForReplace))\n    if (sufficientReps) {\n        object <- refitWithoutOutliers(object, test = test, betaPrior = betaPrior, \n            full = full, reduced = reduced, quiet = quiet, minReplicatesForReplace = minReplicatesForReplace, \n            modelMatrix = modelMatrix, modelMatrixType = modelMatrixType)\n    }\n    metadata(object)[[\"version\"]] <- packageVersion(\"DESeq2\")\n    object\n}\n```",
            "text/latex": "\\begin{minted}{r}\nfunction (object, test = c(\"Wald\", \"LRT\"), fitType = c(\"parametric\", \n    \"local\", \"mean\", \"glmGamPoi\"), sfType = c(\"ratio\", \"poscounts\", \n    \"iterate\"), betaPrior, full = design(object), reduced, quiet = FALSE, \n    minReplicatesForReplace = 7, modelMatrixType, useT = FALSE, \n    minmu = if (fitType == \"glmGamPoi\") 1e-06 else 0.5, parallel = FALSE, \n    BPPARAM = bpparam()) \n\\{\n    stopifnot(is(object, \"DESeqDataSet\"))\n    test <- match.arg(test, choices = c(\"Wald\", \"LRT\"))\n    fitType <- match.arg(fitType, choices = c(\"parametric\", \"local\", \n        \"mean\", \"glmGamPoi\"))\n    dispersionEstimator <- if (fitType == \"glmGamPoi\") \\{\n        \"glmGamPoi\"\n    \\}\n    else \\{\n        \"DESeq2\"\n    \\}\n    if (fitType == \"glmGamPoi\") \\{\n        minReplicatesForReplace <- Inf\n        if (parallel) \\{\n            warning(\"parallelization of DESeq() is not implemented for fitType='glmGamPoi'\")\n        \\}\n    \\}\n    sfType <- match.arg(sfType, choices = c(\"ratio\", \"poscounts\", \n        \"iterate\"))\n    stopifnot(is.logical(quiet))\n    stopifnot(is.numeric(minReplicatesForReplace))\n    stopifnot(is.logical(parallel))\n    modelAsFormula <- !is.matrix(full) \\& is(design(object), \"formula\")\n    if (missing(betaPrior)) \\{\n        betaPrior <- FALSE\n    \\}\n    else \\{\n        stopifnot(is.logical(betaPrior))\n    \\}\n    object <- sanitizeRowRanges(object)\n    if (test == \"LRT\") \\{\n        if (missing(reduced)) \\{\n            stop(\"likelihood ratio test requires a 'reduced' design, see ?DESeq\")\n        \\}\n        if (betaPrior) \\{\n            stop(\"test='LRT' does not support use of LFC shrinkage, use betaPrior=FALSE\")\n        \\}\n        if (!missing(modelMatrixType) \\&\\& modelMatrixType == \"expanded\") \\{\n            stop(\"test='LRT' does not support use of expanded model matrix\")\n        \\}\n        if (is.matrix(full) \\textbar{} is.matrix(reduced)) \\{\n            if (!(is.matrix(full) \\& is.matrix(reduced))) \\{\n                stop(\"if one of 'full' and 'reduced' is a matrix, the other must be also a matrix\")\n            \\}\n        \\}\n        if (modelAsFormula) \\{\n            checkLRT(full, reduced)\n        \\}\n        else \\{\n            checkFullRank(full)\n            checkFullRank(reduced)\n            if (ncol(full) <= ncol(reduced)) \\{\n                stop(\"the number of columns of 'full' should be more than the number of columns of 'reduced'\")\n            \\}\n        \\}\n    \\}\n    if (test == \"Wald\" \\& !missing(reduced)) \\{\n        stop(\"'reduced' ignored when test='Wald'\")\n    \\}\n    if (dispersionEstimator == \"glmGamPoi\" \\&\\& test == \"Wald\") \\{\n        warning(\"glmGamPoi dispersion estimator should be used in combination with a LRT and not a Wald test.\", \n            call. = FALSE)\n    \\}\n    if (fitType != \"glmGamPoi\") \\{\n        if (!is.integer(counts(object))) \\{\n            stop(\"the count data is not in integer mode and fitType is not 'glmGamPoi'\")\n        \\}\n    \\}\n    if (modelAsFormula) \\{\n        designAndArgChecker(object, betaPrior)\n        if (design(object) == formula(\\textasciitilde{}1)) \\{\n            warning(\"the design is \\textasciitilde{} 1 (just an intercept). is this intended?\")\n        \\}\n        if (full != design(object)) \\{\n            stop(\"'full' specified as formula should equal design(object)\")\n        \\}\n        modelMatrix <- NULL\n    \\}\n    else \\{\n        if (!quiet) \n            message(\"using supplied model matrix\")\n        if (betaPrior == TRUE) \\{\n            stop(\"betaPrior=TRUE is not supported for user-provided model matrices\")\n        \\}\n        checkFullRank(full)\n        modelMatrix <- full\n    \\}\n    attr(object, \"betaPrior\") <- betaPrior\n    stopifnot(length(parallel) == 1 \\& is.logical(parallel))\n    if (!is.null(sizeFactors(object)) \\textbar{}\\textbar{} !is.null(normalizationFactors(object))) \\{\n        if (!quiet) \\{\n            if (!is.null(normalizationFactors(object))) \\{\n                message(\"using pre-existing normalization factors\")\n            \\}\n            else \\{\n                message(\"using pre-existing size factors\")\n            \\}\n        \\}\n    \\}\n    else \\{\n        if (!quiet) \n            message(\"estimating size factors\")\n        object <- estimateSizeFactors(object, type = sfType, \n            quiet = quiet)\n    \\}\n    if (!parallel) \\{\n        if (!quiet) \n            message(\"estimating dispersions\")\n        object <- estimateDispersions(object, fitType = fitType, \n            quiet = quiet, modelMatrix = modelMatrix, minmu = minmu)\n        if (!quiet) \n            message(\"fitting model and testing\")\n        if (test == \"Wald\") \\{\n            object <- nbinomWaldTest(object, betaPrior = betaPrior, \n                quiet = quiet, modelMatrix = modelMatrix, modelMatrixType = modelMatrixType, \n                useT = useT, minmu = minmu)\n        \\}\n        else if (test == \"LRT\") \\{\n            object <- nbinomLRT(object, full = full, reduced = reduced, \n                quiet = quiet, minmu = minmu, type = dispersionEstimator)\n        \\}\n    \\}\n    else if (parallel) \\{\n        if (!missing(modelMatrixType)) \\{\n            if (betaPrior) \n                stopifnot(modelMatrixType == \"expanded\")\n        \\}\n        object <- DESeqParallel(object, test = test, fitType = fitType, \n            betaPrior = betaPrior, full = full, reduced = reduced, \n            quiet = quiet, modelMatrix = modelMatrix, useT = useT, \n            minmu = minmu, BPPARAM = BPPARAM)\n    \\}\n    sufficientReps <- any(nOrMoreInCell(attr(object, \"modelMatrix\"), \n        minReplicatesForReplace))\n    if (sufficientReps) \\{\n        object <- refitWithoutOutliers(object, test = test, betaPrior = betaPrior, \n            full = full, reduced = reduced, quiet = quiet, minReplicatesForReplace = minReplicatesForReplace, \n            modelMatrix = modelMatrix, modelMatrixType = modelMatrixType)\n    \\}\n    metadata(object){[}{[}\"version\"{]}{]} <- packageVersion(\"DESeq2\")\n    object\n\\}\n\\end{minted}",
            "text/plain": [
              "function (object, test = c(\"Wald\", \"LRT\"), fitType = c(\"parametric\", \n",
              "    \"local\", \"mean\", \"glmGamPoi\"), sfType = c(\"ratio\", \"poscounts\", \n",
              "    \"iterate\"), betaPrior, full = design(object), reduced, quiet = FALSE, \n",
              "    minReplicatesForReplace = 7, modelMatrixType, useT = FALSE, \n",
              "    minmu = if (fitType == \"glmGamPoi\") 1e-06 else 0.5, parallel = FALSE, \n",
              "    BPPARAM = bpparam()) \n",
              "{\n",
              "    stopifnot(is(object, \"DESeqDataSet\"))\n",
              "    test <- match.arg(test, choices = c(\"Wald\", \"LRT\"))\n",
              "    fitType <- match.arg(fitType, choices = c(\"parametric\", \"local\", \n",
              "        \"mean\", \"glmGamPoi\"))\n",
              "    dispersionEstimator <- if (fitType == \"glmGamPoi\") {\n",
              "        \"glmGamPoi\"\n",
              "    }\n",
              "    else {\n",
              "        \"DESeq2\"\n",
              "    }\n",
              "    if (fitType == \"glmGamPoi\") {\n",
              "        minReplicatesForReplace <- Inf\n",
              "        if (parallel) {\n",
              "            warning(\"parallelization of DESeq() is not implemented for fitType='glmGamPoi'\")\n",
              "        }\n",
              "    }\n",
              "    sfType <- match.arg(sfType, choices = c(\"ratio\", \"poscounts\", \n",
              "        \"iterate\"))\n",
              "    stopifnot(is.logical(quiet))\n",
              "    stopifnot(is.numeric(minReplicatesForReplace))\n",
              "    stopifnot(is.logical(parallel))\n",
              "    modelAsFormula <- !is.matrix(full) & is(design(object), \"formula\")\n",
              "    if (missing(betaPrior)) {\n",
              "        betaPrior <- FALSE\n",
              "    }\n",
              "    else {\n",
              "        stopifnot(is.logical(betaPrior))\n",
              "    }\n",
              "    object <- sanitizeRowRanges(object)\n",
              "    if (test == \"LRT\") {\n",
              "        if (missing(reduced)) {\n",
              "            stop(\"likelihood ratio test requires a 'reduced' design, see ?DESeq\")\n",
              "        }\n",
              "        if (betaPrior) {\n",
              "            stop(\"test='LRT' does not support use of LFC shrinkage, use betaPrior=FALSE\")\n",
              "        }\n",
              "        if (!missing(modelMatrixType) && modelMatrixType == \"expanded\") {\n",
              "            stop(\"test='LRT' does not support use of expanded model matrix\")\n",
              "        }\n",
              "        if (is.matrix(full) | is.matrix(reduced)) {\n",
              "            if (!(is.matrix(full) & is.matrix(reduced))) {\n",
              "                stop(\"if one of 'full' and 'reduced' is a matrix, the other must be also a matrix\")\n",
              "            }\n",
              "        }\n",
              "        if (modelAsFormula) {\n",
              "            checkLRT(full, reduced)\n",
              "        }\n",
              "        else {\n",
              "            checkFullRank(full)\n",
              "            checkFullRank(reduced)\n",
              "            if (ncol(full) <= ncol(reduced)) {\n",
              "                stop(\"the number of columns of 'full' should be more than the number of columns of 'reduced'\")\n",
              "            }\n",
              "        }\n",
              "    }\n",
              "    if (test == \"Wald\" & !missing(reduced)) {\n",
              "        stop(\"'reduced' ignored when test='Wald'\")\n",
              "    }\n",
              "    if (dispersionEstimator == \"glmGamPoi\" && test == \"Wald\") {\n",
              "        warning(\"glmGamPoi dispersion estimator should be used in combination with a LRT and not a Wald test.\", \n",
              "            call. = FALSE)\n",
              "    }\n",
              "    if (fitType != \"glmGamPoi\") {\n",
              "        if (!is.integer(counts(object))) {\n",
              "            stop(\"the count data is not in integer mode and fitType is not 'glmGamPoi'\")\n",
              "        }\n",
              "    }\n",
              "    if (modelAsFormula) {\n",
              "        designAndArgChecker(object, betaPrior)\n",
              "        if (design(object) == formula(~1)) {\n",
              "            warning(\"the design is ~ 1 (just an intercept). is this intended?\")\n",
              "        }\n",
              "        if (full != design(object)) {\n",
              "            stop(\"'full' specified as formula should equal design(object)\")\n",
              "        }\n",
              "        modelMatrix <- NULL\n",
              "    }\n",
              "    else {\n",
              "        if (!quiet) \n",
              "            message(\"using supplied model matrix\")\n",
              "        if (betaPrior == TRUE) {\n",
              "            stop(\"betaPrior=TRUE is not supported for user-provided model matrices\")\n",
              "        }\n",
              "        checkFullRank(full)\n",
              "        modelMatrix <- full\n",
              "    }\n",
              "    attr(object, \"betaPrior\") <- betaPrior\n",
              "    stopifnot(length(parallel) == 1 & is.logical(parallel))\n",
              "    if (!is.null(sizeFactors(object)) || !is.null(normalizationFactors(object))) {\n",
              "        if (!quiet) {\n",
              "            if (!is.null(normalizationFactors(object))) {\n",
              "                message(\"using pre-existing normalization factors\")\n",
              "            }\n",
              "            else {\n",
              "                message(\"using pre-existing size factors\")\n",
              "            }\n",
              "        }\n",
              "    }\n",
              "    else {\n",
              "        if (!quiet) \n",
              "            message(\"estimating size factors\")\n",
              "        object <- estimateSizeFactors(object, type = sfType, \n",
              "            quiet = quiet)\n",
              "    }\n",
              "    if (!parallel) {\n",
              "        if (!quiet) \n",
              "            message(\"estimating dispersions\")\n",
              "        object <- estimateDispersions(object, fitType = fitType, \n",
              "            quiet = quiet, modelMatrix = modelMatrix, minmu = minmu)\n",
              "        if (!quiet) \n",
              "            message(\"fitting model and testing\")\n",
              "        if (test == \"Wald\") {\n",
              "            object <- nbinomWaldTest(object, betaPrior = betaPrior, \n",
              "                quiet = quiet, modelMatrix = modelMatrix, modelMatrixType = modelMatrixType, \n",
              "                useT = useT, minmu = minmu)\n",
              "        }\n",
              "        else if (test == \"LRT\") {\n",
              "            object <- nbinomLRT(object, full = full, reduced = reduced, \n",
              "                quiet = quiet, minmu = minmu, type = dispersionEstimator)\n",
              "        }\n",
              "    }\n",
              "    else if (parallel) {\n",
              "        if (!missing(modelMatrixType)) {\n",
              "            if (betaPrior) \n",
              "                stopifnot(modelMatrixType == \"expanded\")\n",
              "        }\n",
              "        object <- DESeqParallel(object, test = test, fitType = fitType, \n",
              "            betaPrior = betaPrior, full = full, reduced = reduced, \n",
              "            quiet = quiet, modelMatrix = modelMatrix, useT = useT, \n",
              "            minmu = minmu, BPPARAM = BPPARAM)\n",
              "    }\n",
              "    sufficientReps <- any(nOrMoreInCell(attr(object, \"modelMatrix\"), \n",
              "        minReplicatesForReplace))\n",
              "    if (sufficientReps) {\n",
              "        object <- refitWithoutOutliers(object, test = test, betaPrior = betaPrior, \n",
              "            full = full, reduced = reduced, quiet = quiet, minReplicatesForReplace = minReplicatesForReplace, \n",
              "            modelMatrix = modelMatrix, modelMatrixType = modelMatrixType)\n",
              "    }\n",
              "    metadata(object)[[\"version\"]] <- packageVersion(\"DESeq2\")\n",
              "    object\n",
              "}\n",
              "<bytecode: 0x5885378c0430>\n",
              "<environment: namespace:DESeq2>"
            ]
          },
          "metadata": {}
        }
      ]
    },
    {
      "cell_type": "markdown",
      "source": [
        "#check the factor level before setting the factor level"
      ],
      "metadata": {
        "id": "vOL2Zcyb2zZa"
      }
    },
    {
      "cell_type": "code",
      "source": [
        "dds$condition"
      ],
      "metadata": {
        "colab": {
          "base_uri": "https://localhost:8080/",
          "height": 208
        },
        "id": "FA_zC5q6xqXC",
        "outputId": "608d4f48-cb6b-40f5-d522-f494e328dee1"
      },
      "execution_count": 22,
      "outputs": [
        {
          "output_type": "display_data",
          "data": {
            "text/html": [
              "<style>\n",
              ".list-inline {list-style: none; margin:0; padding: 0}\n",
              ".list-inline>li {display: inline-block}\n",
              ".list-inline>li:not(:last-child)::after {content: \"\\00b7\"; padding: 0 .5ex}\n",
              "</style>\n",
              "<ol class=list-inline><li>cancer</li><li>cancer</li><li>cancer</li><li>cancer</li><li>cancer</li><li>cancer</li><li>cancer</li><li>cancer</li><li>cancer</li><li>cancer</li><li>cancer</li><li>cancer</li><li>cancer</li><li>cancer</li><li>cancer</li><li>cancer</li><li>cancer</li><li>cancer</li><li>cancer</li><li>cancer</li><li>cancer</li><li>cancer</li><li>cancer</li><li>cancer</li><li>cancer</li><li>cancer</li><li>cancer</li><li>cancer</li><li>cancer</li><li>cancer</li><li>cancer</li><li>cancer</li><li>cancer</li><li>cancer</li><li>cancer</li><li>cancer</li><li>cancer</li><li>cancer</li><li>cancer</li><li>cancer</li><li>cancer</li><li>cancer</li><li>cancer</li><li>cancer</li><li>cancer</li><li>cancer</li><li>cancer</li><li>cancer</li><li>cancer</li><li>cancer</li><li>cancer</li><li>cancer</li><li>cancer</li><li>cancer</li><li>cancer</li><li>cancer</li><li>cancer</li><li>cancer</li><li>cancer</li><li>cancer</li><li>cancer</li><li>cancer</li><li>cancer</li><li>cancer</li><li>cancer</li><li>cancer</li><li>cancer</li><li>cancer</li><li>cancer</li><li>cancer</li><li>cancer</li><li>cancer</li><li>cancer</li><li>cancer</li><li>cancer</li><li>cancer</li><li>cancer</li><li>cancer</li><li>cancer</li><li>cancer</li><li>cancer</li><li>cancer</li><li>cancer</li><li>cancer</li><li>cancer</li><li>cancer</li><li>cancer</li><li>cancer</li><li>cancer</li><li>cancer</li><li>cancer</li><li>cancer</li><li>cancer</li><li>cancer</li><li>cancer</li><li>cancer</li><li>cancer</li><li>cancer</li><li>cancer</li><li>cancer</li><li>cancer</li><li>cancer</li><li>cancer</li><li>cancer</li><li>cancer</li><li>cancer</li><li>cancer</li><li>cancer</li><li>cancer</li><li>cancer</li><li>cancer</li><li>cancer</li><li>cancer</li><li>cancer</li><li>cancer</li><li>cancer</li><li>cancer</li><li>cancer</li><li>cancer</li><li>cancer</li><li>cancer</li><li>cancer</li><li>cancer</li><li>cancer</li><li>cancer</li><li>cancer</li><li>cancer</li><li>cancer</li><li>cancer</li><li>cancer</li><li>cancer</li><li>cancer</li><li>cancer</li><li>cancer</li><li>cancer</li><li>cancer</li><li>cancer</li><li>cancer</li><li>cancer</li><li>cancer</li><li>cancer</li><li>cancer</li><li>cancer</li><li>cancer</li><li>cancer</li><li>cancer</li><li>cancer</li><li>cancer</li><li>cancer</li><li>cancer</li><li>cancer</li><li>cancer</li><li>cancer</li><li>cancer</li><li>cancer</li><li>cancer</li><li>cancer</li><li>cancer</li><li>cancer</li><li>cancer</li><li>cancer</li><li>cancer</li><li>cancer</li><li>cancer</li><li>normal</li><li>normal</li><li>normal</li><li>normal</li></ol>\n",
              "\n",
              "<details>\n",
              "\t<summary style=display:list-item;cursor:pointer>\n",
              "\t\t<strong>Levels</strong>:\n",
              "\t</summary>\n",
              "\t<style>\n",
              "\t.list-inline {list-style: none; margin:0; padding: 0}\n",
              "\t.list-inline>li {display: inline-block}\n",
              "\t.list-inline>li:not(:last-child)::after {content: \"\\00b7\"; padding: 0 .5ex}\n",
              "\t</style>\n",
              "\t<ol class=list-inline><li>'cancer'</li><li>'normal'</li></ol>\n",
              "</details>"
            ],
            "text/markdown": "1. cancer\n2. cancer\n3. cancer\n4. cancer\n5. cancer\n6. cancer\n7. cancer\n8. cancer\n9. cancer\n10. cancer\n11. cancer\n12. cancer\n13. cancer\n14. cancer\n15. cancer\n16. cancer\n17. cancer\n18. cancer\n19. cancer\n20. cancer\n21. cancer\n22. cancer\n23. cancer\n24. cancer\n25. cancer\n26. cancer\n27. cancer\n28. cancer\n29. cancer\n30. cancer\n31. cancer\n32. cancer\n33. cancer\n34. cancer\n35. cancer\n36. cancer\n37. cancer\n38. cancer\n39. cancer\n40. cancer\n41. cancer\n42. cancer\n43. cancer\n44. cancer\n45. cancer\n46. cancer\n47. cancer\n48. cancer\n49. cancer\n50. cancer\n51. cancer\n52. cancer\n53. cancer\n54. cancer\n55. cancer\n56. cancer\n57. cancer\n58. cancer\n59. cancer\n60. cancer\n61. cancer\n62. cancer\n63. cancer\n64. cancer\n65. cancer\n66. cancer\n67. cancer\n68. cancer\n69. cancer\n70. cancer\n71. cancer\n72. cancer\n73. cancer\n74. cancer\n75. cancer\n76. cancer\n77. cancer\n78. cancer\n79. cancer\n80. cancer\n81. cancer\n82. cancer\n83. cancer\n84. cancer\n85. cancer\n86. cancer\n87. cancer\n88. cancer\n89. cancer\n90. cancer\n91. cancer\n92. cancer\n93. cancer\n94. cancer\n95. cancer\n96. cancer\n97. cancer\n98. cancer\n99. cancer\n100. cancer\n101. cancer\n102. cancer\n103. cancer\n104. cancer\n105. cancer\n106. cancer\n107. cancer\n108. cancer\n109. cancer\n110. cancer\n111. cancer\n112. cancer\n113. cancer\n114. cancer\n115. cancer\n116. cancer\n117. cancer\n118. cancer\n119. cancer\n120. cancer\n121. cancer\n122. cancer\n123. cancer\n124. cancer\n125. cancer\n126. cancer\n127. cancer\n128. cancer\n129. cancer\n130. cancer\n131. cancer\n132. cancer\n133. cancer\n134. cancer\n135. cancer\n136. cancer\n137. cancer\n138. cancer\n139. cancer\n140. cancer\n141. cancer\n142. cancer\n143. cancer\n144. cancer\n145. cancer\n146. cancer\n147. cancer\n148. cancer\n149. cancer\n150. cancer\n151. cancer\n152. cancer\n153. cancer\n154. cancer\n155. cancer\n156. cancer\n157. cancer\n158. cancer\n159. cancer\n160. cancer\n161. cancer\n162. cancer\n163. cancer\n164. cancer\n165. normal\n166. normal\n167. normal\n168. normal\n\n\n\n**Levels**: 1. 'cancer'\n2. 'normal'\n\n\n",
            "text/latex": "\\begin{enumerate*}\n\\item cancer\n\\item cancer\n\\item cancer\n\\item cancer\n\\item cancer\n\\item cancer\n\\item cancer\n\\item cancer\n\\item cancer\n\\item cancer\n\\item cancer\n\\item cancer\n\\item cancer\n\\item cancer\n\\item cancer\n\\item cancer\n\\item cancer\n\\item cancer\n\\item cancer\n\\item cancer\n\\item cancer\n\\item cancer\n\\item cancer\n\\item cancer\n\\item cancer\n\\item cancer\n\\item cancer\n\\item cancer\n\\item cancer\n\\item cancer\n\\item cancer\n\\item cancer\n\\item cancer\n\\item cancer\n\\item cancer\n\\item cancer\n\\item cancer\n\\item cancer\n\\item cancer\n\\item cancer\n\\item cancer\n\\item cancer\n\\item cancer\n\\item cancer\n\\item cancer\n\\item cancer\n\\item cancer\n\\item cancer\n\\item cancer\n\\item cancer\n\\item cancer\n\\item cancer\n\\item cancer\n\\item cancer\n\\item cancer\n\\item cancer\n\\item cancer\n\\item cancer\n\\item cancer\n\\item cancer\n\\item cancer\n\\item cancer\n\\item cancer\n\\item cancer\n\\item cancer\n\\item cancer\n\\item cancer\n\\item cancer\n\\item cancer\n\\item cancer\n\\item cancer\n\\item cancer\n\\item cancer\n\\item cancer\n\\item cancer\n\\item cancer\n\\item cancer\n\\item cancer\n\\item cancer\n\\item cancer\n\\item cancer\n\\item cancer\n\\item cancer\n\\item cancer\n\\item cancer\n\\item cancer\n\\item cancer\n\\item cancer\n\\item cancer\n\\item cancer\n\\item cancer\n\\item cancer\n\\item cancer\n\\item cancer\n\\item cancer\n\\item cancer\n\\item cancer\n\\item cancer\n\\item cancer\n\\item cancer\n\\item cancer\n\\item cancer\n\\item cancer\n\\item cancer\n\\item cancer\n\\item cancer\n\\item cancer\n\\item cancer\n\\item cancer\n\\item cancer\n\\item cancer\n\\item cancer\n\\item cancer\n\\item cancer\n\\item cancer\n\\item cancer\n\\item cancer\n\\item cancer\n\\item cancer\n\\item cancer\n\\item cancer\n\\item cancer\n\\item cancer\n\\item cancer\n\\item cancer\n\\item cancer\n\\item cancer\n\\item cancer\n\\item cancer\n\\item cancer\n\\item cancer\n\\item cancer\n\\item cancer\n\\item cancer\n\\item cancer\n\\item cancer\n\\item cancer\n\\item cancer\n\\item cancer\n\\item cancer\n\\item cancer\n\\item cancer\n\\item cancer\n\\item cancer\n\\item cancer\n\\item cancer\n\\item cancer\n\\item cancer\n\\item cancer\n\\item cancer\n\\item cancer\n\\item cancer\n\\item cancer\n\\item cancer\n\\item cancer\n\\item cancer\n\\item cancer\n\\item cancer\n\\item cancer\n\\item cancer\n\\item cancer\n\\item cancer\n\\item cancer\n\\item cancer\n\\item normal\n\\item normal\n\\item normal\n\\item normal\n\\end{enumerate*}\n\n\\emph{Levels}: \\begin{enumerate*}\n\\item 'cancer'\n\\item 'normal'\n\\end{enumerate*}\n",
            "text/plain": [
              "  [1] cancer cancer cancer cancer cancer cancer cancer cancer cancer cancer\n",
              " [11] cancer cancer cancer cancer cancer cancer cancer cancer cancer cancer\n",
              " [21] cancer cancer cancer cancer cancer cancer cancer cancer cancer cancer\n",
              " [31] cancer cancer cancer cancer cancer cancer cancer cancer cancer cancer\n",
              " [41] cancer cancer cancer cancer cancer cancer cancer cancer cancer cancer\n",
              " [51] cancer cancer cancer cancer cancer cancer cancer cancer cancer cancer\n",
              " [61] cancer cancer cancer cancer cancer cancer cancer cancer cancer cancer\n",
              " [71] cancer cancer cancer cancer cancer cancer cancer cancer cancer cancer\n",
              " [81] cancer cancer cancer cancer cancer cancer cancer cancer cancer cancer\n",
              " [91] cancer cancer cancer cancer cancer cancer cancer cancer cancer cancer\n",
              "[101] cancer cancer cancer cancer cancer cancer cancer cancer cancer cancer\n",
              "[111] cancer cancer cancer cancer cancer cancer cancer cancer cancer cancer\n",
              "[121] cancer cancer cancer cancer cancer cancer cancer cancer cancer cancer\n",
              "[131] cancer cancer cancer cancer cancer cancer cancer cancer cancer cancer\n",
              "[141] cancer cancer cancer cancer cancer cancer cancer cancer cancer cancer\n",
              "[151] cancer cancer cancer cancer cancer cancer cancer cancer cancer cancer\n",
              "[161] cancer cancer cancer cancer normal normal normal normal\n",
              "Levels: cancer normal"
            ]
          },
          "metadata": {}
        }
      ]
    },
    {
      "cell_type": "markdown",
      "source": [
        "#set the factor level"
      ],
      "metadata": {
        "id": "wP6tMrze22xz"
      }
    },
    {
      "cell_type": "code",
      "source": [
        "dds$condition <- relevel(dds$condition, ref = \"normal\")"
      ],
      "metadata": {
        "id": "M_aKZPx4xqUP"
      },
      "execution_count": 23,
      "outputs": []
    },
    {
      "cell_type": "markdown",
      "source": [
        "#filtration (optional step)\n",
        "\n",
        "#filter those rows with atleast 10 reads in total"
      ],
      "metadata": {
        "id": "TVvyzGsy257a"
      }
    },
    {
      "cell_type": "code",
      "source": [
        "filtered_count <- rowSums(counts(dds)) >=10"
      ],
      "metadata": {
        "id": "D8fLBSxcxqR0"
      },
      "execution_count": 24,
      "outputs": []
    },
    {
      "cell_type": "code",
      "source": [
        "dds <- dds[filtered_count,]"
      ],
      "metadata": {
        "id": "UdlXdjlTxqPU"
      },
      "execution_count": 25,
      "outputs": []
    },
    {
      "cell_type": "markdown",
      "source": [
        "# Run DESeq"
      ],
      "metadata": {
        "id": "CNgPH7se29KK"
      }
    },
    {
      "cell_type": "code",
      "source": [
        "dds <- DESeq(dds)"
      ],
      "metadata": {
        "colab": {
          "base_uri": "https://localhost:8080/"
        },
        "id": "XO9EVACMyXjR",
        "outputId": "f6322bf8-3b10-4876-f849-59615dfa20b2"
      },
      "execution_count": 26,
      "outputs": [
        {
          "output_type": "stream",
          "name": "stderr",
          "text": [
            "estimating size factors\n",
            "\n",
            "estimating dispersions\n",
            "\n",
            "gene-wise dispersion estimates\n",
            "\n",
            "mean-dispersion relationship\n",
            "\n",
            "final dispersion estimates\n",
            "\n",
            "fitting model and testing\n",
            "\n",
            "-- replacing outliers and refitting for 9198 genes\n",
            "-- DESeq argument 'minReplicatesForReplace' = 7 \n",
            "-- original counts are preserved in counts(dds)\n",
            "\n",
            "estimating dispersions\n",
            "\n",
            "fitting model and testing\n",
            "\n"
          ]
        }
      ]
    },
    {
      "cell_type": "code",
      "source": [
        "res1 <- results(dds)"
      ],
      "metadata": {
        "id": "3v1o0PHeyXf_"
      },
      "execution_count": 27,
      "outputs": []
    },
    {
      "cell_type": "code",
      "source": [
        "summary(res1)"
      ],
      "metadata": {
        "colab": {
          "base_uri": "https://localhost:8080/"
        },
        "id": "-nGlcneVyXWw",
        "outputId": "41bf877e-dd74-4612-b1b8-692693995f9b"
      },
      "execution_count": 28,
      "outputs": [
        {
          "output_type": "stream",
          "name": "stdout",
          "text": [
            "\n",
            "out of 48834 with nonzero total read count\n",
            "adjusted p-value < 0.1\n",
            "LFC > 0 (up)       : 557, 1.1%\n",
            "LFC < 0 (down)     : 462, 0.95%\n",
            "outliers [1]       : 952, 1.9%\n",
            "low counts [2]     : 20170, 41%\n",
            "(mean count < 2)\n",
            "[1] see 'cooksCutoff' argument of ?results\n",
            "[2] see 'independentFiltering' argument of ?results\n",
            "\n"
          ]
        }
      ]
    },
    {
      "cell_type": "code",
      "source": [
        "res1"
      ],
      "metadata": {
        "colab": {
          "base_uri": "https://localhost:8080/",
          "height": 520
        },
        "id": "c72vdDvEyXTZ",
        "outputId": "64d8516b-7dce-422c-adfb-4f034271f7e9"
      },
      "execution_count": 29,
      "outputs": [
        {
          "output_type": "display_data",
          "data": {
            "text/plain": [
              "log2 fold change (MLE): condition cancer vs normal \n",
              "Wald test p-value: condition cancer vs normal \n",
              "DataFrame with 49302 rows and 6 columns\n",
              "                     baseMean log2FoldChange     lfcSE       stat    pvalue\n",
              "                    <numeric>      <numeric> <numeric>  <numeric> <numeric>\n",
              "ENSG00000000003.15  1742.3701      -0.205590  0.384022  -0.535359  0.592401\n",
              "ENSG00000000005.6     12.8084      -2.990985  1.424111  -2.100247        NA\n",
              "ENSG00000000419.13  1405.9788       0.281960  0.193339   1.458370  0.144739\n",
              "ENSG00000000457.14   704.7464       0.195766  0.236442   0.827965  0.407690\n",
              "ENSG00000000460.17   216.2253       0.294579  0.280651   1.049629  0.293889\n",
              "...                       ...            ...       ...        ...       ...\n",
              "ENSG00000288667.1    0.192568      -0.220166  2.412688 -0.0912536 0.9272911\n",
              "ENSG00000288669.1    0.152611       0.484468  2.510646  0.1929655 0.8469860\n",
              "ENSG00000288670.1  217.123643       0.602808  0.301854  1.9970173 0.0458233\n",
              "ENSG00000288674.1    5.738316      -0.293460  0.524084 -0.5599477 0.5755151\n",
              "ENSG00000288675.1   31.178805       0.508419  0.478135  1.0633384 0.2876285\n",
              "                        padj\n",
              "                   <numeric>\n",
              "ENSG00000000003.15  0.865418\n",
              "ENSG00000000005.6         NA\n",
              "ENSG00000000419.13  0.538945\n",
              "ENSG00000000457.14  0.768032\n",
              "ENSG00000000460.17  0.690894\n",
              "...                      ...\n",
              "ENSG00000288667.1         NA\n",
              "ENSG00000288669.1         NA\n",
              "ENSG00000288670.1   0.333325\n",
              "ENSG00000288674.1   0.856691\n",
              "ENSG00000288675.1   0.685367"
            ]
          },
          "metadata": {}
        }
      ]
    },
    {
      "cell_type": "markdown",
      "source": [
        "#contrast argument\n",
        "\n",
        "#for multiple group comparsion (when you have more than 2 condition)\n",
        "#results(dds, contrast = (\"normal\",  \"condition1\", \"condition2\"))\n"
      ],
      "metadata": {
        "id": "TI4Xavdr3HmE"
      }
    },
    {
      "cell_type": "code",
      "source": [
        "resultsNames(dds)"
      ],
      "metadata": {
        "colab": {
          "base_uri": "https://localhost:8080/",
          "height": 34
        },
        "id": "KMRPdrT0yXRD",
        "outputId": "0d85c3e2-b954-4d9d-9dce-386407285199"
      },
      "execution_count": 30,
      "outputs": [
        {
          "output_type": "display_data",
          "data": {
            "text/html": [
              "<style>\n",
              ".list-inline {list-style: none; margin:0; padding: 0}\n",
              ".list-inline>li {display: inline-block}\n",
              ".list-inline>li:not(:last-child)::after {content: \"\\00b7\"; padding: 0 .5ex}\n",
              "</style>\n",
              "<ol class=list-inline><li>'Intercept'</li><li>'condition_cancer_vs_normal'</li></ol>\n"
            ],
            "text/markdown": "1. 'Intercept'\n2. 'condition_cancer_vs_normal'\n\n\n",
            "text/latex": "\\begin{enumerate*}\n\\item 'Intercept'\n\\item 'condition\\_cancer\\_vs\\_normal'\n\\end{enumerate*}\n",
            "text/plain": [
              "[1] \"Intercept\"                  \"condition_cancer_vs_normal\""
            ]
          },
          "metadata": {}
        }
      ]
    },
    {
      "cell_type": "markdown",
      "source": [
        "#keeping only significant results, padj<0.05 and log2FoldChange >1\n",
        "\n",
        "#you can change cut off according to your study plan (1.5 or 2 in most cases)"
      ],
      "metadata": {
        "id": "1Yd3Uru_3aC7"
      }
    },
    {
      "cell_type": "code",
      "source": [
        "resSigUp <- subset(res1, padj < 0.05 & log2FoldChange >1)"
      ],
      "metadata": {
        "id": "a6H171_SyXOT"
      },
      "execution_count": 31,
      "outputs": []
    },
    {
      "cell_type": "markdown",
      "source": [
        "#you can change cut off according to your study plan"
      ],
      "metadata": {
        "id": "dl3HYGpG4H61"
      }
    },
    {
      "cell_type": "code",
      "source": [
        "resSigDown <- subset(res1, padj < 0.05 & log2FoldChange < 1)"
      ],
      "metadata": {
        "id": "80uM0BzDyXLi"
      },
      "execution_count": 32,
      "outputs": []
    },
    {
      "cell_type": "markdown",
      "source": [
        "#write files separately for upregulated and downregulated genes"
      ],
      "metadata": {
        "id": "vA07bH3p4LJV"
      }
    },
    {
      "cell_type": "code",
      "source": [
        "write.csv(resSigUp, \"Upregulated_genes.csv\")"
      ],
      "metadata": {
        "id": "j9TAByNJyXI5"
      },
      "execution_count": 33,
      "outputs": []
    },
    {
      "cell_type": "code",
      "source": [
        "write.csv(resSigDown, \"Downregulated_genes.csv\")"
      ],
      "metadata": {
        "id": "0kYeOgHmzanH"
      },
      "execution_count": 34,
      "outputs": []
    },
    {
      "cell_type": "markdown",
      "source": [
        "# Upregulated genes and Downregulated genes in one file with padj<0.05"
      ],
      "metadata": {
        "id": "psuotL0F4Sht"
      }
    },
    {
      "cell_type": "code",
      "source": [
        "resSig <- subset(res1, log2FoldChange >1 & padj <0.05 | log2FoldChange < -1 & padj < 0.05)"
      ],
      "metadata": {
        "id": "Ed5Qj15Czajz"
      },
      "execution_count": 35,
      "outputs": []
    },
    {
      "cell_type": "code",
      "source": [
        "write.csv(resSig, \"All_Diff_exp.csv\")"
      ],
      "metadata": {
        "id": "n00HhtsszahK"
      },
      "execution_count": 36,
      "outputs": []
    },
    {
      "cell_type": "markdown",
      "source": [
        "#Visualization"
      ],
      "metadata": {
        "id": "mJGPDhJZ4ZLQ"
      }
    },
    {
      "cell_type": "markdown",
      "source": [
        "#1. MA PLOT\n",
        "\n",
        "M (log Mean) vs A (log Average) plot\n",
        "\n",
        "**Purpose**:\n",
        "\n",
        "MA plots are used in gene expression analysis to visualize differences between two conditions (in our case it's normal vs cancer) by plotting the log fold change (M) against the average expression (A)."
      ],
      "metadata": {
        "id": "8bUF27Xl4aSi"
      }
    },
    {
      "cell_type": "code",
      "source": [
        "plotMA(res1)"
      ],
      "metadata": {
        "colab": {
          "base_uri": "https://localhost:8080/",
          "height": 437
        },
        "id": "7PIKYG7izaeU",
        "outputId": "b52351f6-fdd8-4e26-8cf9-e4dcae0e8a1c"
      },
      "execution_count": 37,
      "outputs": [
        {
          "output_type": "display_data",
          "data": {
            "text/plain": [
              "Plot with title “”"
            ],
            "image/png": "[encoded data removed]"
          },
          "metadata": {
            "image/png": {
              "width": 420,
              "height": 420
            }
          }
        }
      ]
    },
    {
      "cell_type": "markdown",
      "source": [
        "**Interpretation**:\n",
        "\n",
        "The **x-axis** (A) represents the mean\n",
        "expression level (log scale).\n",
        "\n",
        "The **y-axis** (M) represents the log2 fold change (log2FC) between conditions.\n",
        "\n",
        "Helps **detect** systematic biases and expression **variations**.\n",
        "\n",
        "Points around **zero** indicate **no change**, while **deviations** indicate **upregulated** or **downregulated** genes."
      ],
      "metadata": {
        "id": "_QlsJGiN7BNr"
      }
    },
    {
      "cell_type": "markdown",
      "source": [
        "#2. Volcano plot\n",
        "\n",
        "**Purpose**:\n",
        "\n",
        "Used in differential gene expression analysis to **highlight genes** with both statistical significance and large fold changes."
      ],
      "metadata": {
        "id": "Zq5U7p1M5j5D"
      }
    },
    {
      "cell_type": "markdown",
      "source": [
        "#install the package EnhancedVolcano"
      ],
      "metadata": {
        "id": "7W-9bx9O6YET"
      }
    },
    {
      "cell_type": "code",
      "source": [
        "if (!require(\"BiocManager\", quietly = TRUE))\n",
        "    install.packages(\"BiocManager\")\n",
        "BiocManager::install(\"EnhancedVolcano\")"
      ],
      "metadata": {
        "colab": {
          "base_uri": "https://localhost:8080/"
        },
        "id": "1eLEMGJpzabk",
        "outputId": "02ef998c-aeda-4ee0-cc68-701ba54b5c9b"
      },
      "execution_count": 38,
      "outputs": [
        {
          "output_type": "stream",
          "name": "stderr",
          "text": [
            "'getOption(\"repos\")' replaces Bioconductor standard repositories, see\n",
            "'help(\"repositories\", package = \"BiocManager\")' for details.\n",
            "Replacement repositories:\n",
            "    CRAN: https://cran.rstudio.com\n",
            "\n",
            "Bioconductor version 3.20 (BiocManager 1.30.25), R 4.4.2 (2024-10-31)\n",
            "\n",
            "Installing package(s) 'EnhancedVolcano'\n",
            "\n",
            "also installing the dependency ‘ggrepel’\n",
            "\n",
            "\n",
            "Old packages: 'data.table', 'processx'\n",
            "\n"
          ]
        }
      ]
    },
    {
      "cell_type": "markdown",
      "source": [
        "#load the library EnhancedVolcano"
      ],
      "metadata": {
        "id": "3-FaNplj6d4g"
      }
    },
    {
      "cell_type": "code",
      "source": [
        "library(EnhancedVolcano)"
      ],
      "metadata": {
        "colab": {
          "base_uri": "https://localhost:8080/"
        },
        "id": "lOwwxfodzoUm",
        "outputId": "7fc10c8a-5d0d-4471-a29d-0e6ea4bc4dc8"
      },
      "execution_count": 39,
      "outputs": [
        {
          "output_type": "stream",
          "name": "stderr",
          "text": [
            "Loading required package: ggplot2\n",
            "\n",
            "Loading required package: ggrepel\n",
            "\n"
          ]
        }
      ]
    },
    {
      "cell_type": "code",
      "source": [
        "EnhancedVolcano(res1,\n",
        "                lab = \"\",\n",
        "                x = 'log2FoldChange',\n",
        "                y = 'pvalue',\n",
        "                selectLab = \"NULL\",\n",
        "                title = NULL,\n",
        "                cutoffLineType = 'twodash',\n",
        "                cutoffLineWidth = 0.8,\n",
        "                xlim = c(-8,8),\n",
        "                xlab = bquote(~Log[2]~ 'fold change'),\n",
        "                ylim = c(0,12),\n",
        "                ylab = bquote(~-Log[10]~italic(P)),\n",
        "                pCutoff = 0.05,\n",
        "                FCcutoff = 2.0,\n",
        "                #transcriptPointSize = 0.5,\n",
        "                #transcriptLabSize = 4.0,\n",
        "                colAlpha = 1,\n",
        "                shape = 19,\n",
        "                subtitle = NULL,\n",
        "                legendPosition = 'top',\n",
        "                legendLabSize = 12,\n",
        "                legendIconSize = 4.0,\n",
        "                gridlines.major = FALSE,\n",
        "                gridlines.minor = FALSE,\n",
        "                drawConnectors = FALSE,\n",
        "                widthConnectors = 0.2,\n",
        "                colConnectors = 'grey50',\n",
        "                border = 'full' )"
      ],
      "metadata": {
        "colab": {
          "base_uri": "https://localhost:8080/",
          "height": 437
        },
        "id": "x47tUT2qzoRN",
        "outputId": "a91a8278-f75d-4b63-bb23-63791b04f472"
      },
      "execution_count": 40,
      "outputs": [
        {
          "output_type": "display_data",
          "data": {
            "text/plain": [
              "plot without title"
            ],
            "image/png": "[encoded data removed]"
          },
          "metadata": {
            "image/png": {
              "width": 420,
              "height": 420
            }
          }
        }
      ]
    },
    {
      "cell_type": "markdown",
      "source": [
        "**Interpretation**:\n",
        "\n",
        "The **x-axis** represents log2 fold change (**log2FC**).\n",
        "\n",
        "The **y-axis** represents -log10(**p-value**) (statistical significance).\n",
        "\n",
        "Genes significantly **upregulated** appear on the **right**.\n",
        "\n",
        "Genes significantly **downregulated** appear on the **left**.\n",
        "\n",
        "**Highly significant** genes (low p-values) appear at the **top**.\n",
        "\n",
        "It helps in selecting biologically relevant genes for further study."
      ],
      "metadata": {
        "id": "v27yL0Zh68iy"
      }
    },
    {
      "cell_type": "markdown",
      "source": [
        "#normalizing the gene expression data"
      ],
      "metadata": {
        "id": "bpz8dqOb6lzG"
      }
    },
    {
      "cell_type": "code",
      "source": [
        "norm_counts <- counts(dds, normalized = TRUE) #normalized data"
      ],
      "metadata": {
        "id": "fsVm0JTdzoOt"
      },
      "execution_count": 41,
      "outputs": []
    },
    {
      "cell_type": "code",
      "source": [
        "head(norm_counts)"
      ],
      "metadata": {
        "colab": {
          "base_uri": "https://localhost:8080/",
          "height": 292
        },
        "id": "6gWWreYkzoL5",
        "outputId": "48644ae3-4dfb-45ac-c78e-bfab3ec4a06a"
      },
      "execution_count": 42,
      "outputs": [
        {
          "output_type": "display_data",
          "data": {
            "text/html": [
              "<table class=\"dataframe\">\n",
              "<caption>A matrix: 6 × 168 of type dbl</caption>\n",
              "<thead>\n",
              "\t<tr><th></th><th scope=col>TCGA-FB-AAPY-01A</th><th scope=col>TCGA-IB-A7LX-01A</th><th scope=col>TCGA-XN-A8T5-01A</th><th scope=col>TCGA-HZ-A77O-01A</th><th scope=col>TCGA-FB-AAPQ-01A</th><th scope=col>TCGA-3A-A9IL-01A</th><th scope=col>TCGA-FB-AAPS-01A</th><th scope=col>TCGA-IB-A7M4-01A</th><th scope=col>TCGA-IB-8126-01A</th><th scope=col>TCGA-FB-AAPP-01A</th><th scope=col>⋯</th><th scope=col>TCGA-FB-A78T-01A</th><th scope=col>TCGA-HZ-7919-01A</th><th scope=col>TCGA-IB-AAUP-01A</th><th scope=col>TCGA-2J-AABI-01A</th><th scope=col>TCGA-3A-A9IV-01A</th><th scope=col>TCGA-YY-A8LH-01A</th><th scope=col>TCGA-HV-A5A3-11A</th><th scope=col>TCGA-H6-A45N-11A</th><th scope=col>TCGA-YB-A89D-11A</th><th scope=col>TCGA-H6-8124-11A</th></tr>\n",
              "</thead>\n",
              "<tbody>\n",
              "\t<tr><th scope=row>ENSG00000000003.15</th><td>1461.201455</td><td>2959.6249</td><td>1432.551062</td><td>1819.118350</td><td>1113.3305</td><td>774.591947</td><td>1488.72121</td><td>2095.6024</td><td>2077.58619</td><td>1865.248026</td><td>⋯</td><td>1226.0350110</td><td>1388.8903</td><td>1057.359357</td><td>1602.9926</td><td> 192.329878</td><td>1695.2504</td><td>3325.171885</td><td> 406.607576</td><td>1637.2640</td><td>2637.942801</td></tr>\n",
              "\t<tr><th scope=row>ENSG00000000005.6</th><td>   3.084873</td><td>   0.0000</td><td>   2.279318</td><td>   1.147709</td><td>   0.0000</td><td>  1.004659</td><td>  68.41783</td><td>   0.0000</td><td>  56.31289</td><td>   3.132238</td><td>⋯</td><td>   0.8039574</td><td>   0.0000</td><td>   3.206548</td><td>   0.0000</td><td>   2.434555</td><td>   0.0000</td><td>   1.075411</td><td>   5.509588</td><td> 340.1974</td><td>   2.822839</td></tr>\n",
              "\t<tr><th scope=row>ENSG00000000419.13</th><td> 950.140848</td><td>1538.7172</td><td>1361.892219</td><td>1628.598700</td><td>1904.5401</td><td>777.605923</td><td>1111.15617</td><td>2478.8042</td><td>1513.25914</td><td>2197.265306</td><td>⋯</td><td>1061.2237472</td><td>1496.7501</td><td>1111.069044</td><td>1581.6488</td><td>1289.097092</td><td>1385.0027</td><td>1174.349191</td><td>1127.261654</td><td>1262.1219</td><td>1081.147237</td></tr>\n",
              "\t<tr><th scope=row>ENSG00000000457.14</th><td> 710.549054</td><td>1046.7953</td><td> 455.863504</td><td> 618.615010</td><td>1218.0198</td><td>466.161690</td><td> 470.05580</td><td> 500.1463</td><td> 637.41399</td><td> 953.766623</td><td>⋯</td><td> 845.7631683</td><td> 801.1326</td><td> 601.227838</td><td> 604.2502</td><td> 377.356089</td><td> 690.7234</td><td> 656.000922</td><td> 777.953791</td><td> 357.6697</td><td> 676.775588</td></tr>\n",
              "\t<tr><th scope=row>ENSG00000000460.17</th><td> 141.904153</td><td> 410.9841</td><td> 128.781440</td><td> 266.268427</td><td> 173.1400</td><td> 78.363388</td><td> 134.30166</td><td> 215.0942</td><td> 148.57018</td><td> 244.314603</td><td>⋯</td><td> 186.5181132</td><td> 257.1440</td><td> 255.722240</td><td> 284.8293</td><td> 122.945048</td><td> 199.1275</td><td> 159.160879</td><td> 242.421861</td><td> 135.6678</td><td> 171.487453</td></tr>\n",
              "\t<tr><th scope=row>ENSG00000000938.13</th><td>1518.785749</td><td> 187.9555</td><td> 944.777112</td><td> 603.694796</td><td> 308.0282</td><td>312.448892</td><td> 974.32052</td><td> 542.9563</td><td> 554.74187</td><td>  84.570439</td><td>⋯</td><td>1566.9129420</td><td> 467.3925</td><td>1008.459493</td><td> 599.8342</td><td> 127.814159</td><td> 144.0118</td><td>1346.415006</td><td>6343.739337</td><td>5155.3774</td><td>1443.882015</td></tr>\n",
              "</tbody>\n",
              "</table>\n"
            ],
            "text/markdown": "\nA matrix: 6 × 168 of type dbl\n\n| <!--/--> | TCGA-FB-AAPY-01A | TCGA-IB-A7LX-01A | TCGA-XN-A8T5-01A | TCGA-HZ-A77O-01A | TCGA-FB-AAPQ-01A | TCGA-3A-A9IL-01A | TCGA-FB-AAPS-01A | TCGA-IB-A7M4-01A | TCGA-IB-8126-01A | TCGA-FB-AAPP-01A | ⋯ | TCGA-FB-A78T-01A | TCGA-HZ-7919-01A | TCGA-IB-AAUP-01A | TCGA-2J-AABI-01A | TCGA-3A-A9IV-01A | TCGA-YY-A8LH-01A | TCGA-HV-A5A3-11A | TCGA-H6-A45N-11A | TCGA-YB-A89D-11A | TCGA-H6-8124-11A |\n|---|---|---|---|---|---|---|---|---|---|---|---|---|---|---|---|---|---|---|---|---|---|\n| ENSG00000000003.15 | 1461.201455 | 2959.6249 | 1432.551062 | 1819.118350 | 1113.3305 | 774.591947 | 1488.72121 | 2095.6024 | 2077.58619 | 1865.248026 | ⋯ | 1226.0350110 | 1388.8903 | 1057.359357 | 1602.9926 |  192.329878 | 1695.2504 | 3325.171885 |  406.607576 | 1637.2640 | 2637.942801 |\n| ENSG00000000005.6 |    3.084873 |    0.0000 |    2.279318 |    1.147709 |    0.0000 |   1.004659 |   68.41783 |    0.0000 |   56.31289 |    3.132238 | ⋯ |    0.8039574 |    0.0000 |    3.206548 |    0.0000 |    2.434555 |    0.0000 |    1.075411 |    5.509588 |  340.1974 |    2.822839 |\n| ENSG00000000419.13 |  950.140848 | 1538.7172 | 1361.892219 | 1628.598700 | 1904.5401 | 777.605923 | 1111.15617 | 2478.8042 | 1513.25914 | 2197.265306 | ⋯ | 1061.2237472 | 1496.7501 | 1111.069044 | 1581.6488 | 1289.097092 | 1385.0027 | 1174.349191 | 1127.261654 | 1262.1219 | 1081.147237 |\n| ENSG00000000457.14 |  710.549054 | 1046.7953 |  455.863504 |  618.615010 | 1218.0198 | 466.161690 |  470.05580 |  500.1463 |  637.41399 |  953.766623 | ⋯ |  845.7631683 |  801.1326 |  601.227838 |  604.2502 |  377.356089 |  690.7234 |  656.000922 |  777.953791 |  357.6697 |  676.775588 |\n| ENSG00000000460.17 |  141.904153 |  410.9841 |  128.781440 |  266.268427 |  173.1400 |  78.363388 |  134.30166 |  215.0942 |  148.57018 |  244.314603 | ⋯ |  186.5181132 |  257.1440 |  255.722240 |  284.8293 |  122.945048 |  199.1275 |  159.160879 |  242.421861 |  135.6678 |  171.487453 |\n| ENSG00000000938.13 | 1518.785749 |  187.9555 |  944.777112 |  603.694796 |  308.0282 | 312.448892 |  974.32052 |  542.9563 |  554.74187 |   84.570439 | ⋯ | 1566.9129420 |  467.3925 | 1008.459493 |  599.8342 |  127.814159 |  144.0118 | 1346.415006 | 6343.739337 | 5155.3774 | 1443.882015 |\n\n",
            "text/latex": "A matrix: 6 × 168 of type dbl\n\\begin{tabular}{r|lllllllllllllllllllll}\n  & TCGA-FB-AAPY-01A & TCGA-IB-A7LX-01A & TCGA-XN-A8T5-01A & TCGA-HZ-A77O-01A & TCGA-FB-AAPQ-01A & TCGA-3A-A9IL-01A & TCGA-FB-AAPS-01A & TCGA-IB-A7M4-01A & TCGA-IB-8126-01A & TCGA-FB-AAPP-01A & ⋯ & TCGA-FB-A78T-01A & TCGA-HZ-7919-01A & TCGA-IB-AAUP-01A & TCGA-2J-AABI-01A & TCGA-3A-A9IV-01A & TCGA-YY-A8LH-01A & TCGA-HV-A5A3-11A & TCGA-H6-A45N-11A & TCGA-YB-A89D-11A & TCGA-H6-8124-11A\\\\\n\\hline\n\tENSG00000000003.15 & 1461.201455 & 2959.6249 & 1432.551062 & 1819.118350 & 1113.3305 & 774.591947 & 1488.72121 & 2095.6024 & 2077.58619 & 1865.248026 & ⋯ & 1226.0350110 & 1388.8903 & 1057.359357 & 1602.9926 &  192.329878 & 1695.2504 & 3325.171885 &  406.607576 & 1637.2640 & 2637.942801\\\\\n\tENSG00000000005.6 &    3.084873 &    0.0000 &    2.279318 &    1.147709 &    0.0000 &   1.004659 &   68.41783 &    0.0000 &   56.31289 &    3.132238 & ⋯ &    0.8039574 &    0.0000 &    3.206548 &    0.0000 &    2.434555 &    0.0000 &    1.075411 &    5.509588 &  340.1974 &    2.822839\\\\\n\tENSG00000000419.13 &  950.140848 & 1538.7172 & 1361.892219 & 1628.598700 & 1904.5401 & 777.605923 & 1111.15617 & 2478.8042 & 1513.25914 & 2197.265306 & ⋯ & 1061.2237472 & 1496.7501 & 1111.069044 & 1581.6488 & 1289.097092 & 1385.0027 & 1174.349191 & 1127.261654 & 1262.1219 & 1081.147237\\\\\n\tENSG00000000457.14 &  710.549054 & 1046.7953 &  455.863504 &  618.615010 & 1218.0198 & 466.161690 &  470.05580 &  500.1463 &  637.41399 &  953.766623 & ⋯ &  845.7631683 &  801.1326 &  601.227838 &  604.2502 &  377.356089 &  690.7234 &  656.000922 &  777.953791 &  357.6697 &  676.775588\\\\\n\tENSG00000000460.17 &  141.904153 &  410.9841 &  128.781440 &  266.268427 &  173.1400 &  78.363388 &  134.30166 &  215.0942 &  148.57018 &  244.314603 & ⋯ &  186.5181132 &  257.1440 &  255.722240 &  284.8293 &  122.945048 &  199.1275 &  159.160879 &  242.421861 &  135.6678 &  171.487453\\\\\n\tENSG00000000938.13 & 1518.785749 &  187.9555 &  944.777112 &  603.694796 &  308.0282 & 312.448892 &  974.32052 &  542.9563 &  554.74187 &   84.570439 & ⋯ & 1566.9129420 &  467.3925 & 1008.459493 &  599.8342 &  127.814159 &  144.0118 & 1346.415006 & 6343.739337 & 5155.3774 & 1443.882015\\\\\n\\end{tabular}\n",
            "text/plain": [
              "                   TCGA-FB-AAPY-01A TCGA-IB-A7LX-01A TCGA-XN-A8T5-01A\n",
              "ENSG00000000003.15 1461.201455      2959.6249        1432.551062     \n",
              "ENSG00000000005.6     3.084873         0.0000           2.279318     \n",
              "ENSG00000000419.13  950.140848      1538.7172        1361.892219     \n",
              "ENSG00000000457.14  710.549054      1046.7953         455.863504     \n",
              "ENSG00000000460.17  141.904153       410.9841         128.781440     \n",
              "ENSG00000000938.13 1518.785749       187.9555         944.777112     \n",
              "                   TCGA-HZ-A77O-01A TCGA-FB-AAPQ-01A TCGA-3A-A9IL-01A\n",
              "ENSG00000000003.15 1819.118350      1113.3305        774.591947      \n",
              "ENSG00000000005.6     1.147709         0.0000          1.004659      \n",
              "ENSG00000000419.13 1628.598700      1904.5401        777.605923      \n",
              "ENSG00000000457.14  618.615010      1218.0198        466.161690      \n",
              "ENSG00000000460.17  266.268427       173.1400         78.363388      \n",
              "ENSG00000000938.13  603.694796       308.0282        312.448892      \n",
              "                   TCGA-FB-AAPS-01A TCGA-IB-A7M4-01A TCGA-IB-8126-01A\n",
              "ENSG00000000003.15 1488.72121       2095.6024        2077.58619      \n",
              "ENSG00000000005.6    68.41783          0.0000          56.31289      \n",
              "ENSG00000000419.13 1111.15617       2478.8042        1513.25914      \n",
              "ENSG00000000457.14  470.05580        500.1463         637.41399      \n",
              "ENSG00000000460.17  134.30166        215.0942         148.57018      \n",
              "ENSG00000000938.13  974.32052        542.9563         554.74187      \n",
              "                   TCGA-FB-AAPP-01A ⋯ TCGA-FB-A78T-01A TCGA-HZ-7919-01A\n",
              "ENSG00000000003.15 1865.248026      ⋯ 1226.0350110     1388.8903       \n",
              "ENSG00000000005.6     3.132238      ⋯    0.8039574        0.0000       \n",
              "ENSG00000000419.13 2197.265306      ⋯ 1061.2237472     1496.7501       \n",
              "ENSG00000000457.14  953.766623      ⋯  845.7631683      801.1326       \n",
              "ENSG00000000460.17  244.314603      ⋯  186.5181132      257.1440       \n",
              "ENSG00000000938.13   84.570439      ⋯ 1566.9129420      467.3925       \n",
              "                   TCGA-IB-AAUP-01A TCGA-2J-AABI-01A TCGA-3A-A9IV-01A\n",
              "ENSG00000000003.15 1057.359357      1602.9926         192.329878     \n",
              "ENSG00000000005.6     3.206548         0.0000           2.434555     \n",
              "ENSG00000000419.13 1111.069044      1581.6488        1289.097092     \n",
              "ENSG00000000457.14  601.227838       604.2502         377.356089     \n",
              "ENSG00000000460.17  255.722240       284.8293         122.945048     \n",
              "ENSG00000000938.13 1008.459493       599.8342         127.814159     \n",
              "                   TCGA-YY-A8LH-01A TCGA-HV-A5A3-11A TCGA-H6-A45N-11A\n",
              "ENSG00000000003.15 1695.2504        3325.171885       406.607576     \n",
              "ENSG00000000005.6     0.0000           1.075411         5.509588     \n",
              "ENSG00000000419.13 1385.0027        1174.349191      1127.261654     \n",
              "ENSG00000000457.14  690.7234         656.000922       777.953791     \n",
              "ENSG00000000460.17  199.1275         159.160879       242.421861     \n",
              "ENSG00000000938.13  144.0118        1346.415006      6343.739337     \n",
              "                   TCGA-YB-A89D-11A TCGA-H6-8124-11A\n",
              "ENSG00000000003.15 1637.2640        2637.942801     \n",
              "ENSG00000000005.6   340.1974           2.822839     \n",
              "ENSG00000000419.13 1262.1219        1081.147237     \n",
              "ENSG00000000457.14  357.6697         676.775588     \n",
              "ENSG00000000460.17  135.6678         171.487453     \n",
              "ENSG00000000938.13 5155.3774        1443.882015     "
            ]
          },
          "metadata": {}
        }
      ]
    },
    {
      "cell_type": "markdown",
      "source": [
        "#how to add name of genes in selectlab add gene id. Use when you want to highlight particular genes on the plot"
      ],
      "metadata": {
        "id": "NV7epFcD6qrU"
      }
    },
    {
      "cell_type": "code",
      "source": [
        "EnhancedVolcano(res1,\n",
        "                lab = rownames(res1),\n",
        "                x = 'log2FoldChange',\n",
        "                y = 'pvalue',\n",
        "                selectLab = c('ENSG00000287048.1','ENSG00000280032.1'),\n",
        "                title = NULL,\n",
        "                cutoffLineType = 'twodash',\n",
        "                cutoffLineWidth = 0.8,\n",
        "                xlim = c(-8,8),\n",
        "                xlab = bquote(~Log[2]~ 'fold change'),\n",
        "                ylim = c(0,12),\n",
        "                ylab = bquote(~-Log[10]~italic(P)),\n",
        "                pCutoff = 0.05,\n",
        "                FCcutoff = 1.0,\n",
        "                colAlpha = 1,\n",
        "                shape = 19,\n",
        "                subtitle = NULL,\n",
        "                legendPosition = 'top',\n",
        "                legendLabSize = 12,\n",
        "                legendIconSize = 4.0,\n",
        "                gridlines.major = FALSE,\n",
        "                gridlines.minor = FALSE,\n",
        "                drawConnectors = TRUE,\n",
        "                widthConnectors = 1.0,\n",
        "                colConnectors = 'black',\n",
        "                border = 'full' )"
      ],
      "metadata": {
        "colab": {
          "base_uri": "https://localhost:8080/",
          "height": 437
        },
        "id": "7jqdMf02zoJG",
        "outputId": "9de64ba4-3ada-4052-e8c6-5e2a0399f0a3"
      },
      "execution_count": 43,
      "outputs": [
        {
          "output_type": "display_data",
          "data": {
            "text/plain": [
              "plot without title"
            ],
            "image/png": "[encoded data removed]"
          },
          "metadata": {
            "image/png": {
              "width": 420,
              "height": 420
            }
          }
        }
      ]
    },
    {
      "cell_type": "markdown",
      "source": [
        "# To view the Log2FC and pvalue of upregulated genes"
      ],
      "metadata": {
        "id": "LVWYRqOk-T93"
      }
    },
    {
      "cell_type": "code",
      "source": [
        "upreg <- read.csv(\"/content/Upregulated_genes.csv\")\n",
        "upreg_analysis <- upreg[, c(\"X\", \"log2FoldChange\", \"pvalue\")]"
      ],
      "metadata": {
        "id": "GE-64DJ48GrX"
      },
      "execution_count": 49,
      "outputs": []
    },
    {
      "cell_type": "code",
      "source": [
        "head(upreg_analysis, 10)"
      ],
      "metadata": {
        "colab": {
          "base_uri": "https://localhost:8080/",
          "height": 411
        },
        "id": "CASWQRzv8X2o",
        "outputId": "7a52aab8-98b6-4225-f9fc-1bc364b1d7ce"
      },
      "execution_count": 50,
      "outputs": [
        {
          "output_type": "display_data",
          "data": {
            "text/html": [
              "<table class=\"dataframe\">\n",
              "<caption>A data.frame: 10 × 3</caption>\n",
              "<thead>\n",
              "\t<tr><th></th><th scope=col>X</th><th scope=col>log2FoldChange</th><th scope=col>pvalue</th></tr>\n",
              "\t<tr><th></th><th scope=col>&lt;chr&gt;</th><th scope=col>&lt;dbl&gt;</th><th scope=col>&lt;dbl&gt;</th></tr>\n",
              "</thead>\n",
              "<tbody>\n",
              "\t<tr><th scope=row>1</th><td>ENSG00000005073.6 </td><td>4.131807</td><td>3.218394e-04</td></tr>\n",
              "\t<tr><th scope=row>2</th><td>ENSG00000006555.11</td><td>1.371491</td><td>1.798511e-04</td></tr>\n",
              "\t<tr><th scope=row>3</th><td>ENSG00000006611.17</td><td>1.936023</td><td>4.827733e-04</td></tr>\n",
              "\t<tr><th scope=row>4</th><td>ENSG00000011426.11</td><td>2.135292</td><td>2.992366e-04</td></tr>\n",
              "\t<tr><th scope=row>5</th><td>ENSG00000016490.16</td><td>6.750836</td><td>2.268801e-04</td></tr>\n",
              "\t<tr><th scope=row>6</th><td>ENSG00000019102.12</td><td>2.810942</td><td>2.545138e-04</td></tr>\n",
              "\t<tr><th scope=row>7</th><td>ENSG00000043355.12</td><td>8.040983</td><td>5.874235e-08</td></tr>\n",
              "\t<tr><th scope=row>8</th><td>ENSG00000053747.17</td><td>2.381339</td><td>1.430222e-04</td></tr>\n",
              "\t<tr><th scope=row>9</th><td>ENSG00000060140.9 </td><td>2.739854</td><td>3.373649e-06</td></tr>\n",
              "\t<tr><th scope=row>10</th><td>ENSG00000064270.13</td><td>2.227402</td><td>2.135235e-04</td></tr>\n",
              "</tbody>\n",
              "</table>\n"
            ],
            "text/markdown": "\nA data.frame: 10 × 3\n\n| <!--/--> | X &lt;chr&gt; | log2FoldChange &lt;dbl&gt; | pvalue &lt;dbl&gt; |\n|---|---|---|---|\n| 1 | ENSG00000005073.6  | 4.131807 | 3.218394e-04 |\n| 2 | ENSG00000006555.11 | 1.371491 | 1.798511e-04 |\n| 3 | ENSG00000006611.17 | 1.936023 | 4.827733e-04 |\n| 4 | ENSG00000011426.11 | 2.135292 | 2.992366e-04 |\n| 5 | ENSG00000016490.16 | 6.750836 | 2.268801e-04 |\n| 6 | ENSG00000019102.12 | 2.810942 | 2.545138e-04 |\n| 7 | ENSG00000043355.12 | 8.040983 | 5.874235e-08 |\n| 8 | ENSG00000053747.17 | 2.381339 | 1.430222e-04 |\n| 9 | ENSG00000060140.9  | 2.739854 | 3.373649e-06 |\n| 10 | ENSG00000064270.13 | 2.227402 | 2.135235e-04 |\n\n",
            "text/latex": "A data.frame: 10 × 3\n\\begin{tabular}{r|lll}\n  & X & log2FoldChange & pvalue\\\\\n  & <chr> & <dbl> & <dbl>\\\\\n\\hline\n\t1 & ENSG00000005073.6  & 4.131807 & 3.218394e-04\\\\\n\t2 & ENSG00000006555.11 & 1.371491 & 1.798511e-04\\\\\n\t3 & ENSG00000006611.17 & 1.936023 & 4.827733e-04\\\\\n\t4 & ENSG00000011426.11 & 2.135292 & 2.992366e-04\\\\\n\t5 & ENSG00000016490.16 & 6.750836 & 2.268801e-04\\\\\n\t6 & ENSG00000019102.12 & 2.810942 & 2.545138e-04\\\\\n\t7 & ENSG00000043355.12 & 8.040983 & 5.874235e-08\\\\\n\t8 & ENSG00000053747.17 & 2.381339 & 1.430222e-04\\\\\n\t9 & ENSG00000060140.9  & 2.739854 & 3.373649e-06\\\\\n\t10 & ENSG00000064270.13 & 2.227402 & 2.135235e-04\\\\\n\\end{tabular}\n",
            "text/plain": [
              "   X                  log2FoldChange pvalue      \n",
              "1  ENSG00000005073.6  4.131807       3.218394e-04\n",
              "2  ENSG00000006555.11 1.371491       1.798511e-04\n",
              "3  ENSG00000006611.17 1.936023       4.827733e-04\n",
              "4  ENSG00000011426.11 2.135292       2.992366e-04\n",
              "5  ENSG00000016490.16 6.750836       2.268801e-04\n",
              "6  ENSG00000019102.12 2.810942       2.545138e-04\n",
              "7  ENSG00000043355.12 8.040983       5.874235e-08\n",
              "8  ENSG00000053747.17 2.381339       1.430222e-04\n",
              "9  ENSG00000060140.9  2.739854       3.373649e-06\n",
              "10 ENSG00000064270.13 2.227402       2.135235e-04"
            ]
          },
          "metadata": {}
        }
      ]
    },
    {
      "cell_type": "markdown",
      "source": [
        "# To view the Log2FC and pvalue of downregulated genes"
      ],
      "metadata": {
        "id": "GHbJSM3D-ZdZ"
      }
    },
    {
      "cell_type": "code",
      "source": [
        "downreg <- read.csv(\"/content/Downregulated_genes.csv\")\n",
        "downreg_analysis <- downreg[, c(\"X\", \"log2FoldChange\", \"pvalue\")]"
      ],
      "metadata": {
        "id": "v-IF-9jh-Ca3"
      },
      "execution_count": 51,
      "outputs": []
    },
    {
      "cell_type": "code",
      "source": [
        "head(downreg_analysis,10)"
      ],
      "metadata": {
        "colab": {
          "base_uri": "https://localhost:8080/",
          "height": 411
        },
        "id": "q3qaIMeJ8ZTL",
        "outputId": "440df686-2d63-4b9c-9340-510c946339b0"
      },
      "execution_count": 52,
      "outputs": [
        {
          "output_type": "display_data",
          "data": {
            "text/html": [
              "<table class=\"dataframe\">\n",
              "<caption>A data.frame: 10 × 3</caption>\n",
              "<thead>\n",
              "\t<tr><th></th><th scope=col>X</th><th scope=col>log2FoldChange</th><th scope=col>pvalue</th></tr>\n",
              "\t<tr><th></th><th scope=col>&lt;chr&gt;</th><th scope=col>&lt;dbl&gt;</th><th scope=col>&lt;dbl&gt;</th></tr>\n",
              "</thead>\n",
              "<tbody>\n",
              "\t<tr><th scope=row>1</th><td>ENSG00000000938.13</td><td>-2.0899540</td><td>5.735339e-05</td></tr>\n",
              "\t<tr><th scope=row>2</th><td>ENSG00000005844.19</td><td>-2.3744408</td><td>1.835468e-04</td></tr>\n",
              "\t<tr><th scope=row>3</th><td>ENSG00000007129.18</td><td>-1.9545327</td><td>2.211128e-04</td></tr>\n",
              "\t<tr><th scope=row>4</th><td>ENSG00000007264.15</td><td>-2.0536054</td><td>1.608479e-04</td></tr>\n",
              "\t<tr><th scope=row>5</th><td>ENSG00000010327.10</td><td>-1.4656701</td><td>5.293770e-04</td></tr>\n",
              "\t<tr><th scope=row>6</th><td>ENSG00000010671.16</td><td>-2.1825586</td><td>3.095033e-04</td></tr>\n",
              "\t<tr><th scope=row>7</th><td>ENSG00000015285.11</td><td>-1.8511275</td><td>4.776875e-04</td></tr>\n",
              "\t<tr><th scope=row>8</th><td>ENSG00000028277.21</td><td>-2.2554336</td><td>2.085746e-04</td></tr>\n",
              "\t<tr><th scope=row>9</th><td>ENSG00000073861.3 </td><td>-2.9354117</td><td>2.673012e-06</td></tr>\n",
              "\t<tr><th scope=row>10</th><td>ENSG00000076513.17</td><td>-0.8963595</td><td>4.941238e-04</td></tr>\n",
              "</tbody>\n",
              "</table>\n"
            ],
            "text/markdown": "\nA data.frame: 10 × 3\n\n| <!--/--> | X &lt;chr&gt; | log2FoldChange &lt;dbl&gt; | pvalue &lt;dbl&gt; |\n|---|---|---|---|\n| 1 | ENSG00000000938.13 | -2.0899540 | 5.735339e-05 |\n| 2 | ENSG00000005844.19 | -2.3744408 | 1.835468e-04 |\n| 3 | ENSG00000007129.18 | -1.9545327 | 2.211128e-04 |\n| 4 | ENSG00000007264.15 | -2.0536054 | 1.608479e-04 |\n| 5 | ENSG00000010327.10 | -1.4656701 | 5.293770e-04 |\n| 6 | ENSG00000010671.16 | -2.1825586 | 3.095033e-04 |\n| 7 | ENSG00000015285.11 | -1.8511275 | 4.776875e-04 |\n| 8 | ENSG00000028277.21 | -2.2554336 | 2.085746e-04 |\n| 9 | ENSG00000073861.3  | -2.9354117 | 2.673012e-06 |\n| 10 | ENSG00000076513.17 | -0.8963595 | 4.941238e-04 |\n\n",
            "text/latex": "A data.frame: 10 × 3\n\\begin{tabular}{r|lll}\n  & X & log2FoldChange & pvalue\\\\\n  & <chr> & <dbl> & <dbl>\\\\\n\\hline\n\t1 & ENSG00000000938.13 & -2.0899540 & 5.735339e-05\\\\\n\t2 & ENSG00000005844.19 & -2.3744408 & 1.835468e-04\\\\\n\t3 & ENSG00000007129.18 & -1.9545327 & 2.211128e-04\\\\\n\t4 & ENSG00000007264.15 & -2.0536054 & 1.608479e-04\\\\\n\t5 & ENSG00000010327.10 & -1.4656701 & 5.293770e-04\\\\\n\t6 & ENSG00000010671.16 & -2.1825586 & 3.095033e-04\\\\\n\t7 & ENSG00000015285.11 & -1.8511275 & 4.776875e-04\\\\\n\t8 & ENSG00000028277.21 & -2.2554336 & 2.085746e-04\\\\\n\t9 & ENSG00000073861.3  & -2.9354117 & 2.673012e-06\\\\\n\t10 & ENSG00000076513.17 & -0.8963595 & 4.941238e-04\\\\\n\\end{tabular}\n",
            "text/plain": [
              "   X                  log2FoldChange pvalue      \n",
              "1  ENSG00000000938.13 -2.0899540     5.735339e-05\n",
              "2  ENSG00000005844.19 -2.3744408     1.835468e-04\n",
              "3  ENSG00000007129.18 -1.9545327     2.211128e-04\n",
              "4  ENSG00000007264.15 -2.0536054     1.608479e-04\n",
              "5  ENSG00000010327.10 -1.4656701     5.293770e-04\n",
              "6  ENSG00000010671.16 -2.1825586     3.095033e-04\n",
              "7  ENSG00000015285.11 -1.8511275     4.776875e-04\n",
              "8  ENSG00000028277.21 -2.2554336     2.085746e-04\n",
              "9  ENSG00000073861.3  -2.9354117     2.673012e-06\n",
              "10 ENSG00000076513.17 -0.8963595     4.941238e-04"
            ]
          },
          "metadata": {}
        }
      ]
    }
  ]
}